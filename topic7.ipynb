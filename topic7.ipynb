{
 "cells": [
  {
   "cell_type": "markdown",
   "id": "381dc302",
   "metadata": {},
   "source": [
    "### 빅데이터분석개론 토픽7\n",
    "- 2024 . 06 . 27 . \n",
    "- https://blog.naver.com/xook___/222368229724\n",
    "-------"
   ]
  },
  {
   "cell_type": "markdown",
   "id": "1f029423",
   "metadata": {},
   "source": [
    "#### 7단원. 데이터를 리스트와 튜플로 묶어보자\n",
    "\n",
    "- 리스트를 서로 더하려면 + (대응하는 원소끼리 더하기 위해선 numpy를 사용해야 함)\n",
    "- list() 안에 range() : 한꺼번에 숫자를 넣을 수 있음\n",
    "- in, not in 키워드로 특정 요소가 안에 있는지 판단 가능 (O(n))"
   ]
  },
  {
   "cell_type": "code",
   "execution_count": 3,
   "id": "d7c9edb1",
   "metadata": {
    "ExecuteTime": {
     "end_time": "2024-06-29T14:31:37.103784Z",
     "start_time": "2024-06-29T14:31:37.100008Z"
    }
   },
   "outputs": [
    {
     "name": "stdout",
     "output_type": "stream",
     "text": [
      "[1, 2, 3, 4, 5, 6, 7, 8, 9, 10]\n",
      "평균 :  5.5\n",
      "any :  True\n"
     ]
    }
   ],
   "source": [
    "slist = list(range(1, 11)) \n",
    "print (slist) # 1 ~ 10\n",
    "print(\"평균 : \", sum(slist) / len(slist)) # 평균값 (len(리스트) : 리스트 안 원소의 갯수)\n",
    "print(\"any : \", any(slist)) # 0이 아닌 원소가 하나라도 있을 경우 true"
   ]
  },
  {
   "cell_type": "code",
   "execution_count": 1,
   "id": "dca4d449",
   "metadata": {
    "ExecuteTime": {
     "end_time": "2024-06-30T10:08:06.117478Z",
     "start_time": "2024-06-30T10:08:06.108315Z"
    }
   },
   "outputs": [
    {
     "name": "stdout",
     "output_type": "stream",
     "text": [
      "[9765, 3441, 2954, 1531]\n",
      "최댓값 :  9765\n",
      "최소값 :  1531\n",
      "평균값 :  4422.75\n"
     ]
    }
   ],
   "source": [
    "seoul = 9765\n",
    "busan = 3441\n",
    "incheon = 2954\n",
    "daejeon = 1531\n",
    "popul = [seoul, busan, incheon]\n",
    "\n",
    "popul.append(daejeon)\n",
    "print (popul)\n",
    "# print (\"최댓값 : \", max(popul))\n",
    "# print (\"최소값 : \", min(popul))\n",
    "# print (\"평균값 : \", sum(popul) / len(popul))\n",
    "\n",
    "sumation = 0\n",
    "maxval, minval = popul[0], popul[0] # 동시 할당\n",
    "# maxval = minval = popul[0] <-- 다중 할당\n",
    "cnt = 0\n",
    "\n",
    "for compo in popul : \n",
    "    sumation += compo\n",
    "    \n",
    "    if maxval < compo : \n",
    "        maxval = compo\n",
    "        \n",
    "    if minval > compo :\n",
    "        minval = compo\n",
    "        \n",
    "    cnt += 1\n",
    "\n",
    "print (\"최댓값 : \", maxval)\n",
    "print (\"최소값 : \", minval)\n",
    "print (\"평균값 : \", sumation / cnt)"
   ]
  },
  {
   "cell_type": "code",
   "execution_count": 6,
   "id": "89bb80c3",
   "metadata": {
    "ExecuteTime": {
     "end_time": "2024-06-29T14:33:22.587668Z",
     "start_time": "2024-06-29T14:33:22.584230Z"
    }
   },
   "outputs": [
    {
     "name": "stdout",
     "output_type": "stream",
     "text": [
      "e\n",
      "a\n"
     ]
    }
   ],
   "source": [
    "# 문자열 리스트에서의 min, max\n",
    "dic = ['a', 'b', 'c', 'd', 'e']\n",
    "print (max(dic)) # e \n",
    "print (min(dic)) # a"
   ]
  },
  {
   "cell_type": "code",
   "execution_count": 7,
   "id": "073e9da3",
   "metadata": {
    "ExecuteTime": {
     "end_time": "2024-06-29T14:33:25.531579Z",
     "start_time": "2024-06-29T14:33:25.528050Z"
    }
   },
   "outputs": [
    {
     "name": "stdout",
     "output_type": "stream",
     "text": [
      "[1, 2, 3, 4, 5]\n"
     ]
    }
   ],
   "source": [
    "# 리스트 전체 복사\n",
    "nums = [1, 2, 3, 4, 5]\n",
    "nums_copy = nums[:] # 리스트를 이러면 전체 복사할 수 있음 (얕은 복사)\n",
    "print (nums_copy)"
   ]
  },
  {
   "cell_type": "code",
   "execution_count": 10,
   "id": "6c1fba36",
   "metadata": {
    "ExecuteTime": {
     "end_time": "2024-06-29T14:34:55.626392Z",
     "start_time": "2024-06-29T14:34:55.622050Z"
    }
   },
   "outputs": [
    {
     "name": "stdout",
     "output_type": "stream",
     "text": [
      "6\n",
      "[5, 6]\n",
      "[4, 5, 6]\n",
      "[5, 7, 9]\n",
      "[9, 8, 7, 6, 5, 4]\n",
      "[4, 5, 6, 7, 8, 9]\n"
     ]
    }
   ],
   "source": [
    "# 슬라이싱하면 원래의 리스트는 손상되지 않는다\n",
    "numbers = list(range(4, 10))\n",
    "\n",
    "print (numbers[2])\n",
    "print (numbers[1:3])\n",
    "print (numbers[:3])\n",
    "print (numbers[1::2]) # 리스트를 1번째부터 읽어오되, 2의 스탭을 가지고 -> 5, 7, 9\n",
    "print (numbers[::-1]) # 뒤집기\n",
    "print(numbers) # 원래 리스트 손상 안됨"
   ]
  },
  {
   "cell_type": "code",
   "execution_count": 12,
   "id": "9a589e70",
   "metadata": {
    "ExecuteTime": {
     "end_time": "2024-06-29T14:36:05.076935Z",
     "start_time": "2024-06-29T14:36:05.072681Z"
    }
   },
   "outputs": [
    {
     "name": "stdout",
     "output_type": "stream",
     "text": [
      "9765\n",
      "2954\n",
      "['seoul', 'busan', 'incheon']\n",
      "[9765, 3441, 2954] 5386.666666666667\n"
     ]
    }
   ],
   "source": [
    "popula = ['seoul', 9765, 'busan', 3441, 'incheon', 2954]\n",
    "\n",
    "print (popula[1]) # 9765\n",
    "print (popula[-1]) # 2954\n",
    "print (popula[0::2]) # 0부터 읽어오되, 2의 스텝 -> seoul, busan, incheon\n",
    "print (popula[1::2], sum(popula[1::2]) / len(popula[1::2])) # 1부터 읽어오되, 2의 스텝 -> 9765, 3441, 2954"
   ]
  },
  {
   "cell_type": "code",
   "execution_count": 13,
   "id": "3d9f4bc6",
   "metadata": {
    "ExecuteTime": {
     "end_time": "2024-06-29T14:36:12.947876Z",
     "start_time": "2024-06-29T14:36:12.944316Z"
    },
    "scrolled": true
   },
   "outputs": [
    {
     "name": "stdout",
     "output_type": "stream",
     "text": [
      "p\n",
      "strong\n",
      "python\n",
      "is\n"
     ]
    }
   ],
   "source": [
    "sentence = \"python is strong\"\n",
    "print (sentence[0])\n",
    "print (sentence[10:])\n",
    "print (sentence[:6])\n",
    "print (sentence[7:9])"
   ]
  },
  {
   "attachments": {
    "%E1%84%89%E1%85%B3%E1%84%8F%E1%85%B3%E1%84%85%E1%85%B5%E1%86%AB%E1%84%89%E1%85%A3%E1%86%BA%202024-06-29%20%E1%84%8B%E1%85%A9%E1%84%92%E1%85%AE%2011.39.52.png": {
     "image/png": "[encoded data removed]"
    }
   },
   "cell_type": "markdown",
   "id": "5ab2f64d",
   "metadata": {},
   "source": [
    "![%E1%84%89%E1%85%B3%E1%84%8F%E1%85%B3%E1%84%85%E1%85%B5%E1%86%AB%E1%84%89%E1%85%A3%E1%86%BA%202024-06-29%20%E1%84%8B%E1%85%A9%E1%84%92%E1%85%AE%2011.39.52.png](attachment:%E1%84%89%E1%85%B3%E1%84%8F%E1%85%B3%E1%84%85%E1%85%B5%E1%86%AB%E1%84%89%E1%85%A3%E1%86%BA%202024-06-29%20%E1%84%8B%E1%85%A9%E1%84%92%E1%85%AE%2011.39.52.png)"
   ]
  },
  {
   "cell_type": "code",
   "execution_count": 14,
   "id": "e060e295",
   "metadata": {
    "ExecuteTime": {
     "end_time": "2024-06-29T14:36:52.500580Z",
     "start_time": "2024-06-29T14:36:52.496900Z"
    }
   },
   "outputs": [
    {
     "name": "stdout",
     "output_type": "stream",
     "text": [
      "!!!!! d a r a m j !!!!! i\n"
     ]
    }
   ],
   "source": [
    "sentence = list(\"daramji\")\n",
    "sentence.insert(0, '!!!!!') # 0번째 자리에\n",
    "sentence.insert(-1, '!!!!!') # -1번째 자리에 (이러면 끝에있는 원소가 뒤로 빠짐)\n",
    "print (*sentence)"
   ]
  },
  {
   "cell_type": "code",
   "execution_count": 21,
   "id": "b3d5addc",
   "metadata": {
    "ExecuteTime": {
     "end_time": "2024-06-29T14:39:33.125248Z",
     "start_time": "2024-06-29T14:39:33.121942Z"
    },
    "scrolled": true
   },
   "outputs": [
    {
     "name": "stdout",
     "output_type": "stream",
     "text": [
      "['a', 'b', 'c', 'd', 'e', 'f']\n"
     ]
    }
   ],
   "source": [
    "chare = ['a', 'b', 'd', 'f']\n",
    "chare.insert(2, 'c') # 2번째 자리에 c 넣을거임 -> d, f가 밀려남\n",
    "chare.insert(4, 'e') # 4번째 자리에 e 넣을거임 -> f가 밀려남\n",
    "print (chare)"
   ]
  },
  {
   "cell_type": "code",
   "execution_count": 23,
   "id": "40673dce",
   "metadata": {
    "ExecuteTime": {
     "end_time": "2024-06-29T14:42:50.252413Z",
     "start_time": "2024-06-29T14:42:50.248447Z"
    }
   },
   "outputs": [
    {
     "name": "stdout",
     "output_type": "stream",
     "text": [
      "1\n",
      "[2, 3, 4, 5, 6, 7, 8, 9, 10]\n",
      "[3, 4, 5, 6, 7, 8, 9, 10]\n",
      "[4, 5, 6, 7, 8, 9, 10]\n"
     ]
    }
   ],
   "source": [
    "# 리스트에서 특정 값 삭제 : remove, pop, del\n",
    "# pop과 del은 위치로 접근, remove는 요소의 실값으로 접근\n",
    "\n",
    "slist = list(range(1, 11))\n",
    "\n",
    "print(slist.pop(0)) # 1\n",
    "print (slist)\n",
    "\n",
    "slist.remove(2) \n",
    "print (slist)\n",
    "\n",
    "del slist[0] # del은 주의를 기울어야 함 (리스트의 메소드 아님, 메모리에서 삭제)\n",
    "print (slist)"
   ]
  },
  {
   "cell_type": "code",
   "execution_count": 22,
   "id": "eef2cd6f",
   "metadata": {
    "ExecuteTime": {
     "end_time": "2024-06-29T14:39:42.998590Z",
     "start_time": "2024-06-29T14:39:42.995394Z"
    }
   },
   "outputs": [
    {
     "name": "stdout",
     "output_type": "stream",
     "text": [
      "[1, 2, 3, 4, -5] [1, 2, 3, 4, -5]\n",
      "4509333760 4509333760\n"
     ]
    }
   ],
   "source": [
    "alist = [1, 2, 3, 4, 5]\n",
    "blist = alist # 참조값 복사\n",
    "alist[-1] = -5\n",
    "\n",
    "print (alist, blist)\n",
    "print (id(alist), id(blist))"
   ]
  },
  {
   "cell_type": "code",
   "execution_count": 24,
   "id": "63842c96",
   "metadata": {
    "ExecuteTime": {
     "end_time": "2024-06-29T14:43:53.612224Z",
     "start_time": "2024-06-29T14:43:53.608385Z"
    }
   },
   "outputs": [
    {
     "name": "stdout",
     "output_type": "stream",
     "text": [
      "[1, 2, 3, 4, -5] [1, 2, 3, 4, 5]\n",
      "4516162816 4509791040\n"
     ]
    }
   ],
   "source": [
    "alist = [1, 2, 3, 4, 5]\n",
    "blist = list(alist) # alist[:], alist.copy()\n",
    "# 위와 같이 하면 alist의 복사본이 생성되며, blist는 이 복사본을 참조하기 때문에 다른 값임\n",
    "# 컴퓨터에 따라서 id는 다르다 (메모리가 다르니깐)\n",
    "alist[-1] = -5\n",
    "\n",
    "print (alist, blist)\n",
    "print (id(alist), id(blist))"
   ]
  },
  {
   "cell_type": "code",
   "execution_count": 25,
   "id": "1cb82311",
   "metadata": {
    "ExecuteTime": {
     "end_time": "2024-06-29T14:44:09.277491Z",
     "start_time": "2024-06-29T14:44:09.272695Z"
    }
   },
   "outputs": [
    {
     "name": "stdout",
     "output_type": "stream",
     "text": [
      "81 - 97 / 30 % 14\n",
      "77.76666666666667\n"
     ]
    }
   ],
   "source": [
    "import random\n",
    "\n",
    "operator = [' + ', ' - ', ' * ', ' / ', ' % ']\n",
    "operand1 = str(random.randint(0, 101))\n",
    "operand2 = str(random.randint(0, 101))\n",
    "operand3 = str(random.randint(0, 101))\n",
    "operand4 = str(random.randint(0, 101))\n",
    "\n",
    "operator1 = random.choice(operator)\n",
    "operator2 = random.choice(operator)\n",
    "operator3 = random.choice(operator)\n",
    "\n",
    "formula = operand1 + operator1 + operand2 + operator2 + operand3 + operator3 + operand4\n",
    "print(formula)\n",
    "print(eval(formula))"
   ]
  },
  {
   "cell_type": "code",
   "execution_count": 26,
   "id": "c9b2b724",
   "metadata": {
    "ExecuteTime": {
     "end_time": "2024-06-29T14:44:11.203793Z",
     "start_time": "2024-06-29T14:44:11.200049Z"
    }
   },
   "outputs": [
    {
     "name": "stdout",
     "output_type": "stream",
     "text": [
      "['D', 'M', 'T']\n"
     ]
    }
   ],
   "source": [
    "# 리스트 함축\n",
    "word = ['daramji', 'mya', 'tokki']\n",
    "print ([w[0].upper() for w in word])"
   ]
  },
  {
   "cell_type": "code",
   "execution_count": 27,
   "id": "d38705ff",
   "metadata": {
    "ExecuteTime": {
     "end_time": "2024-06-29T14:44:23.388200Z",
     "start_time": "2024-06-29T14:44:23.384474Z"
    }
   },
   "outputs": [
    {
     "name": "stdout",
     "output_type": "stream",
     "text": [
      "[2, 4, 6, 8, 10]\n"
     ]
    }
   ],
   "source": [
    "slist = [1, '2', 3, '4', 5, '6', 7, '8', 9, '10']\n",
    "print ([int(x) for x in slist if type(x) == str and x.isdigit() == True])"
   ]
  },
  {
   "cell_type": "code",
   "execution_count": 28,
   "id": "460b33d2",
   "metadata": {
    "ExecuteTime": {
     "end_time": "2024-06-29T14:44:24.872732Z",
     "start_time": "2024-06-29T14:44:24.864958Z"
    }
   },
   "outputs": [
    {
     "data": {
      "text/plain": [
       "[(1, 1), (1, 2), (1, 3), (2, 1), (2, 2), (2, 3), (3, 1), (3, 2), (3, 3)]"
      ]
     },
     "execution_count": 28,
     "metadata": {},
     "output_type": "execute_result"
    }
   ],
   "source": [
    "nlist = [(x, y) for x in [1, 2, 3] for y in [1, 2, 3]]\n",
    "nlist"
   ]
  },
  {
   "cell_type": "markdown",
   "id": "381f6230",
   "metadata": {},
   "source": [
    "--------\n",
    "- **<mark>tuple이랑 set은 다르다</mark>** : https://miki3079.tistory.com/108   \n",
    "- 리스트와 튜플\n",
    "    - 리스트 : 가변속성, 인덱스로 특정 요소에 접근\n",
    "    - 튜플 : 불변속성, 튜플의 내용이 한번 지정되면 변경 불가 (소괄호), 리스트에 비해 접근속도가 빠름"
   ]
  },
  {
   "cell_type": "code",
   "execution_count": 29,
   "id": "c4f3f06c",
   "metadata": {
    "ExecuteTime": {
     "end_time": "2024-06-29T14:46:21.160282Z",
     "start_time": "2024-06-29T14:46:21.156875Z"
    }
   },
   "outputs": [
    {
     "name": "stdout",
     "output_type": "stream",
     "text": [
      "20 10\n"
     ]
    }
   ],
   "source": [
    "# 원래라면 임시변수를 이용하여 두 수의 값을 교환할 수 있는데, 튜플을 이용하면 아래와 같이 구현 가능\n",
    "a = 10\n",
    "b = 20\n",
    "a, b = b, a\n",
    "print (a, b)"
   ]
  },
  {
   "cell_type": "markdown",
   "id": "82214140",
   "metadata": {},
   "source": [
    "- 객체지향 프로그래밍 : 다양한 객체를 클래스로 미리 정의해두고, 객체들끼리의 상호작용으로 작업\n",
    "- 각 객체를 인스턴스라고 부름\n",
    "- 특정한 클래스에 속한 객체들이 사용할 수 있는 함수를 메소드라고 함\n",
    "- 모든 것이 객체임"
   ]
  }
 ],
 "metadata": {
  "kernelspec": {
   "display_name": "Python 3 (ipykernel)",
   "language": "python",
   "name": "python3"
  },
  "language_info": {
   "codemirror_mode": {
    "name": "ipython",
    "version": 3
   },
   "file_extension": ".py",
   "mimetype": "text/x-python",
   "name": "python",
   "nbconvert_exporter": "python",
   "pygments_lexer": "ipython3",
   "version": "3.11.6"
  }
 },
 "nbformat": 4,
 "nbformat_minor": 5
}
