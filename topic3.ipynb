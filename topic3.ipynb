{
 "cells": [
  {
   "cell_type": "markdown",
   "id": "fea23285",
   "metadata": {},
   "source": [
    "### 빅데이터분석개론 토픽3\n",
    "- 2024 . 06 . 24 . ~ 2024 . 06 . 25 .\n",
    "- https://blog.naver.com/xook___/222368229724\n",
    "-------"
   ]
  },
  {
   "cell_type": "markdown",
   "id": "41f6cd03",
   "metadata": {},
   "source": [
    "수식과 평가\n",
    "- 컴퓨터 프로그래밍에서의 수식 : 수학적 관계를 나타내는 식 X, 하나의 값으로 평가될 수 있는 표현\n",
    "    - 7 * 7 * 1 == 49 (7 * 7 * 1이라는 수식은 49로 평가될 수 있다.)\n",
    "\n",
    "<br>\n",
    "\n",
    "할당 (파이썬은 선언하지 않고 바로 사용이 가능)\n",
    "- 다중 할당 : 동시에 2개 이상의 변수를 같은 값을 할당할 수 있다\n",
    "    - x = y = 10 (x랑 y에 동시에 10 할당)\n",
    "- 동시 할당 : 동시에 2개 이상의 변수를 각각 다른 값을 할당할 수 있다\n",
    "    - x, y = 10, 20 (x에는 10, y에는 20을 할당)\n",
    "- 복합 할당 : 현재 실행 중인 연산자와 등호를 겹쳐서 표현이 가능함\n",
    "    - i += 10 : i = i + 10\n",
    "    - i -= 10 ; i = i - 10\n",
    "    - i *= 10 ; i = i * 10\n",
    "    - i /= 10 ; i = i / 10\n",
    "    - i //= 10 ; i = i // 10\n",
    "    - i **= 10 ; i = i ** 10\n",
    "    - i %= 10 ; i = i % 10\n",
    "    - i >>= 10 ; i = i >> 10\n",
    "    - i <<= 10 ; i = i << 10\n",
    "    - i ^= 10 ; i = i ^ 10 \n",
    "    - i |= 10 ; i = i | 10\n",
    "    - i &= 10; i = i & 10"
   ]
  },
  {
   "cell_type": "code",
   "execution_count": 1,
   "id": "ad5c970f",
   "metadata": {
    "ExecuteTime": {
     "end_time": "2024-06-28T07:49:16.337409Z",
     "start_time": "2024-06-28T07:49:12.671230Z"
    }
   },
   "outputs": [
    {
     "name": "stdout",
     "output_type": "stream",
     "text": [
      "초를 입력 : 6000\n",
      "시간, 분, 초 : (1, 40, 0)\n"
     ]
    }
   ],
   "source": [
    "# 연산자 : 피연산자들끼리 특정 연산을 수행하게 해주는 것\n",
    "# 나머지 연산자는 짝수, 홀수 구분에 많이 쓰임\n",
    "\n",
    "# 초단위로 입력 후에 시간, 분, 초\n",
    "input_num = int(input(\"초를 입력 : \"))\n",
    "\n",
    "hour = input_num // 60 // 60 # 초 단위로 입력받았기 때문에 60을 두번 나누어주면 시간으로 변환이 가능할 것임\n",
    "remaining_seconds = input_num % (60 * 60) # 시간으로 남은 나머지가 남은 초가 될 것임\n",
    "minu = remaining_seconds // 60 # 초 단위를 60으로 나누어주면 분이 될 것임\n",
    "remaining_seconds = input_num % 60 # 입력받은 초에서 60을 나누면 분이 될 것임\n",
    "\n",
    "print (f'시간, 분, 초 : {hour, minu, remaining_seconds}')"
   ]
  },
  {
   "cell_type": "code",
   "execution_count": null,
   "id": "d01f75a6",
   "metadata": {},
   "outputs": [],
   "source": [
    "# 터틀 그래픽으로 정n각형 그리기\n",
    "import turtle\n",
    "t = turtle.Turtle() \n",
    "\n",
    "N = int(turtle.textinput(\"angle?\", \"number of angle?\")) # textinput은 Turtle 안에 속해있는 멤버함수가 아니다\n",
    "length = int(turtle.textinput(\"length?\", \"length?\"))\n",
    "\n",
    "for _ in range (N) :\n",
    "    t.forward (length)\n",
    "    t.left (360 / N)"
   ]
  },
  {
   "cell_type": "code",
   "execution_count": null,
   "id": "27e9cdbc",
   "metadata": {},
   "outputs": [],
   "source": [
    "# 화씨온도 <-> 섭씨온도 \n",
    "deg = float(input(\"온도 입력 : \"))\n",
    "mode = int(input(\"변경 : 화씨온도 (0) or 섭씨온도 (1) : \"))\n",
    "\n",
    "match (mode) :\n",
    "    case 0 : \n",
    "        rst = (deg - 32) * 5 / 9\n",
    "        \n",
    "    case 1 : \n",
    "        rst = 9 * deg / 5 + 32\n",
    "\n",
    "print (rst)"
   ]
  },
  {
   "cell_type": "code",
   "execution_count": null,
   "id": "aa44a241",
   "metadata": {},
   "outputs": [],
   "source": [
    "# rfm\n",
    "def get_rfm (height, waist, gender) :\n",
    "    return 64 - (20 * (height / waist)) + 12 * gender\n",
    "\n",
    "gender = int(input(\"female(1), male(0) : \"))\n",
    "height = float(input(\"height? : \"))\n",
    "waist = float(input(\"waist? : \"))\n",
    "\n",
    "print (get_rfm(height, waist, gender))"
   ]
  },
  {
   "cell_type": "markdown",
   "id": "1011b499",
   "metadata": {},
   "source": [
    "--------\n",
    "\n",
    "- 비교 연산자의 결과는 boolean\n",
    "    - True, False\n",
    "- boolean은 안에 빈 문자열이나, 0, None이면 False이고 나머지는 전부 True임\n",
    "- boolean의 연산은 논리 연산자로 수행 :  and, or, not"
   ]
  },
  {
   "cell_type": "code",
   "execution_count": 4,
   "id": "3fc86491",
   "metadata": {
    "ExecuteTime": {
     "end_time": "2024-06-28T07:54:48.873151Z",
     "start_time": "2024-06-28T07:54:48.868695Z"
    }
   },
   "outputs": [
    {
     "name": "stdout",
     "output_type": "stream",
     "text": [
      "True\n",
      "False\n",
      "True\n",
      "False\n",
      "False\n",
      "True\n",
      "False\n",
      "True\n",
      "False\n"
     ]
    }
   ],
   "source": [
    "# boolean\n",
    "print(bool(10)) # true\n",
    "print(bool(0)) # false\n",
    "print(bool(1)) # true\n",
    "print(bool(None)) # false\n",
    "print(bool('')) # false\n",
    "print(bool('daramji')) # true\n",
    "print(not(bool('daramji'))) # true\n",
    "print(bool('daramji') or bool(0)) # true\n",
    "print(bool('daramji') and bool(0)) # false"
   ]
  },
  {
   "cell_type": "markdown",
   "id": "aeee48d9",
   "metadata": {},
   "source": [
    "- 비트 단위의 연산은 비트 단위 연산자로 처리\n",
    "- 비트로의 형변환은 bin 키워드 사용\n",
    "- &, |, ^, ~, <<, >>"
   ]
  },
  {
   "cell_type": "code",
   "execution_count": 16,
   "id": "735247b5",
   "metadata": {
    "ExecuteTime": {
     "end_time": "2024-06-28T08:10:45.558783Z",
     "start_time": "2024-06-28T08:10:45.553217Z"
    }
   },
   "outputs": [
    {
     "name": "stdout",
     "output_type": "stream",
     "text": [
      "0b1 0b10 0b11 0b100 0b101 0b110 0b111 0b1000 0b1001 0b1010 \n",
      "bin끼리의 연산은 괄호 안에서만 진행\n",
      "0b1001 0b1010 0b1000\n",
      "0b1001 0b1010 0b1011\n",
      "0b1001 0b1010 0b11\n",
      "0b1010 0b101\n",
      "0b1010 0b10100\n",
      "0b1010 -0b1011\n"
     ]
    }
   ],
   "source": [
    "# bin (binary)\n",
    "for i in range (1, 11) :\n",
    "    print (bin(i), end=' ')\n",
    "\n",
    "print()\n",
    "\n",
    "try : \n",
    "    print (bin(10), bin(1), bin(10) & bin(1))\n",
    "except : \n",
    "    print (\"bin끼리의 연산은 괄호 안에서만 진행\")\n",
    "\n",
    "print (bin(9), bin(10), bin(9 & 10))\n",
    "print (bin(9), bin(10), bin(9 | 10))\n",
    "print (bin(9), bin(10), bin(9 ^ 10))\n",
    "print (bin(10), bin(10 >> 1)) # 오른쪽으로 1비트씩 이동\n",
    "print (bin(10), bin(10 << 1)) # 왼쪽으로 1비트씩 이동\n",
    "print (bin(10), bin(~10)) # 음수 (2의 보수)"
   ]
  },
  {
   "cell_type": "code",
   "execution_count": 17,
   "id": "dbabc660",
   "metadata": {
    "ExecuteTime": {
     "end_time": "2024-06-28T08:12:30.497419Z",
     "start_time": "2024-06-28T08:12:28.733034Z"
    }
   },
   "outputs": [
    {
     "name": "stdout",
     "output_type": "stream",
     "text": [
      "10 20 30\n",
      "60\n"
     ]
    }
   ],
   "source": [
    "# map (int 할당)\n",
    "x, y, z = map(int, input().split()) # 공백을 기준으로 변수 받음\n",
    "print (x + y + z)"
   ]
  },
  {
   "cell_type": "code",
   "execution_count": 20,
   "id": "7d4d8a49",
   "metadata": {
    "ExecuteTime": {
     "end_time": "2024-06-28T08:30:15.172279Z",
     "start_time": "2024-06-28T08:30:15.167709Z"
    }
   },
   "outputs": [
    {
     "name": "stdout",
     "output_type": "stream",
     "text": [
      "0.014978479225359775\n",
      "5\n",
      "4\n",
      "3\n",
      "3\n",
      "[5, 1, 2, 3, 4]\n",
      "3\n"
     ]
    }
   ],
   "source": [
    "# random 라이브러리\n",
    "\n",
    "import random\n",
    "\n",
    "print(random.random()) # 0~1 사이의 난수 출력\n",
    "print(random.randint(1, 6)) # 1~6 사이의 정수 난수 출력 (6포함 O)\n",
    "print(random.randrange(6)) # 0~5 사이의 정수 난수 출력 (6포함 X)\n",
    "print(random.randrange(1, 6)) # 1~5 사이의 정수 난수 출력 (6포함 X)\n",
    "print(random.randrange(1, 6, 2)) # 1~5 사이의 정수 난수 중 1, 3, 5 중 정수 난수 출력 (6포함 X)\n",
    "\n",
    "nums = [1, 2, 3, 4, 5]\n",
    "random.shuffle(nums)\n",
    "print(nums)\n",
    "\n",
    "print(random.choice(nums))"
   ]
  },
  {
   "cell_type": "code",
   "execution_count": 24,
   "id": "a374108e",
   "metadata": {
    "ExecuteTime": {
     "end_time": "2024-06-28T08:31:54.553962Z",
     "start_time": "2024-06-28T08:31:54.550764Z"
    }
   },
   "outputs": [
    {
     "name": "stdout",
     "output_type": "stream",
     "text": [
      "8.0\n",
      "2.0\n",
      "4.605170185988092\n",
      "3.141592653589793\n",
      "1.0\n"
     ]
    }
   ],
   "source": [
    "# math 라이브러리\n",
    "\n",
    "import math \n",
    "\n",
    "print (math.pow(2, 3)) # 2 ** 3\n",
    "print (math.fabs(-2)) # 절댓값\n",
    "print (math.log(100)) # log_100 (상용로그)\n",
    "print (math.pi) # 원주율\n",
    "print (math.sin(math.pi / 2.0))"
   ]
  }
 ],
 "metadata": {
  "kernelspec": {
   "display_name": "Python 3 (ipykernel)",
   "language": "python",
   "name": "python3"
  },
  "language_info": {
   "codemirror_mode": {
    "name": "ipython",
    "version": 3
   },
   "file_extension": ".py",
   "mimetype": "text/x-python",
   "name": "python",
   "nbconvert_exporter": "python",
   "pygments_lexer": "ipython3",
   "version": "3.11.6"
  }
 },
 "nbformat": 4,
 "nbformat_minor": 5
}
