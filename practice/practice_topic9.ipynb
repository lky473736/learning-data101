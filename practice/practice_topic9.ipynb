{
 "cells": [
  {
   "cell_type": "markdown",
   "id": "e97da9d1",
   "metadata": {},
   "source": [
    "### 빅데이터분석개론 토픽9 복습\n",
    "\n",
    "- 2024 . 07 . 03\n",
    "\n",
    "-------\n",
    "\n",
    "- 텍스트 구분 \n",
    "    - 구조화된 문서 (XML, csv, JSON...)\n",
    "    - 구조화되어 있지 않은 문서 (자연어로 된 텍스트...)\n",
    "    \n",
    "<br>\n",
    "\n",
    "- 텍스트 처리 모듈 : beautifulSoup, csv, re, selenium...\n",
    "- re : 정규식 처리 (내부 라이브러리)"
   ]
  },
  {
   "cell_type": "code",
   "execution_count": 1,
   "id": "f8bf39e6",
   "metadata": {
    "ExecuteTime": {
     "end_time": "2024-07-03T14:12:27.496987Z",
     "start_time": "2024-07-03T14:12:27.492537Z"
    }
   },
   "outputs": [
    {
     "name": "stdout",
     "output_type": "stream",
     "text": [
      "monty\n",
      "python\n"
     ]
    }
   ],
   "source": [
    "# 텍스트 슬라이싱은 가장 기본적인 텍스트 처리\n",
    "\n",
    "sentence = 'monty python'\n",
    "\n",
    "print (sentence[:5]) # monty\n",
    "print (sentence[6:]) # python"
   ]
  },
  {
   "cell_type": "code",
   "execution_count": 4,
   "id": "d35e6418",
   "metadata": {
    "ExecuteTime": {
     "end_time": "2024-07-03T14:14:28.890118Z",
     "start_time": "2024-07-03T14:14:28.886279Z"
    }
   },
   "outputs": [
    {
     "name": "stdout",
     "output_type": "stream",
     "text": [
      "['how', 'adorable', 'daramji!', 'very', 'cute.', '\\ndaramji', 'is', 'happy', 'and', 'very', 'excited.\\ndaramji!', 'daramji!', 'daramji!', 'daramji!', 'daramji!\\n']\n",
      "['how adorable daramji', ' very cute. \\ndaramji is happy and very excited.\\ndaramji', ' daramji', ' daramji', ' daramji', ' daramji', '\\n']\n"
     ]
    }
   ],
   "source": [
    "# split (~을 기준으로 분할, 리스트 반환)\n",
    "\n",
    "sentence = '''how adorable daramji! very cute. \n",
    "daramji is happy and very excited.\n",
    "daramji! daramji! daramji! daramji! daramji!\n",
    "'''\n",
    "\n",
    "print (sentence.split(' ')) # 공백 기준 (parameter에 아무것도 없어도 공백 기준으로)\n",
    "print (sentence.split('!')) # ! 기준"
   ]
  },
  {
   "cell_type": "code",
   "execution_count": 7,
   "id": "1f4b5bab",
   "metadata": {
    "ExecuteTime": {
     "end_time": "2024-07-03T14:16:37.974135Z",
     "start_time": "2024-07-03T14:16:37.970437Z"
    }
   },
   "outputs": [
    {
     "name": "stdout",
     "output_type": "stream",
     "text": [
      "moraedooji, maril, dakkori\n",
      "010-1234-5678\n"
     ]
    }
   ],
   "source": [
    "# 여러개 문자열 이어붙이기 == join\n",
    "\n",
    "pokemon = ['moraedooji', 'maril', 'dakkori']\n",
    "phone_number = '010.1234.5678'\n",
    "\n",
    "print (', '.join(pokemon))\n",
    "print ('-'.join(phone_number.split('.'))) # replace"
   ]
  },
  {
   "cell_type": "code",
   "execution_count": 9,
   "id": "0a6f3884",
   "metadata": {
    "ExecuteTime": {
     "end_time": "2024-07-03T14:19:06.993094Z",
     "start_time": "2024-07-03T14:19:06.989362Z"
    }
   },
   "outputs": [
    {
     "name": "stdout",
     "output_type": "stream",
     "text": [
      "daramji is very cute\n",
      "DARAMJI IS VERY CUTE\n",
      "Daramji is very cute\n"
     ]
    }
   ],
   "source": [
    "# lower, upper, capitalize\n",
    "\n",
    "animal = 'DaRaMJi Is vErY CuTE'\n",
    "print (animal.lower()) # 모두 소문자로\n",
    "print (animal.upper()) # 모두 대문자로\n",
    "print (animal.capitalize()) # 첫 문자만 대문자, 나머지는 전부 소수"
   ]
  },
  {
   "cell_type": "code",
   "execution_count": 12,
   "id": "24e98bb6",
   "metadata": {
    "ExecuteTime": {
     "end_time": "2024-07-03T14:22:07.491431Z",
     "start_time": "2024-07-03T14:22:07.487323Z"
    }
   },
   "outputs": [
    {
     "name": "stdout",
     "output_type": "stream",
     "text": [
      "['once', 'upon', 'a', 'time,', 'the', 'princess', 'daramji', 'was', 'in', 'the', 'palace', 'she', 'was', 'so', 'cute', 'and', 'adorable,', 'all', 'animals', 'loves', 'daramji', 'daramji', 'daramji', 'daramji', 'daramji', 'daramji']\n"
     ]
    }
   ],
   "source": [
    "# strip : 앞뒤로 특정 문자를 제거\n",
    "\n",
    "sentence = '''once upon a time, the princess daramji was in the palace.\n",
    "she was so cute and adorable, all animals loves daramji.\n",
    "daramji! daramji! daramji! daramji! daramji!\n",
    "'''\n",
    "\n",
    "sentence = sentence.split()\n",
    "\n",
    "for i in range (len(sentence)) : \n",
    "    sentence[i] = sentence[i].rstrip('!')\n",
    "    sentence[i] = sentence[i].rstrip('.')\n",
    "    sentence[i] = sentence[i].strip()\n",
    "    \n",
    "print (sentence)"
   ]
  },
  {
   "cell_type": "code",
   "execution_count": 15,
   "id": "d7615d9e",
   "metadata": {
    "ExecuteTime": {
     "end_time": "2024-07-03T14:23:17.875853Z",
     "start_time": "2024-07-03T14:23:17.872067Z"
    }
   },
   "outputs": [
    {
     "name": "stdout",
     "output_type": "stream",
     "text": [
      "11\n",
      "4\n",
      "32\n"
     ]
    }
   ],
   "source": [
    "# find, count, len\n",
    "\n",
    "address = 'http://www.gachon.ac.kr/main.jsp'\n",
    "print (address.find('gachon')) # gachon이라고 하는 문자열의 시작 index 반환\n",
    "print (address.count('.')) # .의 갯수\n",
    "print (len(address))"
   ]
  },
  {
   "cell_type": "code",
   "execution_count": 17,
   "id": "089b8385",
   "metadata": {
    "ExecuteTime": {
     "end_time": "2024-07-03T14:26:18.039804Z",
     "start_time": "2024-07-03T14:26:18.036032Z"
    }
   },
   "outputs": [
    {
     "name": "stdout",
     "output_type": "stream",
     "text": [
      "@ 64\n",
      "A 65\n",
      "B 66\n",
      "C 67\n",
      "D 68\n",
      "E 69\n",
      "F 70\n",
      "G 71\n",
      "H 72\n",
      "I 73\n",
      "J 74\n",
      "K 75\n",
      "L 76\n",
      "M 77\n",
      "N 78\n",
      "O 79\n",
      "P 80\n",
      "Q 81\n",
      "R 82\n",
      "S 83\n",
      "T 84\n",
      "U 85\n",
      "V 86\n",
      "W 87\n",
      "X 88\n",
      "Y 89\n",
      "Z 90\n"
     ]
    }
   ],
   "source": [
    "# ord : 특정 문자의 유니코드의 값을 10진수로 반환\n",
    "# chr : 10진수 유니코드를 다시 문자로 반환\n",
    "\n",
    "for i in range (64, 91) :\n",
    "    print (chr(i), ord(chr(i)))"
   ]
  },
  {
   "cell_type": "markdown",
   "id": "03f93300",
   "metadata": {},
   "source": [
    "----------------"
   ]
  },
  {
   "cell_type": "code",
   "execution_count": 18,
   "id": "60137459",
   "metadata": {
    "ExecuteTime": {
     "end_time": "2024-07-03T14:49:44.984171Z",
     "start_time": "2024-07-03T14:49:44.980508Z"
    },
    "scrolled": false
   },
   "outputs": [
    {
     "name": "stdout",
     "output_type": "stream",
     "text": [
      "abcdefghijklmnopqrstuvwxyz\n",
      "ABCDEFGHIJKLMNOPQRSTUVWXYZ\n"
     ]
    }
   ],
   "source": [
    "# string 모듈을 이용하여 알파벳 대소문자 출력 \n",
    "\n",
    "import string\n",
    "\n",
    "ascii_lower = string.ascii_lowercase\n",
    "ascii_upper = string.ascii_uppercase\n",
    "\n",
    "print (ascii_lower)\n",
    "print (ascii_upper)"
   ]
  },
  {
   "cell_type": "markdown",
   "id": "52c92f87",
   "metadata": {},
   "source": [
    "------\n",
    "\n",
    "- 정규식 (regular expression)\n",
    "    - re 모듈을 사용\n",
    "    - 정규식을 사용하여 특정한 규칙을 포함한 문자열인지 검사할 수 있음\n",
    "    "
   ]
  },
  {
   "cell_type": "code",
   "execution_count": 21,
   "id": "d08a7da4",
   "metadata": {
    "ExecuteTime": {
     "end_time": "2024-07-03T14:55:48.415436Z",
     "start_time": "2024-07-03T14:55:48.412216Z"
    }
   },
   "outputs": [
    {
     "name": "stdout",
     "output_type": "stream",
     "text": [
      "<re.Match object; span=(0, 7), match='daramji'>\n",
      "None\n"
     ]
    }
   ],
   "source": [
    "# re.search 명령을 이용하여 정규식을 작성 후 특정한 문자열을 추출\n",
    "\n",
    "import re\n",
    "txt1 = \"daramji is very cute animal\"\n",
    "\n",
    "print (re.search('daramji', txt1)) # daramji라고 하는 문자열이 존재한다, 근데 그게 0부터 6까지\n",
    "print (re.search('baby', txt1)) # 없으면 None 출력"
   ]
  },
  {
   "cell_type": "code",
   "execution_count": 23,
   "id": "c61c0979",
   "metadata": {
    "ExecuteTime": {
     "end_time": "2024-07-03T14:57:37.184069Z",
     "start_time": "2024-07-03T14:57:37.180487Z"
    }
   },
   "outputs": [
    {
     "name": "stdout",
     "output_type": "stream",
     "text": [
      "0\n",
      "7\n",
      "(0, 7)\n"
     ]
    }
   ],
   "source": [
    "# group, start, end, span\n",
    "match = re.search('daramji', txt1)\n",
    "\n",
    "print (match.start()) # 찾았다면 찾은 인덱스\n",
    "print (match.end()) # 문자열의 인덱스 + 1\n",
    "print (match.span()) # (start, end)"
   ]
  },
  {
   "cell_type": "code",
   "execution_count": 27,
   "id": "d8488431",
   "metadata": {
    "ExecuteTime": {
     "end_time": "2024-07-03T15:00:11.026702Z",
     "start_time": "2024-07-03T15:00:11.022808Z"
    }
   },
   "outputs": [
    {
     "name": "stdout",
     "output_type": "stream",
     "text": [
      "<re.Match object; span=(0, 7), match='daramji'>\n",
      "<re.Match object; span=(11, 15), match='very'>\n",
      "None\n"
     ]
    }
   ],
   "source": [
    "# 2개 이상의 조건을 탐색\n",
    "\n",
    "match = re.search ('Daramji|daramji', txt1) # Life 혹은 life\n",
    "print (match)\n",
    "\n",
    "match = re.search ('[Vv]ery', txt1) # 위와 동일\n",
    "print (match)\n",
    "\n",
    "match = re.search ('[0-9]', txt1) # 숫자를 찾음\n",
    "print (match)\n",
    "\n",
    "# [], -, \\와 같이 특별한 의미를 지니는 문자를 메타문자라고 부름"
   ]
  },
  {
   "cell_type": "code",
   "execution_count": 29,
   "id": "d43df968",
   "metadata": {
    "ExecuteTime": {
     "end_time": "2024-07-03T15:01:32.693593Z",
     "start_time": "2024-07-03T15:01:32.690488Z"
    }
   },
   "outputs": [
    {
     "name": "stdout",
     "output_type": "stream",
     "text": [
      "<re.Match object; span=(0, 7), match='daramji'>\n",
      "None\n"
     ]
    }
   ],
   "source": [
    "# . : 문자 1개\n",
    "\n",
    "print (re.search('da...ji', txt1)) # txt1에서 da_ _ _ji라고 되어있는 문자열이 있는가\n",
    "print (re.search('da..ji', txt1)) # txt1에서 da_ _ji 라고 되어있는 문자열이 있는가"
   ]
  },
  {
   "cell_type": "code",
   "execution_count": 31,
   "id": "a4ef2590",
   "metadata": {
    "ExecuteTime": {
     "end_time": "2024-07-03T15:02:42.005776Z",
     "start_time": "2024-07-03T15:02:42.002274Z"
    }
   },
   "outputs": [
    {
     "name": "stdout",
     "output_type": "stream",
     "text": [
      "<re.Match object; span=(0, 7), match='daramji'>\n",
      "<re.Match object; span=(26, 27), match='l'>\n"
     ]
    }
   ],
   "source": [
    "# ^, $\n",
    "\n",
    "print (re.search('^daramji', txt1)) # 문장의 처음에 daramji가 있는가?\n",
    "print (re.search('.$', txt1)) # 문장의 끝에 .이 있는가?"
   ]
  },
  {
   "cell_type": "code",
   "execution_count": 32,
   "id": "819c994d",
   "metadata": {
    "ExecuteTime": {
     "end_time": "2024-07-03T15:07:00.801006Z",
     "start_time": "2024-07-03T15:07:00.797756Z"
    }
   },
   "outputs": [
    {
     "name": "stdout",
     "output_type": "stream",
     "text": [
      "<re.Match object; span=(0, 2), match='da'>\n",
      "<re.Match object; span=(5, 7), match='ji'>\n"
     ]
    }
   ],
   "source": [
    "# * : 패턴이 0회 이상 반복되는가?\n",
    "\n",
    "print (re.search('da*', txt1)) # d, da, daa...\n",
    "print (re.search('d*ji', txt1)) # ji, dji, ddji, dddji..."
   ]
  },
  {
   "cell_type": "code",
   "execution_count": 34,
   "id": "07772f96",
   "metadata": {
    "ExecuteTime": {
     "end_time": "2024-07-03T15:07:45.698439Z",
     "start_time": "2024-07-03T15:07:45.695221Z"
    }
   },
   "outputs": [
    {
     "name": "stdout",
     "output_type": "stream",
     "text": [
      "<re.Match object; span=(0, 3), match='yea'>\n"
     ]
    }
   ],
   "source": [
    "# ? : 0회 또는 1회\n",
    "\n",
    "txt2 = \"yeaaaaaaaaah\"\n",
    "print (re.search('yea?', txt2)) # yea"
   ]
  },
  {
   "cell_type": "code",
   "execution_count": 35,
   "id": "a2e49494",
   "metadata": {
    "ExecuteTime": {
     "end_time": "2024-07-03T15:08:37.266838Z",
     "start_time": "2024-07-03T15:08:37.263407Z"
    }
   },
   "outputs": [
    {
     "name": "stdout",
     "output_type": "stream",
     "text": [
      "<re.Match object; span=(0, 2), match='ye'>\n",
      "None\n"
     ]
    }
   ],
   "source": [
    "# + : 1회 이상\n",
    "\n",
    "print (re.search('ye+', txt2)) # ye\n",
    "print (re.search('x+', txt2)) # none"
   ]
  },
  {
   "cell_type": "code",
   "execution_count": 36,
   "id": "9a5cf478",
   "metadata": {
    "ExecuteTime": {
     "end_time": "2024-07-03T15:09:18.308254Z",
     "start_time": "2024-07-03T15:09:18.304944Z"
    }
   },
   "outputs": [
    {
     "name": "stdout",
     "output_type": "stream",
     "text": [
      "daramji is yeah yeah yeah\n"
     ]
    }
   ],
   "source": [
    "# sub : 특정 문자열을 다른 문자열로 대체 가능\n",
    "\n",
    "sentence = \"daramji is wow wow wow\"\n",
    "sentence = re.sub('wow', 'yeah', sentence)\n",
    "print (sentence) # 모두 교체"
   ]
  }
 ],
 "metadata": {
  "kernelspec": {
   "display_name": "Python 3 (ipykernel)",
   "language": "python",
   "name": "python3"
  },
  "language_info": {
   "codemirror_mode": {
    "name": "ipython",
    "version": 3
   },
   "file_extension": ".py",
   "mimetype": "text/x-python",
   "name": "python",
   "nbconvert_exporter": "python",
   "pygments_lexer": "ipython3",
   "version": "3.11.6"
  }
 },
 "nbformat": 4,
 "nbformat_minor": 5
}
