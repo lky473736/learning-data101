{
 "cells": [
  {
   "cell_type": "markdown",
   "id": "480aeeaf",
   "metadata": {},
   "source": [
    "### 빅데이터분석개론 토픽7 복습\n",
    "- 2024 . 06 . 30 .\n",
    "\n",
    "---------\n",
    "\n",
    "- 리스트를 서로 더하기 위해선 + 연산자 사용 (*은 안됨)\n",
    "- 대응대는 원소끼리 연산하기 위해 numpy 사용\n",
    "- list() 안에 range() 사용해도 정수 리스트 만들 수 있음\n",
    "- in, not in 키워드로 특정 요소가 안에 있는지 판단 가능 (O(n))"
   ]
  },
  {
   "cell_type": "code",
   "execution_count": 5,
   "id": "c7dd8487",
   "metadata": {
    "ExecuteTime": {
     "end_time": "2024-06-30T10:06:58.597436Z",
     "start_time": "2024-06-30T10:06:58.593262Z"
    }
   },
   "outputs": [
    {
     "name": "stdout",
     "output_type": "stream",
     "text": [
      "[10, 9, 8, 7, 6, 5, 4, 3, 2, 1]\n",
      "[1, 2, 3, 4, 5, 6, 7, 8, 9, 10]\n",
      "[10, 8, 6]\n",
      "[10, 8, 6, 4, 2]\n",
      "[10, 9, 8, 7, 6, 5, 4, 3, 2, 1]\n"
     ]
    }
   ],
   "source": [
    "# 슬라이싱해도 원래 리스트는 손상되지 않는다\n",
    "\n",
    "slist = list(range(10, 0, -1))\n",
    "print (slist)\n",
    "print (slist[::-1]) # 뒤집기\n",
    "print (slist[0:5:2]) # 10 8 6\n",
    "print (slist[::2]) # 10 8 6 4 2\n",
    "print (slist) # 원래 리스트 손상 안됨"
   ]
  },
  {
   "cell_type": "code",
   "execution_count": 6,
   "id": "fb36a2c4",
   "metadata": {
    "ExecuteTime": {
     "end_time": "2024-06-30T10:07:51.337957Z",
     "start_time": "2024-06-30T10:07:51.333968Z"
    }
   },
   "outputs": [
    {
     "name": "stdout",
     "output_type": "stream",
     "text": [
      "True\n",
      "5.5\n",
      "10 1\n"
     ]
    }
   ],
   "source": [
    "slist = list(range(1, 11))\n",
    "print(any(slist)) # slist에 0이 아닌 원소가 하나라도 있으면 True\n",
    "print(sum(slist) / len(slist)) # 평균\n",
    "print(max(slist), min(slist))"
   ]
  },
  {
   "cell_type": "code",
   "execution_count": 8,
   "id": "922cc053",
   "metadata": {
    "ExecuteTime": {
     "end_time": "2024-06-30T10:08:44.897676Z",
     "start_time": "2024-06-30T10:08:44.894129Z"
    }
   },
   "outputs": [
    {
     "name": "stdout",
     "output_type": "stream",
     "text": [
      "e a d\n"
     ]
    }
   ],
   "source": [
    "# 문자열 리스트에서의 min, max\n",
    "slist = ['a', 'b', 'c', 'd', 'e']\n",
    "print(max(slist), min(slist), max(slist[2:4]))"
   ]
  },
  {
   "cell_type": "code",
   "execution_count": 9,
   "id": "a6e5bb54",
   "metadata": {
    "ExecuteTime": {
     "end_time": "2024-06-30T10:09:34.080219Z",
     "start_time": "2024-06-30T10:09:34.076521Z"
    }
   },
   "outputs": [
    {
     "name": "stdout",
     "output_type": "stream",
     "text": [
      "[1, 2, 3, 4, 5] [1, 2, 3, 4, 5] [1, 2, 3, 4, 5]\n"
     ]
    }
   ],
   "source": [
    "# 리스트 전체 복사\n",
    "nums = [1, 2, 3, 4, 5]\n",
    "\n",
    "copy1 = nums.copy()\n",
    "copy2 = nums[:]\n",
    "copy3 = list(nums) # 참조값\n",
    "\n",
    "print (copy1, copy2, copy3)"
   ]
  },
  {
   "cell_type": "code",
   "execution_count": 10,
   "id": "e6c2df92",
   "metadata": {
    "ExecuteTime": {
     "end_time": "2024-06-30T10:12:48.518239Z",
     "start_time": "2024-06-30T10:12:48.513875Z"
    }
   },
   "outputs": [
    {
     "name": "stdout",
     "output_type": "stream",
     "text": [
      "daramji \n",
      "daramji \n",
      "daramji \n",
      "daramji \n",
      "daramji \n",
      "daramji \n",
      "daramji \n"
     ]
    }
   ],
   "source": [
    "# 문자열도 index와 mapping\n",
    "sentence = '''\n",
    "daramji is strong animal.\n",
    "daramji is tiny, however powerful.\n",
    "daramji! daramji! daramji! daramji! daramji!\n",
    "'''\n",
    "\n",
    "daramji_index_list = []\n",
    "\n",
    "for i in range (len(sentence)) : \n",
    "    if sentence[i] in ['.', '!'] :\n",
    "        daramji_index_list.append (sentence.index('daramji'))\n",
    "    \n",
    "for index in daramji_index_list : \n",
    "    print (sentence[index:index+8])"
   ]
  },
  {
   "cell_type": "code",
   "execution_count": 13,
   "id": "3abcdfba",
   "metadata": {
    "ExecuteTime": {
     "end_time": "2024-06-30T10:15:17.686574Z",
     "start_time": "2024-06-30T10:15:17.683033Z"
    }
   },
   "outputs": [
    {
     "name": "stdout",
     "output_type": "stream",
     "text": [
      "d a r a m j i !\n"
     ]
    }
   ],
   "source": [
    "# insert, append\n",
    "# 문자열에 insert하지 말아라\n",
    "\n",
    "wrong_word = list(\"drj\")\n",
    "\n",
    "wrong_word.insert(1, 'a')\n",
    "wrong_word.insert(3, 'a')\n",
    "wrong_word.insert(4, 'm')\n",
    "wrong_word.insert(6, 'i')\n",
    "\n",
    "wrong_word.append (\"!\")\n",
    "\n",
    "print(*wrong_word)"
   ]
  },
  {
   "cell_type": "code",
   "execution_count": 14,
   "id": "cb87ee2e",
   "metadata": {
    "ExecuteTime": {
     "end_time": "2024-06-30T10:16:20.290230Z",
     "start_time": "2024-06-30T10:16:20.286467Z"
    }
   },
   "outputs": [
    {
     "name": "stdout",
     "output_type": "stream",
     "text": [
      "[4]\n"
     ]
    }
   ],
   "source": [
    "# remove, pop, del\n",
    "# del은 메모리에서 삭제되는 것이며, 리스트의 메소드가 아니니 매우 주의\n",
    "\n",
    "slist = [1, 2, 3, 4, 5]\n",
    "\n",
    "slist.remove (3)\n",
    "slist.pop()\n",
    "slist.pop(0)\n",
    "del slist[0]\n",
    "\n",
    "print (slist) # 4"
   ]
  },
  {
   "cell_type": "code",
   "execution_count": 15,
   "id": "6da82820",
   "metadata": {
    "ExecuteTime": {
     "end_time": "2024-06-30T10:16:56.630389Z",
     "start_time": "2024-06-30T10:16:56.626391Z"
    }
   },
   "outputs": [
    {
     "name": "stdout",
     "output_type": "stream",
     "text": [
      "['changed', 2, 3, 4, 5] ['changed', 2, 3, 4, 5]\n",
      "4517448320 4517448320\n"
     ]
    }
   ],
   "source": [
    "# 참조값\n",
    "alist = [1, 2, 3, 4, 5]\n",
    "blist = alist # 참조값이 복사\n",
    "blist[0] = 'changed'\n",
    "\n",
    "print (alist, blist)\n",
    "print (id(alist), id(blist))"
   ]
  },
  {
   "cell_type": "code",
   "execution_count": 19,
   "id": "04fe151f",
   "metadata": {
    "ExecuteTime": {
     "end_time": "2024-06-30T10:20:17.304038Z",
     "start_time": "2024-06-30T10:20:17.299085Z"
    }
   },
   "outputs": [
    {
     "name": "stdout",
     "output_type": "stream",
     "text": [
      "['D', 'P', 'C']\n",
      "['0', '2', '4', '6', '8', '10', '12', '14', '16', '18', '20', '22', '24', '26', '28', '30', '32', '34', '36', '38', '40', '42', '44', '46', '48']\n",
      "[(1, 1), (1, 2), (1, 3), (2, 1), (2, 2), (2, 3), (3, 1), (3, 2), (3, 3)]\n"
     ]
    }
   ],
   "source": [
    "# 리스트 함축\n",
    "\n",
    "wordset = ['dedenne', 'pachiritsu', 'chirami']\n",
    "print ([c[0].upper() for c in wordset])\n",
    "\n",
    "slist = list()\n",
    "for i in range (50) :\n",
    "    if i % 2 == 0 :\n",
    "        slist.append (str(i))\n",
    "    else :\n",
    "        slist.append (i)\n",
    "    \n",
    "print ([compo for compo in slist if type(compo) == str])\n",
    "\n",
    "print ([(i, j) for i in [1, 2, 3] for j in [1, 2, 3]])"
   ]
  },
  {
   "cell_type": "markdown",
   "id": "fa52ce99",
   "metadata": {},
   "source": [
    "--------\n",
    "\n",
    "- 리스트와 튜플\n",
    "    - 리스트 : 가변속성, 인덱스로 특정 요소 접근 가능\n",
    "    - 튜플 : 불변속성, 인덱스로 특정 요소 접근 가능, 리스트보다 빠름"
   ]
  },
  {
   "cell_type": "code",
   "execution_count": 20,
   "id": "66d5ec95",
   "metadata": {
    "ExecuteTime": {
     "end_time": "2024-06-30T10:21:06.094782Z",
     "start_time": "2024-06-30T10:21:06.091186Z"
    }
   },
   "outputs": [
    {
     "name": "stdout",
     "output_type": "stream",
     "text": [
      "20 10\n"
     ]
    }
   ],
   "source": [
    "# 원래라면 임시변수를 이용하여 두 수의 값을 교환할 수 있는데, 튜플을 이용하면 아래와 같이 구현 가능\n",
    "a = 10\n",
    "b = 20\n",
    "a, b = b, a\n",
    "print (a, b)"
   ]
  },
  {
   "cell_type": "markdown",
   "id": "1f04a9fc",
   "metadata": {},
   "source": [
    "- 객체지향 프로그래밍 : 다양한 객체를 클래스로 미리 정의해두고, 객체들끼리의 상호작용으로 작업\n",
    "- 각 객체를 인스턴스라고 부름\n",
    "- 특정한 클래스에 속한 객체들이 사용할 수 있는 함수를 메소드라고 함\n",
    "- 모든 것이 객체임"
   ]
  }
 ],
 "metadata": {
  "kernelspec": {
   "display_name": "Python 3 (ipykernel)",
   "language": "python",
   "name": "python3"
  },
  "language_info": {
   "codemirror_mode": {
    "name": "ipython",
    "version": 3
   },
   "file_extension": ".py",
   "mimetype": "text/x-python",
   "name": "python",
   "nbconvert_exporter": "python",
   "pygments_lexer": "ipython3",
   "version": "3.11.6"
  }
 },
 "nbformat": 4,
 "nbformat_minor": 5
}
