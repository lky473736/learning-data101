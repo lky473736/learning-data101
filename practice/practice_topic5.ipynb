{
 "cells": [
  {
   "cell_type": "markdown",
   "id": "1c7894f9",
   "metadata": {},
   "source": [
    "### 빅데이터분석개론 토픽5 복습\n",
    "- 2024 . 06 . 30 . \n",
    "-------\n",
    "\n",
    "- python에서의 반복문\n",
    "    - for문 : 특정 횟수만큼 반복하여야 할 때\n",
    "    - while문 : 조건이 만족되었을 때만 반복하여야 할 때\n",
    "        - 만약 특정 조건이 계속 만족된다 -> 무한 반복 가능\n",
    "    - indentation을 잘 작성해야 함 (indentation error 방지)\n",
    "    \n",
    "<br>\n",
    "\n",
    "- for문\n",
    "    - sequence 항목들을 가져와서 특정 기능을 수행할 때 유리\n",
    "    - 횟수가 정해져 있다\n",
    "        - range 함수를 사용\n",
    "            - range(0, 10) : 0~9까지\n",
    "            - range(0, 10, 2) : 0, 2, 4, 6, 8\n",
    "            - range를 출력하면 range 자료형을 반환함\n",
    "            - 첫번째 parameter를 생략하면 0부터 시작함\n",
    "            - 세번째 parameter (step)을 생략하면 기본값 1\n",
    "    "
   ]
  },
  {
   "cell_type": "code",
   "execution_count": 6,
   "id": "593405b8",
   "metadata": {
    "ExecuteTime": {
     "end_time": "2024-06-30T09:23:18.561436Z",
     "start_time": "2024-06-30T09:23:18.555923Z"
    }
   },
   "outputs": [
    {
     "name": "stdout",
     "output_type": "stream",
     "text": [
      "1 * 1 == 1 / 1 * 2 == 2 / 1 * 3 == 3 / 1 * 4 == 4 / 1 * 5 == 5 / 1 * 6 == 6 / 1 * 7 == 7 / 1 * 8 == 8 / 1 * 9 == 9 / \n",
      "2 * 1 == 2 / 2 * 2 == 4 / 2 * 3 == 6 / 2 * 4 == 8 / 2 * 5 == 10 / 2 * 6 == 12 / 2 * 7 == 14 / 2 * 8 == 16 / 2 * 9 == 18 / \n",
      "3 * 1 == 3 / 3 * 2 == 6 / 3 * 3 == 9 / 3 * 4 == 12 / 3 * 5 == 15 / 3 * 6 == 18 / 3 * 7 == 21 / 3 * 8 == 24 / 3 * 9 == 27 / \n",
      "4 * 1 == 4 / 4 * 2 == 8 / 4 * 3 == 12 / 4 * 4 == 16 / 4 * 5 == 20 / 4 * 6 == 24 / 4 * 7 == 28 / 4 * 8 == 32 / 4 * 9 == 36 / \n",
      "5 * 1 == 5 / 5 * 2 == 10 / 5 * 3 == 15 / 5 * 4 == 20 / 5 * 5 == 25 / 5 * 6 == 30 / 5 * 7 == 35 / 5 * 8 == 40 / 5 * 9 == 45 / \n",
      "6 * 1 == 6 / 6 * 2 == 12 / 6 * 3 == 18 / 6 * 4 == 24 / 6 * 5 == 30 / 6 * 6 == 36 / 6 * 7 == 42 / 6 * 8 == 48 / 6 * 9 == 54 / \n",
      "7 * 1 == 7 / 7 * 2 == 14 / 7 * 3 == 21 / 7 * 4 == 28 / 7 * 5 == 35 / 7 * 6 == 42 / 7 * 7 == 49 / 7 * 8 == 56 / 7 * 9 == 63 / \n",
      "8 * 1 == 8 / 8 * 2 == 16 / 8 * 3 == 24 / 8 * 4 == 32 / 8 * 5 == 40 / 8 * 6 == 48 / 8 * 7 == 56 / 8 * 8 == 64 / 8 * 9 == 72 / \n",
      "9 * 1 == 9 / 9 * 2 == 18 / 9 * 3 == 27 / 9 * 4 == 36 / 9 * 5 == 45 / 9 * 6 == 54 / 9 * 7 == 63 / 9 * 8 == 72 / 9 * 9 == 81 / \n",
      "1 4 7 \n",
      "10 9 8 7 6 5 4 3 2 \n",
      "4 2 0 "
     ]
    }
   ],
   "source": [
    "# for문\n",
    "\n",
    "# 구구단\n",
    "for i in range (1, 10) : \n",
    "    for j in range (1, 10) :\n",
    "        print (\"{0} * {1} == {2}\".format(i, j, i*j), end = ' / ')\n",
    "    \n",
    "    print()\n",
    "\n",
    "for i in range (1, 10, 3) :\n",
    "    print (i, end = ' ') # 1, 4, 7\n",
    "    \n",
    "print()\n",
    "\n",
    "for i in range (10, 1, -1) :\n",
    "    print (i, end = ' ') # 10, 9, 8, 7, 6, 5, 4, 3, 2\n",
    "    \n",
    "print()\n",
    "    \n",
    "for i in range (4, -1, -2) :\n",
    "    print (i, end = ' ') # 4, 2, 0"
   ]
  },
  {
   "cell_type": "markdown",
   "id": "9cd08fd7",
   "metadata": {},
   "source": [
    "- formatting\n",
    "    - \"%d %d %d\" % (a, b, a*b) : 형식 문자열을 이용하여 표현\n",
    "    - f\"{a} {b} {a*b}\" : f-string을 이용하여 표현\n",
    "    - \"{0} {1} {2}\".format(a, b, a*b) : format 키워드를 이용하여 표현"
   ]
  },
  {
   "cell_type": "code",
   "execution_count": 7,
   "id": "663d57ed",
   "metadata": {
    "ExecuteTime": {
     "end_time": "2024-06-30T09:31:35.105374Z",
     "start_time": "2024-06-30T09:31:31.446634Z"
    }
   },
   "outputs": [
    {
     "name": "stdout",
     "output_type": "stream",
     "text": [
      "숫자를 입력 : 10\n",
      "숫자를 입력 : 20\n",
      "숫자를 입력 : 30\n",
      "숫자를 입력 : 40\n",
      "숫자를 입력 : 50\n",
      "숫자를 입력 : 00\n",
      "모평균 : 30.0\n",
      "모분산 : 200.0\n",
      "모표준편차 : 14.142135623730951\n"
     ]
    }
   ],
   "source": [
    "# 평균, 분산, 표준편차\n",
    "\n",
    "import math \n",
    "\n",
    "sumation = 0\n",
    "cnt = 0\n",
    "\n",
    "nums = []\n",
    "\n",
    "while True : \n",
    "    num = input(\"숫자를 입력 : \")\n",
    "    \n",
    "    if num == '00' :\n",
    "        break\n",
    "        \n",
    "    else :\n",
    "        nums.append (int(num))\n",
    "        sumation += int(num)\n",
    "        cnt += 1 \n",
    "        \n",
    "mean = sumation / cnt \n",
    "variance = 0\n",
    "standard_deviation = 0\n",
    "\n",
    "for compo in nums : \n",
    "    variance += math.pow(compo - mean, 2)\n",
    "    \n",
    "variance /= cnt # 모분산\n",
    "standard_deviation = math.sqrt(variance) # 모표준편차\n",
    "\n",
    "print (\"모평균 : {0}\\n모분산 : {1}\\n모표준편차 : {2}\".format(mean, variance, standard_deviation))"
   ]
  },
  {
   "cell_type": "code",
   "execution_count": 8,
   "id": "41c69f69",
   "metadata": {
    "ExecuteTime": {
     "end_time": "2024-06-30T09:33:19.528946Z",
     "start_time": "2024-06-30T09:33:05.472579Z"
    }
   },
   "outputs": [
    {
     "name": "stdout",
     "output_type": "stream",
     "text": [
      "수를 입력 : 50\n",
      "down\n",
      "수를 입력 : 25\n",
      "down\n",
      "수를 입력 : 13\n",
      "up\n",
      "수를 입력 : 14\n",
      "up\n",
      "수를 입력 : 17\n",
      "up\n",
      "수를 입력 : 19\n",
      "up\n",
      "수를 입력 : 20\n",
      "equel\n"
     ]
    }
   ],
   "source": [
    "# up and down\n",
    "\n",
    "import random\n",
    "\n",
    "com = int(random.random() * 100) \n",
    "\n",
    "while True : \n",
    "    user = int(input(\"수를 입력 : \"))\n",
    "    \n",
    "    if com > user :\n",
    "        print (\"up\")\n",
    "        \n",
    "    elif com < user : \n",
    "        print (\"down\")\n",
    "        \n",
    "    else : \n",
    "        print (\"equel\")\n",
    "        break"
   ]
  },
  {
   "cell_type": "code",
   "execution_count": 11,
   "id": "9464ded9",
   "metadata": {
    "ExecuteTime": {
     "end_time": "2024-06-30T09:34:53.835937Z",
     "start_time": "2024-06-30T09:34:53.831944Z"
    }
   },
   "outputs": [
    {
     "name": "stdout",
     "output_type": "stream",
     "text": [
      "\n",
      "daramji\n",
      "is\n",
      "very\n",
      "cute\n",
      "animal.\n",
      "i\n",
      "love\n",
      "daramji\n",
      "so\n",
      "much.\n",
      "daramji!\n",
      "daramji!\n",
      "daramji!\n",
      "daramji!\n",
      "daramji!\n"
     ]
    }
   ],
   "source": [
    "# 문장에서 공백 나오면 줄바꿈하기\n",
    "\n",
    "sentence = ''' daramji is very cute animal.\n",
    "i love daramji so much.\n",
    "daramji! daramji! daramji! daramji! daramji!\n",
    "'''\n",
    "\n",
    "for c in sentence : \n",
    "    if c == ' ' :\n",
    "        print()\n",
    "        continue\n",
    "        \n",
    "    print(c, end='')"
   ]
  }
 ],
 "metadata": {
  "kernelspec": {
   "display_name": "Python 3 (ipykernel)",
   "language": "python",
   "name": "python3"
  },
  "language_info": {
   "codemirror_mode": {
    "name": "ipython",
    "version": 3
   },
   "file_extension": ".py",
   "mimetype": "text/x-python",
   "name": "python",
   "nbconvert_exporter": "python",
   "pygments_lexer": "ipython3",
   "version": "3.11.6"
  }
 },
 "nbformat": 4,
 "nbformat_minor": 5
}
