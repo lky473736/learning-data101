{
 "cells": [
  {
   "cell_type": "markdown",
   "id": "46d908f8",
   "metadata": {},
   "source": [
    "### 빅데이터분석개론 토픽2 복습\n",
    "- 2024 . 06 . 30 . \n",
    "\n",
    "----------\n",
    "\n",
    "- 변수 : 변할 수 있는 수\n",
    "    - variable, 특정 메모리 안에 할당된 공간을 의미\n",
    "    - 메모리의 특정 공간에 이름을 붙임 (그 이름은 메모리의 주소를 가리키고 있다)\n",
    "    - 변수에 있는 값을 다른 값으로 바꾸면 이전 값을 기억할 수 없음 (휘발)\n",
    "    - 다중 할당, 동시 할당, 복합 할당 가능\n",
    "    - 주기억장소에 저장, 주기억장소의 기억 주소가 16진수임\n",
    "- 상수 : 항상 값이 고정되어 있는 수\n",
    "    \n",
    "<br>\n",
    "\n",
    "- 파이썬에서 변수 이름 짓는 방법\n",
    "    - 맨 앞 자리는 숫자나 특수문자가 오면 안됨 \n",
    "    - 특수문자는 오직 \\_ 만 가능\n",
    "    - 공백 안됨\n",
    "    - 대소문자 구별함\n",
    "    - 키워드는 변수 안됨 (예약어)\n",
    "    \n"
   ]
  },
  {
   "cell_type": "code",
   "execution_count": 31,
   "id": "3400dc8b",
   "metadata": {
    "ExecuteTime": {
     "end_time": "2024-06-30T07:47:39.973381Z",
     "start_time": "2024-06-30T07:47:39.970679Z"
    }
   },
   "outputs": [],
   "source": [
    "# 할당\n",
    "\n",
    "a = 10 # 할당 연산자 '='을 통하여 a라는 변수에 10을 넣음 \n",
    "a, b = 10, 20 # 동시 할당, 두개의 변수를 각각 다른 값을 한꺼번에 할당할 수 있음\n",
    "a = b = 10 # 다중 할당, 두개의 변수에 하나의 값을 한꺼번에 할당할 수 있음\n",
    "a += 10 # 복합 할당, 연산자와 할당을 함께 작성할 수 있게 할 수 있음"
   ]
  },
  {
   "cell_type": "code",
   "execution_count": 5,
   "id": "d008c108",
   "metadata": {
    "ExecuteTime": {
     "end_time": "2024-06-30T07:24:13.157435Z",
     "start_time": "2024-06-30T07:24:13.153716Z"
    }
   },
   "outputs": [
    {
     "name": "stdout",
     "output_type": "stream",
     "text": [
      "16\n",
      "daramji is greatdaramji is great\n",
      "'Hell Ya!' He said.\n",
      "'Hell Ya!' He said.\n"
     ]
    }
   ],
   "source": [
    "# 문자열\n",
    "\n",
    "sentence = 'daramji is great'\n",
    "print (len(sentence)) # 문자열의 길이를 출력\n",
    "print (sentence * 2) # 문자열 반복\n",
    "\n",
    "# 문자열 안에 따옴표를 넣으려면\n",
    "\n",
    "print (\"'Hell Ya!' He said.\") # 큰따옴표 안에 작은따옴표를 넣거나\n",
    "print (\"\\'Hell Ya!\\' He said.\") # 백슬래쉬를 통해 escape character 형식으로 넣거나\n",
    "\n",
    "# 화면에 표시되지 않는 \\t, \\n과 같은 것도 전부 문자열로 취급\n",
    "# 공백도 문자열이 됨\n",
    "# 따옴표를 쌍으로 닫지 않는다면 EOL (End Of Line) 에러 발생"
   ]
  },
  {
   "cell_type": "code",
   "execution_count": 7,
   "id": "948025cd",
   "metadata": {
    "ExecuteTime": {
     "end_time": "2024-06-30T07:26:38.934109Z",
     "start_time": "2024-06-30T07:26:38.930536Z"
    }
   },
   "outputs": [
    {
     "name": "stdout",
     "output_type": "stream",
     "text": [
      "<class 'str'>\n",
      "<class 'int'>\n",
      "<class 'float'>\n",
      "<class 'bool'>\n",
      "<class 'str'>\n"
     ]
    }
   ],
   "source": [
    "# 형변환\n",
    "\n",
    "print (type(str(123))) # 문자열로 형변환\n",
    "print (type(int('123'))) # 정수형으로 형변환\n",
    "print (type(float('123'))) # 실수형으로 형변환\n",
    "print (type(bool('123'))) # boolean으로 형변환\n",
    "print (type(bin(123))) # bin으로 형변환 (문자열)"
   ]
  },
  {
   "cell_type": "code",
   "execution_count": 12,
   "id": "d52005e4",
   "metadata": {
    "ExecuteTime": {
     "end_time": "2024-06-30T07:32:49.472072Z",
     "start_time": "2024-06-30T07:32:45.964593Z"
    }
   },
   "outputs": [
    {
     "name": "stdout",
     "output_type": "stream",
     "text": [
      "체중을 입력 : 72\n",
      "키를 입력 : 180\n",
      "22.22222222222222\n",
      "남성 허리 둘레 90cm 이상 및 여성 85cm 이상을 대상\n",
      "약간 높음\n"
     ]
    }
   ],
   "source": [
    "# bmi 계산하기\n",
    "\n",
    "weight = int(input('체중을 입력 : '))\n",
    "height = int(input('키를 입력 : '))\n",
    "height *= 0.01 \n",
    "\n",
    "bmi = weight / height**2\n",
    "\n",
    "print (bmi)\n",
    "print (\"남성 허리 둘레 90cm 이상 및 여성 85cm 이상을 대상\")\n",
    "if (bmi < 18.5) :\n",
    "    print (\"보통\")\n",
    "\n",
    "elif (bmi >= 18.5 and bmi <= 22.9) :\n",
    "    print (\"약간 높음\")\n",
    "\n",
    "elif (bmi >= 23 and bmi <= 24.9) :\n",
    "    print (\"높음\")\n",
    "\n",
    "elif (bmi >= 25 and bmi <= 29.9) :\n",
    "    print (\"매우 높음\")\n",
    "\n",
    "else :\n",
    "    print (\"가장 높음\")"
   ]
  },
  {
   "cell_type": "markdown",
   "id": "8d43e9fb",
   "metadata": {},
   "source": [
    "- 자료형\n",
    "    - 파이썬은 자료형을 선언해줄 필요가 없다 (동적 형 결정 언어)\n",
    "        - 장점 : 미리 변수의 자료형을 정해두고 선언할 필요가 없어서 편리\n",
    "        - 단점 : 허용되지 않는 연산이 진행될 때 자료형 오류가 동작 중에 발생할 수도 있음 -> 프로그램이 이미 시작되었을 때 제대로 동작을 마무리하지 못하고 중단하게 됨\n",
    "    - 정수, 실수, 문자열, 불리언\n",
    "    \n",
    "<br>\n",
    "\n",
    "- 실수 값에 대해 오차가 발생할 수 있음\n",
    "    - 컴퓨터는 IEEE 표기 방식에 의하여 실수를 부호, 지수부, 가수부로 부분을 나누어 표현\n",
    "    - 부호 : sign, 지수부 : exponent, 가수부 : mantissa\n",
    "    - 실수를 저장하는 공간이 한정되어 있기 때문에 순환소수, 무한소수와 같은 무한적인 소수점은 정확히 표현할 방도가 없음 -> 오차 발생할 수 있다\n",
    "    - 정수 표현은 매우 강력한 편 (큰 숫자도 계산이 가능)"
   ]
  },
  {
   "cell_type": "code",
   "execution_count": 15,
   "id": "17c9d275",
   "metadata": {
    "ExecuteTime": {
     "end_time": "2024-06-30T07:40:27.271361Z",
     "start_time": "2024-06-30T07:40:27.267789Z"
    }
   },
   "outputs": [
    {
     "name": "stdout",
     "output_type": "stream",
     "text": [
      "0.8999999999999999\n",
      "<class 'int'>\n"
     ]
    }
   ],
   "source": [
    "# 실수의 오차 및 정밀도, 동적 형 결정, type\n",
    "\n",
    "print (0.3 + 0.3 + 0.3) # 0.9인데 0.899999999 -> 오차가 발생 \n",
    "\n",
    "a = 3\n",
    "print (type(3)) # 선언 시에 값의 자료형을 함께 선언하지 않아도 자동적으로 형이 결정됨"
   ]
  },
  {
   "cell_type": "code",
   "execution_count": 20,
   "id": "08684818",
   "metadata": {
    "ExecuteTime": {
     "end_time": "2024-06-30T07:42:42.051040Z",
     "start_time": "2024-06-30T07:42:40.506351Z"
    }
   },
   "outputs": [
    {
     "name": "stdout",
     "output_type": "stream",
     "text": [
      "0 1 1 2 3 5 8 13 21 34 55 89 144 233 377 610 987 1597 2584 4181 6765 10946 17711 28657 46368 75025 121393 196418 317811 514229 832040 1346269 2178309 3524578 "
     ]
    }
   ],
   "source": [
    "# 파이썬의 장점 : 강력한 정수 계산\n",
    "# 예시 : 피보나치 수열 (재귀를 이용)\n",
    "\n",
    "def fibo (n) :\n",
    "    if n == 1 : \n",
    "        return 0\n",
    "    \n",
    "    elif n == 2 : \n",
    "        return 1\n",
    "    \n",
    "    else :\n",
    "        return fibo(n-1) + fibo(n-2)\n",
    "\n",
    "for i in range (1, 35) : \n",
    "    print (fibo(i), end = ' ')"
   ]
  },
  {
   "cell_type": "code",
   "execution_count": 30,
   "id": "04ca7551",
   "metadata": {
    "ExecuteTime": {
     "end_time": "2024-06-30T07:46:32.396149Z",
     "start_time": "2024-06-30T07:46:29.718841Z"
    }
   },
   "outputs": [
    {
     "name": "stdout",
     "output_type": "stream",
     "text": [
      "수 입력 : 10\n",
      "수 입력 : 20\n",
      "수 입력 : 30\n",
      "수 입력 : 00\n",
      "평균 : 20.0 \n",
      "sumation : 60\n",
      "cnt : 3\n"
     ]
    }
   ],
   "source": [
    "# 평균 출력기\n",
    "\n",
    "sumation = 0\n",
    "cnt = 0\n",
    "\n",
    "while True : \n",
    "    num = input(\"수 입력 : \")\n",
    "    \n",
    "    if num == '00' :\n",
    "        break\n",
    "        \n",
    "    else : \n",
    "        sumation += int(num)\n",
    "        cnt += 1\n",
    "        \n",
    "print ('평균 : {0} \\nsumation : {1}\\ncnt : {2}'.format(sumation / cnt, sumation, cnt))"
   ]
  }
 ],
 "metadata": {
  "kernelspec": {
   "display_name": "Python 3 (ipykernel)",
   "language": "python",
   "name": "python3"
  },
  "language_info": {
   "codemirror_mode": {
    "name": "ipython",
    "version": 3
   },
   "file_extension": ".py",
   "mimetype": "text/x-python",
   "name": "python",
   "nbconvert_exporter": "python",
   "pygments_lexer": "ipython3",
   "version": "3.11.6"
  }
 },
 "nbformat": 4,
 "nbformat_minor": 5
}
