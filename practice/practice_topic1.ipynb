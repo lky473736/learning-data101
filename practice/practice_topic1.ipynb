{
 "cells": [
  {
   "cell_type": "markdown",
   "id": "22588661",
   "metadata": {},
   "source": [
    "### 빅데이터분석개론 토픽1 복습\n",
    "- 2024 . 06 . 30.\n",
    "\n",
    "--------\n",
    "\n",
    "- 데이터 과학 : 데이터에서 과학적 방법으로 정보나 지식을 추출\n",
    "    - 뉴턴 이후의 과학 : 실험과학, 이론과학\n",
    "    - 현재의 과학 : 데이터 중심의 과학 (짐그레이)\n",
    "\n",
    "<br>\n",
    "\n",
    "- 데이터 처리 과정\n",
    "    - 데이터 수집 (데이터마이닝)\n",
    "    - 데이터 정제 (전처리 / 가장 중요하면서 오래 걸림)\n",
    "    - 데이터 탐구 및 분석\n",
    "    - 학습 모델 구축\n",
    "    - 모델 배포\n",
    "    - 역할\n",
    "        - data engineer : 수집 -> 정제\n",
    "        - data analyst : 정제 -> 탐구 및 분석\n",
    "        - machine learning engineer : 모델 구축 -> 모델 배포\n",
    "        - data scientist : 모든 과정 통합\n",
    "        \n",
    "<br>\n",
    "\n",
    "- 프로그램 : 명령어들의 집합\n",
    "- 프로그래머 : 프로그램을 작성하는 주체자\n",
    "- 프로그래밍 : 명령어를 통하여 프로그램을 작성하는 행위\n",
    "    - 컴퓨터에게 반복적인 일을 시켜 생산성 높임 \n",
    "    \n",
    "<br>\n",
    "\n",
    "- 파이썬\n",
    "    - 인터프리터 언어 (한줄씩 실시간 번역되어 나타나는 번역방식)\n",
    "    - 오픈소스, 패키지가 점점 진화\n",
    "    - 귀도 반 로섬 개발\n",
    "    - 다양한 built-in function 내장\n",
    "    - 객체지향 프로그래밍 언어\n",
    "    - IDLE (intergreted development and learning environment)\n",
    "    - 대화형 모드 지원 (인터프리터 모드, 셸 모드)\n",
    "    \n",
    "<br>\n",
    "\n",
    "- 모듈 설치 및 사용\n",
    "    - import : 모듈 사용\n",
    "    - 특정 요소에 접근하기 위해선 모듈명.~~~~\n",
    "    - 모듈 설치 : pip\n",
    "    \n",
    " "
   ]
  },
  {
   "cell_type": "code",
   "execution_count": 1,
   "id": "431eb33f",
   "metadata": {
    "ExecuteTime": {
     "end_time": "2024-06-30T06:55:04.168545Z",
     "start_time": "2024-06-30T06:55:04.164311Z"
    }
   },
   "outputs": [
    {
     "name": "stdout",
     "output_type": "stream",
     "text": [
      "sys.version_info(major=3, minor=11, micro=6, releaselevel='final', serial=0)\n"
     ]
    }
   ],
   "source": [
    "# 파이썬 버전 확인\n",
    "\n",
    "import sys\n",
    "print(sys.version_info) # 3.11.6"
   ]
  },
  {
   "cell_type": "code",
   "execution_count": 2,
   "id": "a2a9196f",
   "metadata": {
    "ExecuteTime": {
     "end_time": "2024-06-30T06:56:03.915809Z",
     "start_time": "2024-06-30T06:56:03.912416Z"
    }
   },
   "outputs": [
    {
     "name": "stdout",
     "output_type": "stream",
     "text": [
      "314.1592653589793\n"
     ]
    }
   ],
   "source": [
    "# 원 면적 구하기\n",
    "\n",
    "from math import pi # math 패키지 (라이브러리 / 내장되어 있는 함수가 담겨짐)\n",
    "\n",
    "def get_size(r) : # r : parameter (매개변수)\n",
    "    return r * r * pi\n",
    "\n",
    "print (get_size(10)) # 10 : argument (인자)"
   ]
  },
  {
   "cell_type": "code",
   "execution_count": 14,
   "id": "bf012d86",
   "metadata": {
    "ExecuteTime": {
     "end_time": "2024-06-30T07:00:26.120308Z",
     "start_time": "2024-06-30T07:00:26.115778Z"
    }
   },
   "outputs": [
    {
     "name": "stdout",
     "output_type": "stream",
     "text": [
      "10\n",
      "0.5\n",
      "50\n",
      "4690\n",
      "10000\n",
      "40.82\n",
      "40.82\n",
      "40.81999999999999\n",
      "daramji good\n",
      "daramjidaramjidaramji\n",
      "문자열과 숫자형은 덧셈이나 뺄셈, 나눗셈이 불가능 (피연산자가 정수인 곱셈만 가능)\n"
     ]
    }
   ],
   "source": [
    "# 계산\n",
    "print (1 + 2 + 3 + 4)\n",
    "print (1/2)\n",
    "print (100 - 50)\n",
    "print (123 + 4567)\n",
    "print (100 * 100)\n",
    "print (13 * 3.14)\n",
    "print (abs(-13) * 3.14)\n",
    "print ((pow(13, 0.5) ** 2) * 3.14) # 오차 (부동 소수점)\n",
    "print ('daramji' + ' good')\n",
    "print ('daramji' * 3)\n",
    "\n",
    "try : \n",
    "    print ('daramji' - 3)\n",
    "except : \n",
    "    print (\"문자열과 숫자형은 덧셈이나 뺄셈, 나눗셈이 불가능 (피연산자가 정수인 곱셈만 가능)\")"
   ]
  },
  {
   "cell_type": "markdown",
   "id": "5b392321",
   "metadata": {},
   "source": [
    "대표적인 오류\n",
    "- typeerror : 자료형에 관련된 에러\n",
    "- nameerror : 변수명, 참조값의 이름이 잘못 접근될 때\n",
    "- indentation error : 들여쓰기가 잘못 되었을 때\n",
    "- syntaxerror : 문법 에러"
   ]
  },
  {
   "cell_type": "code",
   "execution_count": 16,
   "id": "8fc9082d",
   "metadata": {
    "ExecuteTime": {
     "end_time": "2024-06-30T07:03:03.993859Z",
     "start_time": "2024-06-30T07:03:03.990538Z"
    }
   },
   "outputs": [
    {
     "name": "stdout",
     "output_type": "stream",
     "text": [
      " a long long ago, there was a daramji.\n",
      "daramji was so cute and tiny, she was loved by everyone.\n",
      "daramji manse!\n",
      "\n"
     ]
    }
   ],
   "source": [
    "# 문자열에 개행이 삽입되어 있으면 -> 따옴표 3개 (주석마냥)\n",
    "\n",
    "sentence = ''' a long long ago, there was a daramji.\n",
    "daramji was so cute and tiny, she was loved by everyone.\n",
    "daramji manse!\n",
    "'''\n",
    "print (sentence)"
   ]
  },
  {
   "cell_type": "code",
   "execution_count": 19,
   "id": "c6cb05d2",
   "metadata": {
    "ExecuteTime": {
     "end_time": "2024-06-30T07:05:33.331435Z",
     "start_time": "2024-06-30T07:05:30.353718Z"
    }
   },
   "outputs": [],
   "source": [
    "# 터틀 그래픽으로 정n각형 그리기\n",
    "\n",
    "import turtle \n",
    "\n",
    "num_angle = int(turtle.textinput('number?', 'number?'))\n",
    "length = int(turtle.textinput('length?', 'length?'))\n",
    "\n",
    "for i in range (num_angle) : \n",
    "    turtle.forward(length)\n",
    "    turtle.left(360 / num_angle)"
   ]
  }
 ],
 "metadata": {
  "kernelspec": {
   "display_name": "Python 3 (ipykernel)",
   "language": "python",
   "name": "python3"
  },
  "language_info": {
   "codemirror_mode": {
    "name": "ipython",
    "version": 3
   },
   "file_extension": ".py",
   "mimetype": "text/x-python",
   "name": "python",
   "nbconvert_exporter": "python",
   "pygments_lexer": "ipython3",
   "version": "3.11.6"
  }
 },
 "nbformat": 4,
 "nbformat_minor": 5
}
