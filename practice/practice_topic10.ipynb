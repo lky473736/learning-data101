{
 "cells": [
  {
   "cell_type": "markdown",
   "id": "c6277f28",
   "metadata": {},
   "source": [
    "### 빅데이터분석개론 토픽10 복습\n",
    "- 2024 . 07 . 04\n",
    "\n",
    "------\n",
    "\n",
    "- list보다 numpy의 ndarray가 속도가 훨씬 빠름\n",
    "    - 대용량의 배열과 행렬 연산을 빠르게 처리 (반복문을 사용하지 않고 바로 계산)\n",
    "\n",
    "<br>\n",
    "\n",
    "- 다차원 배열 ndarray (n dimension array / 배열과 리스트는 다름)\n",
    "    - numpy에서 각 dimension을 axis라고 부름\n",
    "    - 각 요소는 index로 참조\n",
    "    - 장점\n",
    "        - c언어 기반 배열 구조 == 메모리 적게 차지 == 속도 빠름\n",
    "        - 배열과 배열 간 수학 연산의 적용\n",
    "        - 고급 연산자 및 함수 제공\n",
    "        \n"
   ]
  },
  {
   "cell_type": "code",
   "execution_count": 1,
   "id": "7e40e61e",
   "metadata": {
    "ExecuteTime": {
     "end_time": "2024-07-03T15:14:02.686463Z",
     "start_time": "2024-07-03T15:14:02.681872Z"
    }
   },
   "outputs": [
    {
     "name": "stdout",
     "output_type": "stream",
     "text": [
      "[10, 20, 30, 70, 80, 90]\n"
     ]
    }
   ],
   "source": [
    "# 파이썬 리스트\n",
    "\n",
    "mid_scores = [10, 20, 30]\n",
    "final_scores = [70, 80, 90]\n",
    "\n",
    "total = mid_scores + final_scores # 이러면 두 리스트가 연이어서 concatenate됨 (원래 원하던 연산이 아님)\n",
    "print (total)"
   ]
  },
  {
   "cell_type": "code",
   "execution_count": 2,
   "id": "f1f3ddce",
   "metadata": {
    "ExecuteTime": {
     "end_time": "2024-07-03T15:14:49.044993Z",
     "start_time": "2024-07-03T15:14:49.041242Z"
    }
   },
   "outputs": [
    {
     "name": "stdout",
     "output_type": "stream",
     "text": [
      "[ 80 100 120]\n"
     ]
    }
   ],
   "source": [
    "# ndarray\n",
    "\n",
    "import numpy as np\n",
    "\n",
    "mid_scores = np.array(mid_scores)\n",
    "final_scores = np.array(final_scores)\n",
    "\n",
    "total = mid_scores + final_scores # 원소간 합이 발생 (행렬합)\n",
    "print (total)"
   ]
  },
  {
   "cell_type": "code",
   "execution_count": 3,
   "id": "b07d78fe",
   "metadata": {
    "ExecuteTime": {
     "end_time": "2024-07-03T15:15:43.352743Z",
     "start_time": "2024-07-03T15:15:43.348041Z"
    }
   },
   "outputs": [
    {
     "name": "stdout",
     "output_type": "stream",
     "text": [
      "[ 2  4  6  8 10 12 14 16 18 20]\n",
      "[0 0 0 0 0 0 0 0 0 0]\n",
      "[  1   4   9  16  25  36  49  64  81 100]\n",
      "[1. 1. 1. 1. 1. 1. 1. 1. 1. 1.]\n"
     ]
    }
   ],
   "source": [
    "# numpy 사칙연산\n",
    "\n",
    "a = b = np.array(range(1, 11)) # np.arange(1, 11)\n",
    "print (a + b)\n",
    "print (a - b)\n",
    "print (a * b)\n",
    "print (a / b)"
   ]
  },
  {
   "cell_type": "markdown",
   "id": "512bdd71",
   "metadata": {},
   "source": [
    "------\n",
    "\n",
    "- numpy는 ndarray 안에 있는 component의 모든 자료형이 동일해야 한다 (마치 c언어처럼)\n",
    "- ndarray의 속성 : ndim, size, shape, itemsize, dtype\n",
    "    - ndim : dimension(axis)의 갯수\n",
    "    - size : 전체 component 갯수\n",
    "    - itemsize : 객체가 차지하고 있는 메모리 크기\n",
    "    - dtype : 데이터타입\n",
    "    - shape : 배열 모양"
   ]
  },
  {
   "cell_type": "code",
   "execution_count": 4,
   "id": "7c776b29",
   "metadata": {
    "ExecuteTime": {
     "end_time": "2024-07-03T15:19:24.557804Z",
     "start_time": "2024-07-03T15:19:24.553501Z"
    }
   },
   "outputs": [
    {
     "name": "stdout",
     "output_type": "stream",
     "text": [
      "1\n",
      "5\n",
      "8\n",
      "int64\n",
      "(5,)\n"
     ]
    }
   ],
   "source": [
    "# ndarray 속성\n",
    "\n",
    "np_array = np.array(range(1, 6))\n",
    "print (np_array.ndim) # 차원의 수\n",
    "print (np_array.size) # 항목 수\n",
    "print (np_array.itemsize) # 주메모리에 차지하고 있는 바이트의 용량\n",
    "print (np_array.dtype) # 데이터타입\n",
    "print (np_array.shape) # 배열의 형태"
   ]
  },
  {
   "cell_type": "markdown",
   "id": "cbffa27d",
   "metadata": {},
   "source": [
    "- numpy의 계산이 빠른 이유\n",
    "    - numpy는 동일한 타입의 데이터만 저장 가능 \n",
    "        - 따라서 만약에 numpy에 각각 다른 자료형을 가진 데이터를 삽입하면 전부 문자열로 동일히 변경됨\n",
    "    - 동일한 타입의 데이터만 다루면 임의 접근이 가능해진다\n",
    "    - 임의 접근 : 원하는 위치에 바로 접근하여 데이터를 읽고 씀\n",
    "    - 임의 접근 메모리 == RAM"
   ]
  },
  {
   "cell_type": "code",
   "execution_count": 6,
   "id": "60896abc",
   "metadata": {
    "ExecuteTime": {
     "end_time": "2024-07-03T15:22:11.996902Z",
     "start_time": "2024-07-03T15:22:11.992484Z"
    }
   },
   "outputs": [
    {
     "name": "stdout",
     "output_type": "stream",
     "text": [
      "[1 2 3]\n",
      "1\n",
      "[10  9  8  7  6  5  4  3  2  1]\n",
      "[ 2  4  6  8 10]\n"
     ]
    }
   ],
   "source": [
    "# ndarray도 슬라이싱, 인덱싱 가능\n",
    "\n",
    "np_array = np.array(range(1, 11))\n",
    "print (np_array[0:3]) # 1, 2, 3\n",
    "print (np_array[0]) # 1\n",
    "print (np_array[::-1]) # 10, 9, 8, 7, 6, 5, 4, 3, 2, 1\n",
    "print (np_array[1::2]) # 2, 4, 6, 8, 10"
   ]
  },
  {
   "cell_type": "code",
   "execution_count": 10,
   "id": "ae16b321",
   "metadata": {
    "ExecuteTime": {
     "end_time": "2024-07-03T15:23:57.853045Z",
     "start_time": "2024-07-03T15:23:57.848956Z"
    }
   },
   "outputs": [
    {
     "name": "stdout",
     "output_type": "stream",
     "text": [
      "[False False False  True  True  True  True  True  True  True]\n",
      "[ 4  5  6  7  8  9 10]\n",
      "[False  True False  True False  True False  True False  True]\n",
      "[ 2  4  6  8 10]\n"
     ]
    }
   ],
   "source": [
    "# logical indexing : 조건에 맞는 원소만 출력 가능\n",
    "\n",
    "print (np_array > 3) # 특정 원소가 3 초과가 되는 원소 (boolean)\n",
    "print (np_array[np_array > 3])\n",
    "\n",
    "print (np_array % 2 == 0) # 짝수\n",
    "print (np_array[np_array % 2 == 0]) "
   ]
  },
  {
   "cell_type": "markdown",
   "id": "8da30dcf",
   "metadata": {},
   "source": [
    "-------\n",
    "\n",
    "- 기존 리스트 : 이름이 리스트의 참조값을 가짐\n",
    "- ndarray : n차원 배열을 1차원으로 변환하여 참조값 가진다 (RAM에서는 1차원으로 저장되니깐)"
   ]
  },
  {
   "cell_type": "code",
   "execution_count": 11,
   "id": "ed2ac828",
   "metadata": {
    "ExecuteTime": {
     "end_time": "2024-07-03T15:25:04.665940Z",
     "start_time": "2024-07-03T15:25:04.661109Z"
    }
   },
   "outputs": [
    {
     "name": "stdout",
     "output_type": "stream",
     "text": [
      "1 4 7\n",
      "[[1, 2, 3], [4, 5, 6], [7, 8, 9]]\n",
      "1 4 7\n",
      "1 4 7\n",
      "[[1 2 3]\n",
      " [4 5 6]\n",
      " [7 8 9]]\n",
      "[100   2   3]\n"
     ]
    }
   ],
   "source": [
    "# 2차원 배열 == 리스트의 리스트\n",
    "\n",
    "y = [[1, 2, 3], [4, 5, 6], [7, 8, 9]]\n",
    "print (y[0][0], y[1][0], y[2][0])\n",
    "print (y)\n",
    "\n",
    "array_y = np.array(y)\n",
    "\n",
    "# 2차원 리스트의 특정 인덱스는 ,로 구분 ([][]보다 빠르다)\n",
    "# [0][2] == [0, 2]\n",
    "print (array_y[0][0], array_y[1][0], array_y[2][0])\n",
    "print (array_y[0, 0], array_y[1, 0], array_y[2, 0]) # 위와 같음\n",
    "print (array_y)\n",
    "\n",
    "# 특정 요소 변경\n",
    "# array_y[0, 0] = 100\n",
    "# print (array_y[0])"
   ]
  },
  {
   "cell_type": "code",
   "execution_count": 12,
   "id": "7300ee2c",
   "metadata": {
    "ExecuteTime": {
     "end_time": "2024-07-03T15:27:39.291518Z",
     "start_time": "2024-07-03T15:27:39.286658Z"
    }
   },
   "outputs": [
    {
     "name": "stdout",
     "output_type": "stream",
     "text": [
      "[[ 1  2  3  4]\n",
      " [ 5  6  7  8]\n",
      " [ 9 10 11 12]\n",
      " [13 14 15 16]]\n",
      "[1 2 3 4]\n",
      "[[ 1  2  3  4]\n",
      " [ 9 10 11 12]]\n",
      "[[1 2]\n",
      " [5 6]]\n",
      "[[ 1  3]\n",
      " [ 9 11]]\n",
      "[ 3  7 11 15]\n"
     ]
    }
   ],
   "source": [
    "# 슬라이싱 연습\n",
    "\n",
    "np_array = np.array([[i+j for j in range (4)] for i in range (1, 16, 4)])\n",
    "print (np_array)\n",
    "\n",
    "print (np_array[0]) # 0번째 행 출력\n",
    "print (np_array[0::2]) # 0번째 행, 2번째 행 출력\n",
    "print (np_array[0:2, 0:2]) # 0번째 행 ~ 1번째 행, 0번째 열 ~ 1번째 열\n",
    "print (np_array[0::2, 0::2]) # 0번째 행, 2번째 행, 0번째 열, 2번째 열\n",
    "print (np_array[:, 2]) # 2번째 열"
   ]
  },
  {
   "cell_type": "code",
   "execution_count": 13,
   "id": "33130136",
   "metadata": {
    "ExecuteTime": {
     "end_time": "2024-07-03T15:35:26.254728Z",
     "start_time": "2024-07-03T15:35:26.251412Z"
    }
   },
   "outputs": [
    {
     "name": "stdout",
     "output_type": "stream",
     "text": [
      "[[ 1  2  3  4]\n",
      " [ 5  6  7  8]\n",
      " [ 9 10 11 12]\n",
      " [13 14 15 16]]\n",
      "[[1 2 3 4]]\n",
      "[[ 1  3]\n",
      " [ 9 11]]\n"
     ]
    }
   ],
   "source": [
    "# 리스트 슬라이싱 vs numpy 슬라이싱\n",
    "\n",
    "print (np_array)\n",
    "\n",
    "print (np_array[::2][::2]) # 0행, 2행 선택, 그 중 첫번째 0행 선택\n",
    "print (np_array[::2, ::2]) # 0행, 2행 선택, 0열, 2열 선택"
   ]
  },
  {
   "attachments": {},
   "cell_type": "markdown",
   "id": "725d47f8",
   "metadata": {},
   "source": [
    "----\n",
    "\n",
    "- 차원\n",
    "    - 1차원 배열 == vector\n",
    "        - 배열 안 원소의 갯수 : 차원 \n",
    "        - [1, 2, 3] : 3차원 vector \n",
    "    - 3차원 배열 == tensor\n",
    "    - vector : 1차원 tensor\n",
    "    - matrix : 2차원 tensor"
   ]
  },
  {
   "cell_type": "code",
   "execution_count": 16,
   "id": "ca932ae1",
   "metadata": {
    "ExecuteTime": {
     "end_time": "2024-07-03T16:04:39.103638Z",
     "start_time": "2024-07-03T16:04:39.100136Z"
    }
   },
   "outputs": [
    {
     "name": "stdout",
     "output_type": "stream",
     "text": [
      "[ True  True  True  True  True  True  True  True  True  True]\n"
     ]
    }
   ],
   "source": [
    "# arange() vs range()\n",
    "# arange() == np.array(range())\n",
    "\n",
    "np_array_arange = np.arange(1, 11)\n",
    "np_array_range = np.array(range(1, 11))\n",
    "\n",
    "print (np_array_arange == np_array_range)"
   ]
  },
  {
   "cell_type": "code",
   "execution_count": 17,
   "id": "9498c347",
   "metadata": {
    "ExecuteTime": {
     "end_time": "2024-07-03T16:06:10.792156Z",
     "start_time": "2024-07-03T16:06:10.787998Z"
    }
   },
   "outputs": [
    {
     "name": "stdout",
     "output_type": "stream",
     "text": [
      "[   2.    4.    8.   16.   32.   64.  128.  256.  512. 1024.]\n",
      "[  1.  12.  23.  34.  45.  56.  67.  78.  89. 100.]\n"
     ]
    }
   ],
   "source": [
    "# linspace() : start부터 stop까지 데이터 생성 (균등간격)\n",
    "# logspace() : 10^start에서부터 10^stop까지 데이터 생성 (균등간격)\n",
    "\n",
    "# num 속성 : 범위 안 몇개의 num?\n",
    "# base 속성 : 밑 지정\n",
    "\n",
    "print (np.logspace(1, 10, num = 10, base = 2))\n",
    "print (np.linspace(1, 100, num = 10))"
   ]
  },
  {
   "cell_type": "code",
   "execution_count": 19,
   "id": "65518c0c",
   "metadata": {
    "ExecuteTime": {
     "end_time": "2024-07-03T16:07:24.500723Z",
     "start_time": "2024-07-03T16:07:24.496556Z"
    }
   },
   "outputs": [
    {
     "name": "stdout",
     "output_type": "stream",
     "text": [
      "[ 0  1  2  3  4  5  6  7  8  9 10 11]\n",
      "[[ 0  1  2  3  4  5]\n",
      " [ 6  7  8  9 10 11]]\n",
      "[[ 0  1  2  3]\n",
      " [ 4  5  6  7]\n",
      " [ 8  9 10 11]]\n"
     ]
    }
   ],
   "source": [
    "# reshpae : shape 변경하기\n",
    "# n by m -> l by k라면 n * m = l * k 만족해야 함\n",
    "\n",
    "y = np.arange(12)\n",
    "print (y)\n",
    "\n",
    "y = y.reshape(2, 6)\n",
    "print (y)\n",
    "\n",
    "y = y.reshape(3, 4)\n",
    "print (y)"
   ]
  },
  {
   "cell_type": "code",
   "execution_count": 21,
   "id": "aa420fbe",
   "metadata": {
    "ExecuteTime": {
     "end_time": "2024-07-03T16:08:37.248844Z",
     "start_time": "2024-07-03T16:08:37.245410Z"
    }
   },
   "outputs": [
    {
     "name": "stdout",
     "output_type": "stream",
     "text": [
      "[[1 2]\n",
      " [3 4]]\n",
      "[1 2 3 4]\n"
     ]
    }
   ],
   "source": [
    "# flatten : 평탄화 (고차원 배열을 1차원 배열로 변경)\n",
    "\n",
    "y = [[1, 2], [3, 4]]\n",
    "y = np.array(y)\n",
    "print (y)\n",
    "\n",
    "y = y.flatten()\n",
    "print (y)"
   ]
  },
  {
   "cell_type": "markdown",
   "id": "163474a3",
   "metadata": {},
   "source": [
    "----\n",
    "\n",
    "- 난수\n",
    "    - 무작위성을 가짐\n",
    "    - 컴퓨터 프로그래밍에서는 일정한 규칙인 seed를 가지고 난수를 만듦\n",
    "    - seed가 같으면 난수가 같을 수도 있다 (의사 난수)"
   ]
  },
  {
   "cell_type": "code",
   "execution_count": 22,
   "id": "c84cf186",
   "metadata": {
    "ExecuteTime": {
     "end_time": "2024-07-03T16:09:52.404303Z",
     "start_time": "2024-07-03T16:09:52.396576Z"
    }
   },
   "outputs": [
    {
     "name": "stdout",
     "output_type": "stream",
     "text": [
      "[0.54340494 0.27836939 0.42451759 0.84477613 0.00471886]\n",
      "[[0.12156912 0.67074908 0.82585276]\n",
      " [0.13670659 0.57509333 0.89132195]\n",
      " [0.20920212 0.18532822 0.10837689]\n",
      " [0.21969749 0.97862378 0.81168315]\n",
      " [0.17194101 0.81622475 0.27407375]]\n",
      "[4 4 4 2 2 6 4 1 3 2]\n",
      "[[4 3]\n",
      " [6 9]]\n"
     ]
    }
   ],
   "source": [
    "# 난수 만들기 (실수)\n",
    "np.random.seed(100) # seed 설정\n",
    "print (np.random.rand(5)) # 5개의 난수가 포함된 배열을 만듦 (0~1)\n",
    "print (np.random.rand(5, 3)) # 5 by 3\n",
    "\n",
    "# 난수 만들기 (정수)\n",
    "print (np.random.randint(1, 7, size=10)) # 1에서 7 이하\n",
    "print (np.random.randint(1, 10, size=(2, 2))) # 2행 2열 "
   ]
  },
  {
   "cell_type": "code",
   "execution_count": 23,
   "id": "97e4ebfe",
   "metadata": {
    "ExecuteTime": {
     "end_time": "2024-07-03T16:10:07.866341Z",
     "start_time": "2024-07-03T16:10:07.861106Z"
    }
   },
   "outputs": [
    {
     "name": "stdout",
     "output_type": "stream",
     "text": [
      "[-1.08310212 -2.06634065 -1.27064503 -2.09572442 -2.13740639]\n",
      "[[11.83169736 11.18515149]\n",
      " [10.07591626 10.74393514]]\n"
     ]
    }
   ],
   "source": [
    "# randn : 특정 난수, 하지만 0에 가까운 수들 (표준정규분포)\n",
    "print (np.random.randn(5))\n",
    "\n",
    "# 평균이 10이고 표준편차가 2인 정규분포 난수\n",
    "mu = 10\n",
    "sigma = 2\n",
    "randoms = mu + sigma * np.random.randn(2, 2) # 2 by 2\n",
    "print (randoms)"
   ]
  },
  {
   "cell_type": "code",
   "execution_count": 24,
   "id": "0e3bde3b",
   "metadata": {
    "ExecuteTime": {
     "end_time": "2024-07-03T16:10:12.853247Z",
     "start_time": "2024-07-03T16:10:12.849798Z"
    }
   },
   "outputs": [
    {
     "name": "stdout",
     "output_type": "stream",
     "text": [
      "[ 0.35975395 -0.14039647 -0.44373851  0.56877016  0.53848877  1.31557418\n",
      "  1.4789783   0.22142626 -1.11789416 -0.18499993]\n",
      "0.2595962542657967\n",
      "0.29059010136502667\n"
     ]
    }
   ],
   "source": [
    "# 10개 난수 생성하고, 평균과 중앙값 구하기\n",
    "numbers = np.random.randn(10)\n",
    "print (numbers)\n",
    "print (np.mean(numbers)) # 평균\n",
    "print (np.median(numbers)) # 중앙값"
   ]
  },
  {
   "cell_type": "code",
   "execution_count": 25,
   "id": "f97a3489",
   "metadata": {
    "ExecuteTime": {
     "end_time": "2024-07-03T16:10:20.576388Z",
     "start_time": "2024-07-03T16:10:20.572857Z"
    }
   },
   "outputs": [
    {
     "name": "stdout",
     "output_type": "stream",
     "text": [
      "[[0. 0. 0. ... 0. 0. 0.]\n",
      " [0. 0. 0. ... 0. 0. 0.]\n",
      " [0. 0. 0. ... 0. 0. 0.]\n",
      " ...\n",
      " [0. 0. 0. ... 0. 0. 0.]\n",
      " [0. 0. 0. ... 0. 0. 0.]\n",
      " [0. 0. 0. ... 0. 0. 0.]]\n"
     ]
    }
   ],
   "source": [
    "# zeros : 모든 배열의 값이 0\n",
    "print (np.zeros((100, 100))) # 100 by 100인 행렬, parameter값으로 튜플"
   ]
  },
  {
   "cell_type": "code",
   "execution_count": 26,
   "id": "416e0857",
   "metadata": {
    "ExecuteTime": {
     "end_time": "2024-07-03T16:11:11.332429Z",
     "start_time": "2024-07-03T16:11:11.328941Z"
    }
   },
   "outputs": [
    {
     "name": "stdout",
     "output_type": "stream",
     "text": [
      "[[1. 1. 1. ... 1. 1. 1.]\n",
      " [1. 1. 1. ... 1. 1. 1.]\n",
      " [1. 1. 1. ... 1. 1. 1.]\n",
      " ...\n",
      " [1. 1. 1. ... 1. 1. 1.]\n",
      " [1. 1. 1. ... 1. 1. 1.]\n",
      " [1. 1. 1. ... 1. 1. 1.]]\n"
     ]
    }
   ],
   "source": [
    "# ones : 모든 배열의 값이 1\n",
    "print (np.ones((100, 100))) # 100 by 100인 행렬, parameter값으로 튜플 "
   ]
  },
  {
   "cell_type": "markdown",
   "id": "3cf3041c",
   "metadata": {},
   "source": [
    "- corr\n",
    "    - 상관관계를 통하여 두 변수 및 세 변수 이상의 서로의 상관관계를 유추 가능\n",
    "    - diagonal은 전부 1, 자기 자신과의 상관관계이기 때문"
   ]
  },
  {
   "cell_type": "code",
   "execution_count": 27,
   "id": "4db1aaee",
   "metadata": {
    "ExecuteTime": {
     "end_time": "2024-07-03T16:12:00.973331Z",
     "start_time": "2024-07-03T16:12:00.969069Z"
    }
   },
   "outputs": [
    {
     "name": "stdout",
     "output_type": "stream",
     "text": [
      "[[1.         0.96885447]\n",
      " [0.96885447 1.        ]]\n"
     ]
    }
   ],
   "source": [
    "# 상관관계 파악하기\n",
    "\n",
    "x = [i for i in range (1, 101)]\n",
    "y = [i ** 2 for i in range (1, 101)]\n",
    "\n",
    "rst = np.corrcoef([x, y]) # 리스트 \n",
    "print (rst) # 상관이 매우 강하다 (양의 상관관계)"
   ]
  },
  {
   "cell_type": "code",
   "execution_count": 28,
   "id": "a364d581",
   "metadata": {
    "ExecuteTime": {
     "end_time": "2024-07-03T16:12:10.181699Z",
     "start_time": "2024-07-03T16:12:10.177375Z"
    }
   },
   "outputs": [
    {
     "name": "stdout",
     "output_type": "stream",
     "text": [
      "[[1.         0.96885447 0.91755196]\n",
      " [0.96885447 1.         0.98608688]\n",
      " [0.91755196 0.98608688 1.        ]]\n"
     ]
    }
   ],
   "source": [
    "# 상관관계 3차원\n",
    "\n",
    "x = [i for i in range (1, 101)]\n",
    "y = [i ** 2 for i in range (1, 101)]\n",
    "z = [i ** 3 for i in range (1, 101)]\n",
    "\n",
    "rst = np.corrcoef([x, y, z]) # 3개 이상의 변수는 리스트로 표현\n",
    "print (rst)"
   ]
  }
 ],
 "metadata": {
  "kernelspec": {
   "display_name": "Python 3 (ipykernel)",
   "language": "python",
   "name": "python3"
  },
  "language_info": {
   "codemirror_mode": {
    "name": "ipython",
    "version": 3
   },
   "file_extension": ".py",
   "mimetype": "text/x-python",
   "name": "python",
   "nbconvert_exporter": "python",
   "pygments_lexer": "ipython3",
   "version": "3.11.6"
  }
 },
 "nbformat": 4,
 "nbformat_minor": 5
}
