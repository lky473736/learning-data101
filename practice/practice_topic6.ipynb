{
 "cells": [
  {
   "cell_type": "markdown",
   "id": "f5a3048c",
   "metadata": {},
   "source": [
    "### 빅데이터분석개론 토픽6 복습\n",
    "- 2024 . 06 . 30 .\n",
    "\n",
    "-------\n",
    "\n",
    "- 파이썬으로 프로그램을 분리하는 3가지 방식\n",
    "    - 함수 : 코드의 덩어리, 모듈화 (입력이 다르면 출력이 다를 수도 있다)\n",
    "    - 객체 : 코드 중 독립적 단위로 분리 가능한 것\n",
    "    - 모듈 : 프로그램의 일부를 가지고 있는 독립적 파일, 파이썬 변수나 함수 또는 클래스를 모아놓은 별도의 스크립트 파일\n",
    "    \n",
    "<br>\n",
    "\n",
    "- 함수의 구성\n",
    "    - block : 함수를 실행할 때 발생되는 명령어들\n",
    "    - parameter : 매개변수, 함수 내부에서 전달받는 변수\n",
    "    - argument : 인자, 함수 외부에서 내부로 전달하는 변수 \n",
    "- 파이썬은 여러 개의 값을 반환할 수 있다 "
   ]
  },
  {
   "cell_type": "code",
   "execution_count": 1,
   "id": "6e3435c1",
   "metadata": {
    "ExecuteTime": {
     "end_time": "2024-06-30T09:43:13.286666Z",
     "start_time": "2024-06-30T09:43:13.278287Z"
    }
   },
   "outputs": [
    {
     "name": "stdout",
     "output_type": "stream",
     "text": [
      "55\n",
      "55.0\n"
     ]
    }
   ],
   "source": [
    "def get_sum_n (start, end) : # sigma n\n",
    "    sumation = 0 # 지역변수\n",
    "    \n",
    "    for num in range (start, end+1) :\n",
    "        sumation += num\n",
    "        \n",
    "    return sumation # return : 반환값\n",
    "\n",
    "def get_sum_n_formula (end) :\n",
    "    return end * (end+1) / 2 # 반환값\n",
    "\n",
    "print (get_sum_n(1, 10)) # 함수를 호출한 것\n",
    "print (get_sum_n_formula(10)) # 함수를 호출한 것"
   ]
  },
  {
   "cell_type": "code",
   "execution_count": 2,
   "id": "46257eaa",
   "metadata": {
    "ExecuteTime": {
     "end_time": "2024-06-30T09:44:11.114880Z",
     "start_time": "2024-06-30T09:44:11.111340Z"
    }
   },
   "outputs": [
    {
     "name": "stdout",
     "output_type": "stream",
     "text": [
      "30 -10\n"
     ]
    }
   ],
   "source": [
    "def plus_and_minus (a, b) : \n",
    "    return a + b, a - b # 파이썬은 2개 이상의 값을 동시에 반환할 수 있다\n",
    "\n",
    "a, b = plus_and_minus(10, 20) # 동시 할당\n",
    "print (a, b)"
   ]
  },
  {
   "cell_type": "markdown",
   "id": "db2494e1",
   "metadata": {},
   "source": [
    "------\n",
    "\n",
    "- 변수\n",
    "    - 지역변수 (local variable)\n",
    "        - 함수 안에서 생성, 함수가 종료됨과 동시에 메모리에서 사라짐 \n",
    "    - 전역변수 (global variable)\n",
    "        - 함수 밖에서 생성, 모든 곳에서 사용 가능\n",
    "        - 함수 호출과 관계 없이 메모리에서 유지됨"
   ]
  },
  {
   "cell_type": "code",
   "execution_count": 7,
   "id": "d667edb9",
   "metadata": {
    "ExecuteTime": {
     "end_time": "2024-06-30T09:50:31.717072Z",
     "start_time": "2024-06-30T09:50:23.507610Z"
    }
   },
   "outputs": [
    {
     "name": "stdout",
     "output_type": "stream",
     "text": [
      "시급을 입력하세요 : 9890\n",
      "시간을 입력하세요 : 11\n",
      "하루 일당 : 108790\n"
     ]
    }
   ],
   "source": [
    "# global 키워드를 사용하면 함수 내에서도 전역변수를 사용할 수 있게 된다\n",
    "\n",
    "money = 0\n",
    "wage = int(input(\"시급을 입력하세요 : \"))\n",
    "time = int(input(\"시간을 입력하세요 : \"))\n",
    "\n",
    "def get_money (time) :\n",
    "    global money # 함수 내에서 함수 외부의 전역변수를 사용\n",
    "    \n",
    "    if time >= 12 : \n",
    "        money = wage * time + wage * 0.2 * time\n",
    "        \n",
    "    else : \n",
    "        money = wage * time\n",
    "\n",
    "get_money(time)\n",
    "print (\"하루 일당 :\", money) # 함수에서 money에 실값을 대입한 것이 그대로 적용"
   ]
  },
  {
   "cell_type": "code",
   "execution_count": 13,
   "id": "a948e6fc",
   "metadata": {
    "ExecuteTime": {
     "end_time": "2024-06-30T09:53:53.441638Z",
     "start_time": "2024-06-30T09:53:53.436080Z"
    }
   },
   "outputs": [
    {
     "ename": "SyntaxError",
     "evalue": "positional argument follows keyword argument (3423700034.py, line 13)",
     "output_type": "error",
     "traceback": [
      "\u001b[0;36m  Cell \u001b[0;32mIn[13], line 13\u001b[0;36m\u001b[0m\n\u001b[0;31m    printer (x = 1, 2) # 이러면 안됨. 키워드 인자가 나온 뒤에는 위치 인자 올 수 없음\u001b[0m\n\u001b[0m                     ^\u001b[0m\n\u001b[0;31mSyntaxError\u001b[0m\u001b[0;31m:\u001b[0m positional argument follows keyword argument\n"
     ]
    }
   ],
   "source": [
    "# 디폴트 인자, 키워드 인자, 위치 인자\n",
    "\n",
    "def printer (x, y = 0, z = 0) : # 디폴트 인자\n",
    "    print ('%d %d %d' % (x, y, z))\n",
    "    \n",
    "printer (1) # 1, 0, 0\n",
    "printer (1, 2) # 1, 2, 0\n",
    "printer (1, 2, 3) # 1, 2, 3\n",
    "printer (x = 1, y = 2, z = 3) # 1, 2, 3 -> 키워드 인자 사용\n",
    "printer (y = 2, x = 1, z = 3) # 1, 2, 3 -> 키워드 인자를 사용하면 인자의 순서를 변경해도 무관하다\n",
    "\n",
    "try : \n",
    "    printer (x = 1, 2) # 이러면 안됨. 키워드 인자가 나온 뒤에는 위치 인자 올 수 없음\n",
    "    \n",
    "except SyntaxError :\n",
    "    print (\"키워드 인자가 나온 뒤에는 위치 인자 X\")"
   ]
  },
  {
   "cell_type": "code",
   "execution_count": 14,
   "id": "ac12baaf",
   "metadata": {
    "ExecuteTime": {
     "end_time": "2024-06-30T09:55:21.330147Z",
     "start_time": "2024-06-30T09:55:21.326712Z"
    }
   },
   "outputs": [
    {
     "name": "stdout",
     "output_type": "stream",
     "text": [
      "3628800\n"
     ]
    }
   ],
   "source": [
    "# 재귀\n",
    "# factorial\n",
    "\n",
    "def factorial (n) :\n",
    "    if n == 0 : \n",
    "        return 1\n",
    "    \n",
    "    else :\n",
    "        return n * factorial(n-1)\n",
    "    \n",
    "print (factorial(10))"
   ]
  },
  {
   "cell_type": "code",
   "execution_count": 16,
   "id": "ea597bd7",
   "metadata": {
    "ExecuteTime": {
     "end_time": "2024-06-30T09:56:23.207111Z",
     "start_time": "2024-06-30T09:56:22.968948Z"
    }
   },
   "outputs": [
    {
     "name": "stdout",
     "output_type": "stream",
     "text": [
      "0\n",
      "1\n",
      "1\n",
      "2\n",
      "3\n",
      "5\n",
      "8\n",
      "13\n",
      "21\n",
      "34\n",
      "55\n",
      "89\n",
      "144\n",
      "233\n",
      "377\n",
      "610\n",
      "987\n",
      "1597\n",
      "2584\n",
      "4181\n",
      "6765\n",
      "10946\n",
      "17711\n",
      "28657\n",
      "46368\n",
      "75025\n",
      "121393\n",
      "196418\n",
      "317811\n",
      "514229\n"
     ]
    }
   ],
   "source": [
    "# 재귀\n",
    "# fibonacci\n",
    "\n",
    "def fibonacci (n) :\n",
    "    if n == 1 : \n",
    "        return 0\n",
    "    \n",
    "    elif n == 2 : \n",
    "        return 1\n",
    "    \n",
    "    else : \n",
    "        return fibonacci(n-1) + fibonacci(n-2)\n",
    "    \n",
    "for i in range (1, 31) :\n",
    "    print(fibonacci(i))"
   ]
  }
 ],
 "metadata": {
  "kernelspec": {
   "display_name": "Python 3 (ipykernel)",
   "language": "python",
   "name": "python3"
  },
  "language_info": {
   "codemirror_mode": {
    "name": "ipython",
    "version": 3
   },
   "file_extension": ".py",
   "mimetype": "text/x-python",
   "name": "python",
   "nbconvert_exporter": "python",
   "pygments_lexer": "ipython3",
   "version": "3.11.6"
  }
 },
 "nbformat": 4,
 "nbformat_minor": 5
}
