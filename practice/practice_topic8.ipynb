{
 "cells": [
  {
   "cell_type": "markdown",
   "id": "099f5b2c",
   "metadata": {},
   "source": [
    "### 빅데이터분석개론 토픽8 복습\n",
    "- 2024 . 07 . 03\n",
    "\n",
    "----\n",
    "\n",
    "- 딕셔너리\n",
    "    - hash (c++)\n",
    "    - key-value pair 구조\n",
    "    - 중괄호, dict()를 통하여 선언"
   ]
  },
  {
   "cell_type": "code",
   "execution_count": 4,
   "id": "b408e33e",
   "metadata": {
    "ExecuteTime": {
     "end_time": "2024-07-03T13:36:37.504327Z",
     "start_time": "2024-07-03T13:36:37.500868Z"
    }
   },
   "outputs": [
    {
     "name": "stdout",
     "output_type": "stream",
     "text": [
      "[112, 'computer']\n",
      "[113, 'AI']\n"
     ]
    }
   ],
   "source": [
    "# 딕셔너리 선언\n",
    "\n",
    "students = {'lim' : [112, 'computer'], 'daramji' : [113, 'AI']}\n",
    "print (students['lim']) # key로 접근 (key를 인덱스에 넣으면 value를 반환)\n",
    "print (students['daramji']) "
   ]
  },
  {
   "cell_type": "code",
   "execution_count": 6,
   "id": "ebcdd92f",
   "metadata": {
    "ExecuteTime": {
     "end_time": "2024-07-03T13:38:19.149645Z",
     "start_time": "2024-07-03T13:38:19.145898Z"
    }
   },
   "outputs": [
    {
     "name": "stdout",
     "output_type": "stream",
     "text": [
      "dict_keys(['lim', 'daramji'])\n",
      "dict_values([[112, 'computer'], [113, 'AI']])\n",
      "dict_items([('lim', [112, 'computer']), ('daramji', [113, 'AI'])])\n",
      "name : lim, detail : (112, 'computer')\n",
      "name : daramji, detail : (113, 'AI')\n"
     ]
    }
   ],
   "source": [
    "# items, values, keys\n",
    "\n",
    "print (students.keys()) # key 목록을 리스트로 반환\n",
    "print (students.values()) # value를 리스트로 반환\n",
    "print (students.items()) # key, value 형태를 튜플로 묶어서 리스트로 반환\n",
    "\n",
    "for name, detail in students.items() :\n",
    "    print (f'name : {name}, detail : {detail[0], detail[1]}')"
   ]
  },
  {
   "cell_type": "code",
   "execution_count": 9,
   "id": "c0cd11cf",
   "metadata": {
    "ExecuteTime": {
     "end_time": "2024-07-03T13:40:43.286424Z",
     "start_time": "2024-07-03T13:40:43.282805Z"
    }
   },
   "outputs": [
    {
     "name": "stdout",
     "output_type": "stream",
     "text": [
      "[('daramji', [113, 'AI']), ('lim', [112, 'computer'])]\n"
     ]
    }
   ],
   "source": [
    "# 딕셔너리를 정렬 (sort)\n",
    "\n",
    "items = sorted(students.items(), reverse=True, key=lambda x : x[1][0]) # 학번을 내림차순하여 정렬\n",
    "print (items)"
   ]
  },
  {
   "cell_type": "code",
   "execution_count": 11,
   "id": "41bd3a6f",
   "metadata": {
    "ExecuteTime": {
     "end_time": "2024-07-03T13:42:20.648670Z",
     "start_time": "2024-07-03T13:42:20.645436Z"
    }
   },
   "outputs": [
    {
     "name": "stdout",
     "output_type": "stream",
     "text": [
      "{'lim': [112, 'computer'], 'daramji': [113, 'AI'], 'nonevalue': 'nonevalue'}\n",
      "{'lim': [112, 'computer'], 'daramji': [113, 'AI']}\n"
     ]
    }
   ],
   "source": [
    "# 딕셔너리의 특정 항목 삭제는 del 키워드\n",
    "\n",
    "students['nonevalue'] = 'nonevalue'\n",
    "print (students)\n",
    "\n",
    "del students['nonevalue'] # 'nonevalue' 값 삭제\n",
    "print (students)"
   ]
  },
  {
   "cell_type": "markdown",
   "id": "5e4c47bc",
   "metadata": {},
   "source": [
    "------\n",
    "\n",
    "- lambda \n",
    "    - 1회용 작업에 유용, 함수를 만들지 않고 함수화된 기능을 불러 사용 (익명 함수 : 함수의 이름이 없는 1회성 함수)\n",
    "    - 주의사항 : lambda 안에 새로운 변수를 선언할 수는 없다\n",
    "    - 반환 값은 변수 없이 식 한줄로 표현\n"
   ]
  },
  {
   "cell_type": "code",
   "execution_count": 13,
   "id": "a75a1e3e",
   "metadata": {
    "ExecuteTime": {
     "end_time": "2024-07-03T13:44:29.029347Z",
     "start_time": "2024-07-03T13:44:29.025466Z"
    }
   },
   "outputs": [
    {
     "name": "stdout",
     "output_type": "stream",
     "text": [
      "6\n",
      "[1, 1, 2, 2, 3, 4, 4, 10]\n"
     ]
    }
   ],
   "source": [
    "# lambda\n",
    "\n",
    "rst = (lambda x, y, z : x + y + z)(1, 2, 3)\n",
    "print (rst)\n",
    "\n",
    "rst1 = (lambda lst : sorted(lst))([4, 1, 2, 3, 1, 4, 2, 10])\n",
    "print (rst1)"
   ]
  },
  {
   "cell_type": "code",
   "execution_count": 19,
   "id": "307c1f2c",
   "metadata": {
    "ExecuteTime": {
     "end_time": "2024-07-03T13:47:37.282378Z",
     "start_time": "2024-07-03T13:47:37.277945Z"
    }
   },
   "outputs": [
    {
     "name": "stdout",
     "output_type": "stream",
     "text": [
      "[1, 3, 5, 7, 9]\n",
      "[3, 7]\n"
     ]
    }
   ],
   "source": [
    "# lambda를 이용하여 특정 튜플에서 항목 추출\n",
    "\n",
    "t = ((1, 2), (3, 4), (5, 6), (7, 8), (9, 0))\n",
    "print ((lambda t : [t[i][0] for i in range (len(t))])(t))\n",
    "\n",
    "lst = [[1, 2, [3, 4]], [5, 6, [7, 8]]]\n",
    "print ((lambda lst : [lst[i][2][0] for i in range (len(lst))])(lst))"
   ]
  },
  {
   "cell_type": "markdown",
   "id": "6f7c9b6e",
   "metadata": {},
   "source": [
    "-------\n",
    "\n",
    "- set\n",
    "    - 리스트, 튜플은 index가 존재하나, set은 존재하지 않음 (순서가 없음)\n",
    "    - in, not in 키워드의 사용이 용이\n",
    "    - 중복 허용이 되지 않음 \n",
    "    - 중괄호로 감싸서 선언"
   ]
  },
  {
   "cell_type": "code",
   "execution_count": 20,
   "id": "06959d7f",
   "metadata": {
    "ExecuteTime": {
     "end_time": "2024-07-03T13:49:33.395005Z",
     "start_time": "2024-07-03T13:49:33.391640Z"
    }
   },
   "outputs": [
    {
     "name": "stdout",
     "output_type": "stream",
     "text": [
      "{1, 2, 3, 4, 5}\n",
      "{1, 2, 3, 4, 5, 6}\n"
     ]
    }
   ],
   "source": [
    "seta = {1, 2, 3, 4, 5}\n",
    "seta.add(1)\n",
    "print (seta) # 1, 2, 3, 4, 5 (중복 허용 안함)\n",
    "\n",
    "seta.add(6)\n",
    "print (seta) # 1, 2, 3, 4, 5, 6"
   ]
  },
  {
   "cell_type": "code",
   "execution_count": 22,
   "id": "bb6f526d",
   "metadata": {
    "ExecuteTime": {
     "end_time": "2024-07-03T13:50:24.028707Z",
     "start_time": "2024-07-03T13:50:24.024981Z"
    }
   },
   "outputs": [
    {
     "name": "stdout",
     "output_type": "stream",
     "text": [
      "{1, 2, 3, 4, 5, 6, 7, 8}\n",
      "{'m', 'u', 'y', 't', 'j', 'c', 'v', 'e', 'r', ' ', 'i', 's', 'a', 'd'}\n"
     ]
    }
   ],
   "source": [
    "lista = [1, 1, 1, 2, 2, 3, 3, 4, 5, 6, 7, 1, 2, 8, 7, 1, 2]\n",
    "seta = set(lista)\n",
    "print (seta) # 중복이 전부 제거된 상태\n",
    "\n",
    "sentence = 'daramji is very cute'\n",
    "print (set(sentence))"
   ]
  },
  {
   "cell_type": "code",
   "execution_count": 23,
   "id": "2102bd04",
   "metadata": {
    "ExecuteTime": {
     "end_time": "2024-07-03T13:51:05.917145Z",
     "start_time": "2024-07-03T13:51:05.913547Z"
    }
   },
   "outputs": [
    {
     "name": "stdout",
     "output_type": "stream",
     "text": [
      "-1\n",
      "0\n",
      "1\n",
      "2\n",
      "3\n",
      "5\n"
     ]
    }
   ],
   "source": [
    "# 정렬된 순서로 set을 출력하려면 for문과 sorted를 엮어서 사용한다\n",
    "\n",
    "seta = {3, 1, 2, 5, -1, 0}\n",
    "for compo in sorted(seta) : # set 안에 정렬된 형식으로 데이터들을 꺼낼 수 있음\n",
    "    print (compo)"
   ]
  },
  {
   "cell_type": "code",
   "execution_count": 25,
   "id": "6a6657f2",
   "metadata": {
    "ExecuteTime": {
     "end_time": "2024-07-03T13:52:44.047244Z",
     "start_time": "2024-07-03T13:52:44.043580Z"
    }
   },
   "outputs": [
    {
     "name": "stdout",
     "output_type": "stream",
     "text": [
      "{'n', 'l', 'u', 'g', 't', 'o', 'b', 'h', ' ', '!', 'c', 'a', 'e'}\n",
      "{'n', 'l', 'u', 'g', 't', 'o', 'b', 'h', ' ', 'c', 'a', 'e'}\n"
     ]
    }
   ],
   "source": [
    "# add, remove\n",
    "\n",
    "seta = set('huggable cotton')\n",
    "seta.add('!')\n",
    "seta.add('a') # 중복 허용 X\n",
    "print (seta)\n",
    "\n",
    "seta.remove('!') # set에 있는 느낌표 제거\n",
    "print (seta)"
   ]
  },
  {
   "cell_type": "code",
   "execution_count": 27,
   "id": "8b37cd6f",
   "metadata": {
    "ExecuteTime": {
     "end_time": "2024-07-03T13:54:16.561275Z",
     "start_time": "2024-07-03T13:54:16.557637Z"
    }
   },
   "outputs": [
    {
     "name": "stdout",
     "output_type": "stream",
     "text": [
      "{1, 2, 3, 4, 5, 6, 7, 8, 9, 10}\n",
      "1 10 10\n",
      "55 5.5\n",
      "True True\n"
     ]
    }
   ],
   "source": [
    "# 집합에서도 min, max, len, sum, any, all 전부 가능하다\n",
    "\n",
    "seta = set(range(1, 11))\n",
    "print (seta)\n",
    "print (min(seta), max(seta), len(seta))\n",
    "print (sum(seta), sum(seta) / len(seta))\n",
    "print (any(seta), all(seta))\n",
    "\n",
    "# any : 하나라도 true?\n",
    "# all : 모두 true?"
   ]
  },
  {
   "cell_type": "code",
   "execution_count": 28,
   "id": "9b0ea638",
   "metadata": {
    "ExecuteTime": {
     "end_time": "2024-07-03T13:57:06.862958Z",
     "start_time": "2024-07-03T13:57:06.858416Z"
    }
   },
   "outputs": [
    {
     "name": "stdout",
     "output_type": "stream",
     "text": [
      "{1, 2, 3, 4, 5, 6, 7, 8, 9, 10} {1, 2, 3, 4, 5, 6, 7, 8, 9, 10}\n",
      "{5, 6, 7, 8, 9, 10} {5, 6, 7, 8, 9, 10}\n",
      "{1, 2, 3, 4} {1, 2, 3, 4}\n",
      "{1, 2, 3, 4} {1, 2, 3, 4}\n",
      "False\n",
      "True\n"
     ]
    }
   ],
   "source": [
    "# 집합의 연산\n",
    "# 합집합 : | : union\n",
    "# 교집합 : & : intersection\n",
    "# 차집합 : - : difference (교환법칙 성립 X)\n",
    "# 대칭차집합 : ^ \n",
    "# 부분집합 : <= / 진부분집합 : <\n",
    "\n",
    "seta = set(range(1, 11))\n",
    "setb = set(range(5, 11))\n",
    "\n",
    "print (seta.union(setb), seta | setb)\n",
    "print (seta.intersection(setb), seta & setb)\n",
    "print (seta.difference(setb), seta - setb)\n",
    "print (seta.symmetric_difference(setb), seta ^ setb)\n",
    "print (seta <= setb)\n",
    "print (seta > setb)"
   ]
  },
  {
   "cell_type": "markdown",
   "id": "62ec5dab",
   "metadata": {},
   "source": [
    "------\n",
    "\n",
    "- 파일 : 데이터를 저장할 때 사용하는 논리 단위\n",
    "- 디스크에 저장하여 언제든 불러올 수 있으며, 필요에 따라서 수정 가능\n"
   ]
  },
  {
   "cell_type": "code",
   "execution_count": 31,
   "id": "8ccba192",
   "metadata": {
    "ExecuteTime": {
     "end_time": "2024-07-03T13:59:38.704614Z",
     "start_time": "2024-07-03T13:59:38.701237Z"
    }
   },
   "outputs": [
    {
     "name": "stdout",
     "output_type": "stream",
     "text": [
      "hello world\n"
     ]
    }
   ],
   "source": [
    "# 파일을 읽기\n",
    "\n",
    "f = open('../data/hello.txt', 'r')\n",
    "file = f.read()\n",
    "print (file)"
   ]
  },
  {
   "cell_type": "code",
   "execution_count": 33,
   "id": "91a43d4f",
   "metadata": {
    "ExecuteTime": {
     "end_time": "2024-07-03T14:00:47.457978Z",
     "start_time": "2024-07-03T14:00:47.454706Z"
    }
   },
   "outputs": [],
   "source": [
    "# 파일을 쓰기 \n",
    "\n",
    "f = open('../data/hello.txt', 'a')\n",
    "f.write ('\\ndaramji')\n",
    "f.close()"
   ]
  },
  {
   "cell_type": "code",
   "execution_count": 34,
   "id": "24d48854",
   "metadata": {
    "ExecuteTime": {
     "end_time": "2024-07-03T14:01:07.994740Z",
     "start_time": "2024-07-03T14:01:07.991161Z"
    }
   },
   "outputs": [
    {
     "name": "stdout",
     "output_type": "stream",
     "text": [
      "hello world\n",
      "daramji\n"
     ]
    }
   ],
   "source": [
    "f = open('../data/hello.txt', 'r')\n",
    "content = f.read()\n",
    "print (content)"
   ]
  },
  {
   "cell_type": "code",
   "execution_count": 43,
   "id": "744549bb",
   "metadata": {
    "ExecuteTime": {
     "end_time": "2024-07-03T14:09:10.060848Z",
     "start_time": "2024-07-03T14:09:10.055898Z"
    }
   },
   "outputs": [
    {
     "name": "stdout",
     "output_type": "stream",
     "text": [
      "{'fast', 'together', 'that', 'is', 'alls', 'flock', 'travels', 'feather', 'begun', 'bad', 'birds', 'done', 'of', 'news', 'half', 'well', 'a', 'ends'}\n",
      "18\n"
     ]
    }
   ],
   "source": [
    "# 모비딕 소설에서 중복되지 않은 단어 갯수 구하기\n",
    "\n",
    "def process(word) :\n",
    "    output = ''\n",
    "    \n",
    "    for char in word :\n",
    "        if char.isalpha() == False : # 만약 특수문자 같은 것이 들어가있으면\n",
    "            continue\n",
    "            \n",
    "        else : \n",
    "            output += char \n",
    "            \n",
    "    return output.lower() # 소문자로 반환\n",
    "\n",
    "f = open('../data/proverb.txt', 'r')\n",
    "# content = f.read()\n",
    "# print (content)\n",
    "\n",
    "words = set()\n",
    "\n",
    "for line in f : \n",
    "    wordlist = line.split()\n",
    "    \n",
    "    for word in wordlist : \n",
    "        words.add(process(word))\n",
    "\n",
    "print (words)\n",
    "print (len(words))"
   ]
  }
 ],
 "metadata": {
  "kernelspec": {
   "display_name": "Python 3 (ipykernel)",
   "language": "python",
   "name": "python3"
  },
  "language_info": {
   "codemirror_mode": {
    "name": "ipython",
    "version": 3
   },
   "file_extension": ".py",
   "mimetype": "text/x-python",
   "name": "python",
   "nbconvert_exporter": "python",
   "pygments_lexer": "ipython3",
   "version": "3.11.6"
  }
 },
 "nbformat": 4,
 "nbformat_minor": 5
}
