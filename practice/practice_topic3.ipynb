{
 "cells": [
  {
   "cell_type": "markdown",
   "id": "3ef439ae",
   "metadata": {},
   "source": [
    "### 빅데이터분석개론 토픽3 복습\n",
    "- 2024 . 06 . 30 .\n",
    "\n",
    "-----------\n",
    "\n",
    "- 수식과 평가\n",
    "    - 수식의 결과값은 평가값이라고 보아도 무방하다\n",
    "    - 프로그래밍에서의 수식은 특정 값을 평가할 수 있는 수단\n",
    "        - 3 + 3 == 6이라면 3 + 3은 수식, 6은 평가값\n",
    "        \n",
    "<br>\n",
    "\n",
    "- 할당 (파이썬은 선언하지 않고 바로 사용 가능)\n",
    "    - 다중 할당 : 두개 이상의 변수에 한 값을 각각 동시 할당\n",
    "        - x = y = 10 (x랑 y에 동시에 10 할당) \n",
    "    - 동시 할당 : 두개 이상의 변수에 각각 다른 값을 동시 할당\n",
    "        - x, y = 10, 20 (x랑 y에 각각 10, 20 할당)\n",
    "    - 복합 할당 : 현재 실행 중인 연산자와 등호를 겹쳐 표현 가능\n",
    "        - a += 10\n",
    "        - a -= 10\n",
    "        - a *= 10\n",
    "        - a /= 10\n",
    "        - a //= 10\n",
    "        - a %= 10\n",
    "        - a **= 10\n",
    "        - a >>= 10\n",
    "        - a <<= 10\n",
    "        - a ^= 10\n",
    "        - a |= 10\n",
    "        - a &= 10"
   ]
  },
  {
   "cell_type": "code",
   "execution_count": 11,
   "id": "3b8ead50",
   "metadata": {
    "ExecuteTime": {
     "end_time": "2024-06-30T08:11:05.420100Z",
     "start_time": "2024-06-30T08:11:03.128659Z"
    }
   },
   "outputs": [
    {
     "name": "stdout",
     "output_type": "stream",
     "text": [
      "초를 입력하세요 : 86400\n",
      "24시간 0분 0초\n"
     ]
    }
   ],
   "source": [
    "# 연산자 : 피연산자들끼리 특정 연산을 수행하게 해줌\n",
    "# 나머지 연산자는 짝수, 홀수 구분에 많이 쓰임\n",
    "\n",
    "# 초를 입력하면 시, 분, 초 나오게 하기\n",
    "\n",
    "second = int(input(\"초를 입력하세요 : \"))\n",
    "\n",
    "hour = second // (60 * 60)\n",
    "second = second - hour * 60 * 60\n",
    "\n",
    "minute = second // 60\n",
    "second = second - minute * 60\n",
    "\n",
    "print (\"{0}시간 {1}분 {2}초\".format(hour, minute, second))"
   ]
  },
  {
   "cell_type": "markdown",
   "id": "4e6c7179",
   "metadata": {},
   "source": [
    "- 비교 연산자 : 부등호, 등호\n",
    "    - 비교 연산자의 결과는 boolean (True, False)\n",
    "- boolean은 빈 문자열 (''), 0, None 빼고는 전부 다 True\n",
    "- boolean끼리의 연산은 논리 연산자로 수행 : and, or, not"
   ]
  },
  {
   "cell_type": "code",
   "execution_count": 16,
   "id": "db5879b7",
   "metadata": {
    "ExecuteTime": {
     "end_time": "2024-06-30T08:14:26.199425Z",
     "start_time": "2024-06-30T08:14:26.195130Z"
    }
   },
   "outputs": [
    {
     "name": "stdout",
     "output_type": "stream",
     "text": [
      "True\n",
      "False\n",
      "True\n",
      "True\n",
      "False\n",
      "False\n",
      "True\n"
     ]
    }
   ],
   "source": [
    "# boolean\n",
    "\n",
    "print (bool(10)) # True\n",
    "print (bool(0)) # False\n",
    "print (bool(-1)) # True\n",
    "\n",
    "print (bool('daramji')) # True\n",
    "print (bool('')) # False\n",
    "\n",
    "print (bool(None))# False\n",
    "\n",
    "print (not(bool(None)) or not(bool(10))) # True or False == True"
   ]
  },
  {
   "cell_type": "markdown",
   "id": "6889383f",
   "metadata": {},
   "source": [
    "- 비트 단위의 연산은 비트 단위 연산자로 처리 (논리 연산자랑 헷갈리지 말 것)\n",
    "- 이진수 비트 표현은 bin()\n",
    "- &, |, ^, >>, <<, ~"
   ]
  },
  {
   "cell_type": "code",
   "execution_count": 21,
   "id": "5c0fff53",
   "metadata": {
    "ExecuteTime": {
     "end_time": "2024-06-30T08:17:36.868119Z",
     "start_time": "2024-06-30T08:17:36.861897Z"
    }
   },
   "outputs": [
    {
     "name": "stdout",
     "output_type": "stream",
     "text": [
      "0b1 -0b10\n",
      "0b10 -0b11\n",
      "0b11 -0b100\n",
      "0b100 -0b101\n",
      "0b101 -0b110\n",
      "0b110 -0b111\n",
      "0b111 -0b1000\n",
      "0b1000 -0b1001\n",
      "0b1001 -0b1010\n",
      "0b1010 -0b1011\n",
      "bin끼리의 연산은 괄호 안에서만 진행\n",
      "0b1001 0b1010 0b1000\n",
      "0b1001 0b1010 0b1011\n",
      "0b1001 0b1010 0b11\n",
      "0b1001 0b1010 0b10010000000000\n",
      "0b1001 0b1010 0b0\n"
     ]
    }
   ],
   "source": [
    "# bin\n",
    "\n",
    "for i in range (1, 11) :\n",
    "    print (bin(i), bin(~i)) # 음수는 2의 보수\n",
    "\n",
    "try : \n",
    "    print (bin(10), bin(1), bin(10) & bin(1))\n",
    "except : \n",
    "    print (\"bin끼리의 연산은 괄호 안에서만 진행\") # 논리 연산자와 다른 점\n",
    "    \n",
    "print (bin(9), bin(10), bin (9 & 10))\n",
    "print (bin(9), bin(10), bin (9 | 10))\n",
    "print (bin(9), bin(10), bin (9 ^ 10))\n",
    "print (bin(9), bin(10), bin (9 << 10)) # 왼쪽으로 10자리만큼 shift (2^n)\n",
    "print (bin(9), bin(10), bin (9 >> 10)) # 오른쪽으로 10자리만큼 shift (2^-n)"
   ]
  },
  {
   "cell_type": "code",
   "execution_count": 24,
   "id": "49892129",
   "metadata": {
    "ExecuteTime": {
     "end_time": "2024-06-30T08:18:41.884415Z",
     "start_time": "2024-06-30T08:18:40.253250Z"
    }
   },
   "outputs": [
    {
     "name": "stdout",
     "output_type": "stream",
     "text": [
      "10 20 30 \n",
      "20.0\n"
     ]
    }
   ],
   "source": [
    "# map을 이용하여 공백으로 구분지어 입력받을 수 있음\n",
    "x, y, z = map(int, input().split())\n",
    "print ((x + y + z) / 3)"
   ]
  },
  {
   "cell_type": "code",
   "execution_count": 25,
   "id": "87592c7e",
   "metadata": {
    "ExecuteTime": {
     "end_time": "2024-06-30T08:21:15.926859Z",
     "start_time": "2024-06-30T08:21:15.922035Z"
    }
   },
   "outputs": [
    {
     "name": "stdout",
     "output_type": "stream",
     "text": [
      "4\n",
      "1\n",
      "3\n",
      "3\n",
      "1\n",
      "0.6937094737503741\n",
      "[3, 4, 2, 1, 5]\n"
     ]
    }
   ],
   "source": [
    "# random 라이브러리\n",
    "\n",
    "import random\n",
    "\n",
    "slist = [1, 2, 3, 4, 5]\n",
    "\n",
    "print (random.choice(slist)) # slist 안에 아무거나 한 원소 뽑음\n",
    "\n",
    "print (random.randint(1, 6)) # 1부터 6포함해서 랜덤\n",
    "print (random.randrange(6)) # 0부터 6포함 안하고 5까지 랜덤\n",
    "print (random.randrange(1, 6)) # 1부터 6포함 안하고 5까지 랜덤\n",
    "print (random.randrange(1, 6, 3)) # 1부터 6포함 안하고 5까지 3간격 중에서 랜덤\n",
    "# 1, 4 중 랜덤\n",
    "print (random.random()) # 0~1 사이에서 아무거나 실수값\n",
    "\n",
    "random.shuffle(slist) # slist를 섞음\n",
    "print (slist)"
   ]
  },
  {
   "cell_type": "code",
   "execution_count": 27,
   "id": "a88d3e69",
   "metadata": {
    "ExecuteTime": {
     "end_time": "2024-06-30T08:22:38.900281Z",
     "start_time": "2024-06-30T08:22:38.896362Z"
    }
   },
   "outputs": [
    {
     "name": "stdout",
     "output_type": "stream",
     "text": [
      "3.141592653589793\n",
      "10.0\n",
      "59049.0\n",
      "4.605170185988092\n",
      "-1.0\n"
     ]
    }
   ],
   "source": [
    "# math 라이브러리\n",
    "\n",
    "import math\n",
    "\n",
    "print (math.pi) # 원주율\n",
    "print (math.fabs(-10)) # 절댓값\n",
    "print (math.pow(3, 10)) # 거듭제곱\n",
    "print (math.log(100)) # 로그\n",
    "print (math.sin(math.pi / -2)) # 삼각함수 (단위원 기준)"
   ]
  }
 ],
 "metadata": {
  "kernelspec": {
   "display_name": "Python 3 (ipykernel)",
   "language": "python",
   "name": "python3"
  },
  "language_info": {
   "codemirror_mode": {
    "name": "ipython",
    "version": 3
   },
   "file_extension": ".py",
   "mimetype": "text/x-python",
   "name": "python",
   "nbconvert_exporter": "python",
   "pygments_lexer": "ipython3",
   "version": "3.11.6"
  }
 },
 "nbformat": 4,
 "nbformat_minor": 5
}
