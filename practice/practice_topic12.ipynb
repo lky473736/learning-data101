{
 "cells": [
  {
   "cell_type": "markdown",
   "id": "b5ef6082",
   "metadata": {},
   "source": [
    "### 빅데이터분석개론 토픽12 복습\n",
    "- 2024 . 07 . 04\n",
    "------\n",
    "\n",
    "- numpy : ndarray 제공, 한꺼번에 데이터 처리 가능\n",
    "- pandas : panel data\n",
    "    - 구조\n",
    "        - series : 1차원 구조를 가진 하나의 열\n",
    "        - dataframes : series의 모임, 복수의 열을 가짐\n",
    "    - 전처리 및 데이터 추가, 삭제, 정렬, 조작에 편리\n",
    "    - numpy 의존 -> list, dict, ndarray를 df로 변환이 가능해짐\n",
    "    \n",
    "<br>\n",
    "\n",
    "- csv : 쉼표로 구분한 변수를 번역한 말, 첫번째 행은 속성, 개행하여 행을 표현\n",
    "- 파이썬 모듈 csv로도 csv 읽을 수 있음"
   ]
  },
  {
   "cell_type": "code",
   "execution_count": 2,
   "id": "f0dd062b",
   "metadata": {
    "ExecuteTime": {
     "end_time": "2024-07-03T16:40:09.351581Z",
     "start_time": "2024-07-03T16:40:09.346861Z"
    }
   },
   "outputs": [
    {
     "name": "stdout",
     "output_type": "stream",
     "text": [
      "['일시', '평균기온(°C)', '최대 풍속(m/s)', '평균 풍속(m/s)']\n",
      "['2010-08-01', '28.7', '8.3', '3.4']\n",
      "['2010-08-02', '25.2', '8.7', '3.8']\n",
      "['2010-08-03', '22.1', '6.3', '2.9']\n",
      "['2010-08-04', '25.3', '6.6', '4.2']\n",
      "['2010-08-05', '27.2', '9.1', '5.6']\n",
      "['2010-08-06', '26.8', '9.8', '8']\n",
      "['2010-08-07', '27.5', '9.1', '5']\n",
      "['2010-08-08', '26.6', '5.9', '4']\n",
      "['2010-08-09', '26.9', '5.1', '3.1']\n",
      "['2010-08-10', '25.6', '10.2', '5.5']\n",
      "['2010-08-11', '24.6', '9.4', '4.8']\n",
      "['2010-08-12', '23.7', '8.7', '2.6']\n",
      "['2010-08-13', '24.3', '10.9', '4.6']\n",
      "['2010-08-14', '25', '10.8', '4.4']\n",
      "['2010-08-15', '24.5', '16.9', '10.3']\n",
      "['2010-08-16', '26.2', '9.8', '3.2']\n",
      "['2010-08-17', '23.9', '4.2', '1.6']\n",
      "['2010-08-18', '23.4', '4.2', '2.1']\n",
      "['2010-08-19', '24.3', '4', '1.9']\n"
     ]
    }
   ],
   "source": [
    "# csv 모듈로 데이터 읽기\n",
    "\n",
    "import csv\n",
    "\n",
    "# 한글이 깨질수도 있으니 encoding을 cp949로\n",
    "f = open('../data/csv/weather.csv', 'r', encoding='cp949')\n",
    "data = csv.reader(f)\n",
    "\n",
    "cnt = 0\n",
    "for row in data : \n",
    "    print (row)\n",
    "    cnt += 1\n",
    "    \n",
    "    if cnt == 20 :\n",
    "        break"
   ]
  },
  {
   "cell_type": "code",
   "execution_count": 6,
   "id": "fe7bd913",
   "metadata": {
    "ExecuteTime": {
     "end_time": "2024-07-03T16:42:01.067028Z",
     "start_time": "2024-07-03T16:42:01.062452Z"
    }
   },
   "outputs": [
    {
     "name": "stdout",
     "output_type": "stream",
     "text": [
      "8.3\n",
      "8.7\n",
      "6.3\n",
      "6.6\n",
      "9.1\n",
      "9.8\n",
      "9.1\n",
      "5.9\n",
      "5.1\n",
      "10.2\n",
      "9.4\n",
      "8.7\n",
      "10.9\n",
      "10.8\n",
      "16.9\n",
      "9.8\n",
      "4.2\n",
      "4.2\n",
      "4\n",
      "5\n"
     ]
    }
   ],
   "source": [
    "# 위의 df 중 최대풍속 열만 보고 싶다면\n",
    "\n",
    "# csv 모듈로 데이터 읽기\n",
    "f = open('../data/csv/weather.csv', 'r', encoding='cp949')\n",
    "data = csv.reader(f)\n",
    "header = next(data)\n",
    "\n",
    "cnt = 0\n",
    "for row in data : \n",
    "    print (row[2])\n",
    "    cnt += 1\n",
    "    \n",
    "    if cnt == 20 :\n",
    "        break"
   ]
  },
  {
   "cell_type": "markdown",
   "id": "d31f1cbe",
   "metadata": {},
   "source": [
    "-----\n",
    "\n",
    "- pandas 구조\n",
    "    - series : 1차원 구조를 가진 데이터, dataframes에서 열을 담당\n",
    "    - dataframes : series의 집합, 2차원 테이블 구조\n",
    "    \n"
   ]
  },
  {
   "cell_type": "code",
   "execution_count": 8,
   "id": "b6e93db4",
   "metadata": {
    "ExecuteTime": {
     "end_time": "2024-07-03T16:43:52.105285Z",
     "start_time": "2024-07-03T16:43:52.096705Z"
    }
   },
   "outputs": [
    {
     "data": {
      "text/plain": [
       "0    1.0\n",
       "1    3.0\n",
       "2    4.0\n",
       "3    NaN\n",
       "4    6.0\n",
       "5    8.0\n",
       "dtype: float64"
      ]
     },
     "execution_count": 8,
     "metadata": {},
     "output_type": "execute_result"
    }
   ],
   "source": [
    "# series : 1차원 배열 (ndarray)\n",
    "# series 안에 리스트 넣음\n",
    "\n",
    "import numpy as np\n",
    "import pandas as pd\n",
    "\n",
    "series = pd.Series([1, 3, 4, np.nan, 6, 8]) # nan : 결측치\n",
    "series"
   ]
  },
  {
   "cell_type": "code",
   "execution_count": 9,
   "id": "37ab934f",
   "metadata": {
    "ExecuteTime": {
     "end_time": "2024-07-03T16:46:22.104289Z",
     "start_time": "2024-07-03T16:46:22.094130Z"
    }
   },
   "outputs": [
    {
     "data": {
      "text/html": [
       "<div>\n",
       "<style scoped>\n",
       "    .dataframe tbody tr th:only-of-type {\n",
       "        vertical-align: middle;\n",
       "    }\n",
       "\n",
       "    .dataframe tbody tr th {\n",
       "        vertical-align: top;\n",
       "    }\n",
       "\n",
       "    .dataframe thead th {\n",
       "        text-align: right;\n",
       "    }\n",
       "</style>\n",
       "<table border=\"1\" class=\"dataframe\">\n",
       "  <thead>\n",
       "    <tr style=\"text-align: right;\">\n",
       "      <th></th>\n",
       "      <th>이름</th>\n",
       "      <th>나이</th>\n",
       "      <th>지역</th>\n",
       "    </tr>\n",
       "  </thead>\n",
       "  <tbody>\n",
       "    <tr>\n",
       "      <th>0</th>\n",
       "      <td>daramji</td>\n",
       "      <td>2</td>\n",
       "      <td>A</td>\n",
       "    </tr>\n",
       "    <tr>\n",
       "      <th>1</th>\n",
       "      <td>matbatji</td>\n",
       "      <td>2</td>\n",
       "      <td>A</td>\n",
       "    </tr>\n",
       "    <tr>\n",
       "      <th>2</th>\n",
       "      <td>mallang</td>\n",
       "      <td>3</td>\n",
       "      <td>B</td>\n",
       "    </tr>\n",
       "  </tbody>\n",
       "</table>\n",
       "</div>"
      ],
      "text/plain": [
       "         이름  나이 지역\n",
       "0   daramji   2  A\n",
       "1  matbatji   2  A\n",
       "2   mallang   3  B"
      ]
     },
     "execution_count": 9,
     "metadata": {},
     "output_type": "execute_result"
    }
   ],
   "source": [
    "# dataframes : series의 집합\n",
    "# dataframes 안에 딕셔너리 넣음\n",
    "\n",
    "name = pd.Series(['daramji', 'matbatji', 'mallang'])\n",
    "age = pd.Series([2, 2, 3])\n",
    "region = pd.Series(['A', 'A', 'B'])\n",
    "\n",
    "animal_df = pd.DataFrame({'이름' : name, '나이' : age, '지역' : region})\n",
    "animal_df"
   ]
  },
  {
   "cell_type": "code",
   "execution_count": 12,
   "id": "2ee96823",
   "metadata": {
    "ExecuteTime": {
     "end_time": "2024-07-03T16:47:24.916689Z",
     "start_time": "2024-07-03T16:47:24.909212Z"
    }
   },
   "outputs": [
    {
     "data": {
      "text/html": [
       "<div>\n",
       "<style scoped>\n",
       "    .dataframe tbody tr th:only-of-type {\n",
       "        vertical-align: middle;\n",
       "    }\n",
       "\n",
       "    .dataframe tbody tr th {\n",
       "        vertical-align: top;\n",
       "    }\n",
       "\n",
       "    .dataframe thead th {\n",
       "        text-align: right;\n",
       "    }\n",
       "</style>\n",
       "<table border=\"1\" class=\"dataframe\">\n",
       "  <thead>\n",
       "    <tr style=\"text-align: right;\">\n",
       "      <th></th>\n",
       "      <th>이름</th>\n",
       "      <th>나이</th>\n",
       "      <th>지역</th>\n",
       "    </tr>\n",
       "  </thead>\n",
       "  <tbody>\n",
       "    <tr>\n",
       "      <th>0</th>\n",
       "      <td>daramji</td>\n",
       "      <td>2</td>\n",
       "      <td>A</td>\n",
       "    </tr>\n",
       "    <tr>\n",
       "      <th>1</th>\n",
       "      <td>matbatji</td>\n",
       "      <td>2</td>\n",
       "      <td>A</td>\n",
       "    </tr>\n",
       "    <tr>\n",
       "      <th>2</th>\n",
       "      <td>mallang</td>\n",
       "      <td>3</td>\n",
       "      <td>B</td>\n",
       "    </tr>\n",
       "  </tbody>\n",
       "</table>\n",
       "</div>"
      ],
      "text/plain": [
       "         이름  나이 지역\n",
       "0   daramji   2  A\n",
       "1  matbatji   2  A\n",
       "2   mallang   3  B"
      ]
     },
     "execution_count": 12,
     "metadata": {},
     "output_type": "execute_result"
    }
   ],
   "source": [
    "# 이름을 index로 하기\n",
    "\n",
    "animal_df = pd.DataFrame({'이름' : name, '나이' : age, '지역' : region})\n",
    "animal_df"
   ]
  },
  {
   "cell_type": "code",
   "execution_count": 13,
   "id": "bd28be22",
   "metadata": {
    "ExecuteTime": {
     "end_time": "2024-07-03T16:50:22.909485Z",
     "start_time": "2024-07-03T16:50:22.900247Z"
    }
   },
   "outputs": [
    {
     "data": {
      "text/html": [
       "<div>\n",
       "<style scoped>\n",
       "    .dataframe tbody tr th:only-of-type {\n",
       "        vertical-align: middle;\n",
       "    }\n",
       "\n",
       "    .dataframe tbody tr th {\n",
       "        vertical-align: top;\n",
       "    }\n",
       "\n",
       "    .dataframe thead th {\n",
       "        text-align: right;\n",
       "    }\n",
       "</style>\n",
       "<table border=\"1\" class=\"dataframe\">\n",
       "  <thead>\n",
       "    <tr style=\"text-align: right;\">\n",
       "      <th></th>\n",
       "      <th>Unnamed: 0</th>\n",
       "      <th>country</th>\n",
       "      <th>area</th>\n",
       "      <th>capital</th>\n",
       "      <th>population</th>\n",
       "    </tr>\n",
       "  </thead>\n",
       "  <tbody>\n",
       "    <tr>\n",
       "      <th>0</th>\n",
       "      <td>KR</td>\n",
       "      <td>Korea</td>\n",
       "      <td>98480</td>\n",
       "      <td>Seoul</td>\n",
       "      <td>51780579</td>\n",
       "    </tr>\n",
       "    <tr>\n",
       "      <th>1</th>\n",
       "      <td>US</td>\n",
       "      <td>USA</td>\n",
       "      <td>9629091</td>\n",
       "      <td>Washington</td>\n",
       "      <td>331002825</td>\n",
       "    </tr>\n",
       "    <tr>\n",
       "      <th>2</th>\n",
       "      <td>JP</td>\n",
       "      <td>Japan</td>\n",
       "      <td>377835</td>\n",
       "      <td>Tokyo</td>\n",
       "      <td>125960000</td>\n",
       "    </tr>\n",
       "    <tr>\n",
       "      <th>3</th>\n",
       "      <td>CN</td>\n",
       "      <td>China</td>\n",
       "      <td>9596960</td>\n",
       "      <td>Beijing</td>\n",
       "      <td>1439323688</td>\n",
       "    </tr>\n",
       "    <tr>\n",
       "      <th>4</th>\n",
       "      <td>RU</td>\n",
       "      <td>Russia</td>\n",
       "      <td>17100000</td>\n",
       "      <td>Moscow</td>\n",
       "      <td>146748600</td>\n",
       "    </tr>\n",
       "  </tbody>\n",
       "</table>\n",
       "</div>"
      ],
      "text/plain": [
       "  Unnamed: 0 country      area     capital  population\n",
       "0         KR   Korea     98480       Seoul    51780579\n",
       "1         US     USA   9629091  Washington   331002825\n",
       "2         JP   Japan    377835       Tokyo   125960000\n",
       "3         CN   China   9596960     Beijing  1439323688\n",
       "4         RU  Russia  17100000      Moscow   146748600"
      ]
     },
     "execution_count": 13,
     "metadata": {},
     "output_type": "execute_result"
    }
   ],
   "source": [
    "# csv 파일 읽기\n",
    "\n",
    "import pandas as pd\n",
    "country = pd.read_csv('../data/csv/countries.csv')\n",
    "\n",
    "country # 인덱스 번호는 판다스가 추가한 열"
   ]
  },
  {
   "cell_type": "code",
   "execution_count": 15,
   "id": "330c330d",
   "metadata": {
    "ExecuteTime": {
     "end_time": "2024-07-03T16:52:31.035467Z",
     "start_time": "2024-07-03T16:52:31.025564Z"
    }
   },
   "outputs": [
    {
     "data": {
      "text/html": [
       "<div>\n",
       "<style scoped>\n",
       "    .dataframe tbody tr th:only-of-type {\n",
       "        vertical-align: middle;\n",
       "    }\n",
       "\n",
       "    .dataframe tbody tr th {\n",
       "        vertical-align: top;\n",
       "    }\n",
       "\n",
       "    .dataframe thead th {\n",
       "        text-align: right;\n",
       "    }\n",
       "</style>\n",
       "<table border=\"1\" class=\"dataframe\">\n",
       "  <thead>\n",
       "    <tr style=\"text-align: right;\">\n",
       "      <th></th>\n",
       "      <th>country</th>\n",
       "      <th>area</th>\n",
       "      <th>capital</th>\n",
       "      <th>population</th>\n",
       "    </tr>\n",
       "  </thead>\n",
       "  <tbody>\n",
       "    <tr>\n",
       "      <th>KR</th>\n",
       "      <td>Korea</td>\n",
       "      <td>98480</td>\n",
       "      <td>Seoul</td>\n",
       "      <td>51780579</td>\n",
       "    </tr>\n",
       "    <tr>\n",
       "      <th>US</th>\n",
       "      <td>USA</td>\n",
       "      <td>9629091</td>\n",
       "      <td>Washington</td>\n",
       "      <td>331002825</td>\n",
       "    </tr>\n",
       "    <tr>\n",
       "      <th>JP</th>\n",
       "      <td>Japan</td>\n",
       "      <td>377835</td>\n",
       "      <td>Tokyo</td>\n",
       "      <td>125960000</td>\n",
       "    </tr>\n",
       "    <tr>\n",
       "      <th>CN</th>\n",
       "      <td>China</td>\n",
       "      <td>9596960</td>\n",
       "      <td>Beijing</td>\n",
       "      <td>1439323688</td>\n",
       "    </tr>\n",
       "    <tr>\n",
       "      <th>RU</th>\n",
       "      <td>Russia</td>\n",
       "      <td>17100000</td>\n",
       "      <td>Moscow</td>\n",
       "      <td>146748600</td>\n",
       "    </tr>\n",
       "  </tbody>\n",
       "</table>\n",
       "</div>"
      ],
      "text/plain": [
       "   country      area     capital  population\n",
       "KR   Korea     98480       Seoul    51780579\n",
       "US     USA   9629091  Washington   331002825\n",
       "JP   Japan    377835       Tokyo   125960000\n",
       "CN   China   9596960     Beijing  1439323688\n",
       "RU  Russia  17100000      Moscow   146748600"
      ]
     },
     "execution_count": 15,
     "metadata": {},
     "output_type": "execute_result"
    }
   ],
   "source": [
    "# index_col == 특정 열을 index로 할 수 있게 하는 속성\n",
    "\n",
    "country = pd.read_csv('../data/csv/countries.csv', index_col=0)\n",
    "country # 이제부터 각 행의 인덱스는 0번째 열"
   ]
  },
  {
   "cell_type": "code",
   "execution_count": 16,
   "id": "72bbed72",
   "metadata": {
    "ExecuteTime": {
     "end_time": "2024-07-03T16:53:03.432179Z",
     "start_time": "2024-07-03T16:53:03.425459Z"
    }
   },
   "outputs": [
    {
     "data": {
      "text/html": [
       "<div>\n",
       "<style scoped>\n",
       "    .dataframe tbody tr th:only-of-type {\n",
       "        vertical-align: middle;\n",
       "    }\n",
       "\n",
       "    .dataframe tbody tr th {\n",
       "        vertical-align: top;\n",
       "    }\n",
       "\n",
       "    .dataframe thead th {\n",
       "        text-align: right;\n",
       "    }\n",
       "</style>\n",
       "<table border=\"1\" class=\"dataframe\">\n",
       "  <thead>\n",
       "    <tr style=\"text-align: right;\">\n",
       "      <th></th>\n",
       "      <th>area</th>\n",
       "      <th>country</th>\n",
       "    </tr>\n",
       "  </thead>\n",
       "  <tbody>\n",
       "    <tr>\n",
       "      <th>KR</th>\n",
       "      <td>98480</td>\n",
       "      <td>Korea</td>\n",
       "    </tr>\n",
       "    <tr>\n",
       "      <th>US</th>\n",
       "      <td>9629091</td>\n",
       "      <td>USA</td>\n",
       "    </tr>\n",
       "    <tr>\n",
       "      <th>JP</th>\n",
       "      <td>377835</td>\n",
       "      <td>Japan</td>\n",
       "    </tr>\n",
       "    <tr>\n",
       "      <th>CN</th>\n",
       "      <td>9596960</td>\n",
       "      <td>China</td>\n",
       "    </tr>\n",
       "    <tr>\n",
       "      <th>RU</th>\n",
       "      <td>17100000</td>\n",
       "      <td>Russia</td>\n",
       "    </tr>\n",
       "  </tbody>\n",
       "</table>\n",
       "</div>"
      ],
      "text/plain": [
       "        area country\n",
       "KR     98480   Korea\n",
       "US   9629091     USA\n",
       "JP    377835   Japan\n",
       "CN   9596960   China\n",
       "RU  17100000  Russia"
      ]
     },
     "execution_count": 16,
     "metadata": {},
     "output_type": "execute_result"
    }
   ],
   "source": [
    "country[['area', 'country']] # 2차원 배열에 담음"
   ]
  },
  {
   "cell_type": "code",
   "execution_count": 17,
   "id": "570a1bcf",
   "metadata": {
    "ExecuteTime": {
     "end_time": "2024-07-03T16:53:09.962568Z",
     "start_time": "2024-07-03T16:53:09.956459Z"
    }
   },
   "outputs": [
    {
     "data": {
      "text/html": [
       "<div>\n",
       "<style scoped>\n",
       "    .dataframe tbody tr th:only-of-type {\n",
       "        vertical-align: middle;\n",
       "    }\n",
       "\n",
       "    .dataframe tbody tr th {\n",
       "        vertical-align: top;\n",
       "    }\n",
       "\n",
       "    .dataframe thead th {\n",
       "        text-align: right;\n",
       "    }\n",
       "</style>\n",
       "<table border=\"1\" class=\"dataframe\">\n",
       "  <thead>\n",
       "    <tr style=\"text-align: right;\">\n",
       "      <th></th>\n",
       "      <th>area</th>\n",
       "    </tr>\n",
       "  </thead>\n",
       "  <tbody>\n",
       "    <tr>\n",
       "      <th>KR</th>\n",
       "      <td>98480</td>\n",
       "    </tr>\n",
       "    <tr>\n",
       "      <th>US</th>\n",
       "      <td>9629091</td>\n",
       "    </tr>\n",
       "    <tr>\n",
       "      <th>JP</th>\n",
       "      <td>377835</td>\n",
       "    </tr>\n",
       "    <tr>\n",
       "      <th>CN</th>\n",
       "      <td>9596960</td>\n",
       "    </tr>\n",
       "    <tr>\n",
       "      <th>RU</th>\n",
       "      <td>17100000</td>\n",
       "    </tr>\n",
       "  </tbody>\n",
       "</table>\n",
       "</div>"
      ],
      "text/plain": [
       "        area\n",
       "KR     98480\n",
       "US   9629091\n",
       "JP    377835\n",
       "CN   9596960\n",
       "RU  17100000"
      ]
     },
     "execution_count": 17,
     "metadata": {},
     "output_type": "execute_result"
    }
   ],
   "source": [
    "country[['area']] \n",
    "# 첫번째 열만 가리킬 때는 굳이 리스트의 리스트를 만들지 않아도 됨"
   ]
  },
  {
   "cell_type": "code",
   "execution_count": 18,
   "id": "adcc68a1",
   "metadata": {
    "ExecuteTime": {
     "end_time": "2024-07-03T16:53:36.698670Z",
     "start_time": "2024-07-03T16:53:36.691677Z"
    }
   },
   "outputs": [
    {
     "data": {
      "text/html": [
       "<div>\n",
       "<style scoped>\n",
       "    .dataframe tbody tr th:only-of-type {\n",
       "        vertical-align: middle;\n",
       "    }\n",
       "\n",
       "    .dataframe tbody tr th {\n",
       "        vertical-align: top;\n",
       "    }\n",
       "\n",
       "    .dataframe thead th {\n",
       "        text-align: right;\n",
       "    }\n",
       "</style>\n",
       "<table border=\"1\" class=\"dataframe\">\n",
       "  <thead>\n",
       "    <tr style=\"text-align: right;\">\n",
       "      <th></th>\n",
       "      <th>country</th>\n",
       "      <th>area</th>\n",
       "      <th>capital</th>\n",
       "      <th>population</th>\n",
       "    </tr>\n",
       "  </thead>\n",
       "  <tbody>\n",
       "    <tr>\n",
       "      <th>KR</th>\n",
       "      <td>Korea</td>\n",
       "      <td>98480</td>\n",
       "      <td>Seoul</td>\n",
       "      <td>51780579</td>\n",
       "    </tr>\n",
       "    <tr>\n",
       "      <th>US</th>\n",
       "      <td>USA</td>\n",
       "      <td>9629091</td>\n",
       "      <td>Washington</td>\n",
       "      <td>331002825</td>\n",
       "    </tr>\n",
       "    <tr>\n",
       "      <th>JP</th>\n",
       "      <td>Japan</td>\n",
       "      <td>377835</td>\n",
       "      <td>Tokyo</td>\n",
       "      <td>125960000</td>\n",
       "    </tr>\n",
       "    <tr>\n",
       "      <th>CN</th>\n",
       "      <td>China</td>\n",
       "      <td>9596960</td>\n",
       "      <td>Beijing</td>\n",
       "      <td>1439323688</td>\n",
       "    </tr>\n",
       "    <tr>\n",
       "      <th>RU</th>\n",
       "      <td>Russia</td>\n",
       "      <td>17100000</td>\n",
       "      <td>Moscow</td>\n",
       "      <td>146748600</td>\n",
       "    </tr>\n",
       "  </tbody>\n",
       "</table>\n",
       "</div>"
      ],
      "text/plain": [
       "   country      area     capital  population\n",
       "KR   Korea     98480       Seoul    51780579\n",
       "US     USA   9629091  Washington   331002825\n",
       "JP   Japan    377835       Tokyo   125960000\n",
       "CN   China   9596960     Beijing  1439323688\n",
       "RU  Russia  17100000      Moscow   146748600"
      ]
     },
     "execution_count": 18,
     "metadata": {},
     "output_type": "execute_result"
    }
   ],
   "source": [
    "# pandas도 슬라이싱이 가능\n",
    "\n",
    "country.head()"
   ]
  },
  {
   "cell_type": "code",
   "execution_count": 19,
   "id": "41322e0b",
   "metadata": {
    "ExecuteTime": {
     "end_time": "2024-07-03T16:53:49.372547Z",
     "start_time": "2024-07-03T16:53:49.365704Z"
    }
   },
   "outputs": [
    {
     "data": {
      "text/html": [
       "<div>\n",
       "<style scoped>\n",
       "    .dataframe tbody tr th:only-of-type {\n",
       "        vertical-align: middle;\n",
       "    }\n",
       "\n",
       "    .dataframe tbody tr th {\n",
       "        vertical-align: top;\n",
       "    }\n",
       "\n",
       "    .dataframe thead th {\n",
       "        text-align: right;\n",
       "    }\n",
       "</style>\n",
       "<table border=\"1\" class=\"dataframe\">\n",
       "  <thead>\n",
       "    <tr style=\"text-align: right;\">\n",
       "      <th></th>\n",
       "      <th>country</th>\n",
       "      <th>area</th>\n",
       "      <th>capital</th>\n",
       "      <th>population</th>\n",
       "    </tr>\n",
       "  </thead>\n",
       "  <tbody>\n",
       "    <tr>\n",
       "      <th>KR</th>\n",
       "      <td>Korea</td>\n",
       "      <td>98480</td>\n",
       "      <td>Seoul</td>\n",
       "      <td>51780579</td>\n",
       "    </tr>\n",
       "    <tr>\n",
       "      <th>US</th>\n",
       "      <td>USA</td>\n",
       "      <td>9629091</td>\n",
       "      <td>Washington</td>\n",
       "      <td>331002825</td>\n",
       "    </tr>\n",
       "    <tr>\n",
       "      <th>JP</th>\n",
       "      <td>Japan</td>\n",
       "      <td>377835</td>\n",
       "      <td>Tokyo</td>\n",
       "      <td>125960000</td>\n",
       "    </tr>\n",
       "  </tbody>\n",
       "</table>\n",
       "</div>"
      ],
      "text/plain": [
       "   country     area     capital  population\n",
       "KR   Korea    98480       Seoul    51780579\n",
       "US     USA  9629091  Washington   331002825\n",
       "JP   Japan   377835       Tokyo   125960000"
      ]
     },
     "execution_count": 19,
     "metadata": {},
     "output_type": "execute_result"
    }
   ],
   "source": [
    "country[:3]"
   ]
  },
  {
   "cell_type": "code",
   "execution_count": 22,
   "id": "0cb75a1e",
   "metadata": {
    "ExecuteTime": {
     "end_time": "2024-07-03T16:55:05.396563Z",
     "start_time": "2024-07-03T16:55:05.391846Z"
    }
   },
   "outputs": [
    {
     "data": {
      "text/plain": [
       "country          Korea\n",
       "area             98480\n",
       "capital          Seoul\n",
       "population    51780579\n",
       "Name: KR, dtype: object"
      ]
     },
     "execution_count": 22,
     "metadata": {},
     "output_type": "execute_result"
    }
   ],
   "source": [
    "# 특정 행만 선택\n",
    "country.loc['KR']"
   ]
  },
  {
   "cell_type": "code",
   "execution_count": null,
   "id": "ebf0c707",
   "metadata": {},
   "outputs": [],
   "source": [
    "# 열 생성 == 딕셔너리 추가하는 것과 비슷\n",
    "country['density'] = country['population'] / country['']"
   ]
  }
 ],
 "metadata": {
  "kernelspec": {
   "display_name": "Python 3 (ipykernel)",
   "language": "python",
   "name": "python3"
  },
  "language_info": {
   "codemirror_mode": {
    "name": "ipython",
    "version": 3
   },
   "file_extension": ".py",
   "mimetype": "text/x-python",
   "name": "python",
   "nbconvert_exporter": "python",
   "pygments_lexer": "ipython3",
   "version": "3.11.6"
  }
 },
 "nbformat": 4,
 "nbformat_minor": 5
}
