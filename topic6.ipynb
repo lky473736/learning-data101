{
 "cells": [
  {
   "cell_type": "markdown",
   "id": "aa5fe1bb",
   "metadata": {},
   "source": [
    "### 빅데이터분석개론 토픽6\n",
    "- 2024 . 06 . 27 . \n",
    "- https://blog.naver.com/xook___/222368229724\n",
    "-------"
   ]
  },
  {
   "cell_type": "markdown",
   "id": "618baa79",
   "metadata": {},
   "source": [
    "#### 6단원. 함수로 일처리를 짜임새 있게 하자\n",
    "\n",
    "- 파이썬으로 프로그램을 분리하는 3가지 방법\n",
    "    - 함수 : 코드의 덩어리, 모듈화 (입력이 다르면 출력도 다를 수 있다)\n",
    "    - 객체 : 코드 중에서 독립적 단위로 분리 가능\n",
    "    - 모듈 : 프로그램의 일부를 가지고 있는 독립적 파일, 파이썬 변수나 함수 또는 클래스를 모아놓은 스크립트 파일\n",
    "\n",
    "<br>\n",
    "  \n",
    "- 함수의 구성\n",
    "    - block : 함수를 실행할 때 발생되는 명령어들\n",
    "    - parameter : 매개변수, 함수 내부에서 전달받는 변수\n",
    "    - argument : 인자, 함수 호출 시 전달되는 실제 값\n",
    "- 파이썬은 여러 개의 값을 반환할 수 있다는 것이 큰 특징 (생산성 뛰어남)"
   ]
  },
  {
   "cell_type": "code",
   "execution_count": 1,
   "id": "33f1c57b",
   "metadata": {
    "ExecuteTime": {
     "end_time": "2024-06-30T09:42:33.277566Z",
     "start_time": "2024-06-30T09:42:33.265195Z"
    }
   },
   "outputs": [
    {
     "name": "stdout",
     "output_type": "stream",
     "text": [
      "55\n",
      "55.0\n"
     ]
    }
   ],
   "source": [
    "def get_sum_n (start, end) : # sigma n\n",
    "    sumation = 0\n",
    "    \n",
    "    for num in range (start, end+1) :\n",
    "        sumation += num\n",
    "        \n",
    "    return sumation # return : 반환값\n",
    "\n",
    "def get_sum_n_formula (end) :\n",
    "    return end * (end+1) / 2\n",
    "\n",
    "print (get_sum_n(1, 10)) # 함수를 호출한 것\n",
    "print (get_sum_n_formula(10)) # 함수를 호출한 것"
   ]
  },
  {
   "cell_type": "code",
   "execution_count": 6,
   "id": "900b8751",
   "metadata": {
    "ExecuteTime": {
     "end_time": "2024-06-29T14:15:16.936581Z",
     "start_time": "2024-06-29T14:15:16.932148Z"
    }
   },
   "outputs": [
    {
     "name": "stdout",
     "output_type": "stream",
     "text": [
      "385\n",
      "385.0\n"
     ]
    }
   ],
   "source": [
    "def get_sum_nsquared (start, end) : # sigma n**2\n",
    "    sumation = 0\n",
    "    \n",
    "    for num in range (start, end+1) :\n",
    "        sumation += num**2\n",
    "        \n",
    "    return sumation\n",
    "\n",
    "def get_sum_nsquared_formula (end) :\n",
    "    return end * (end+1) * (2*end+1) / 6\n",
    "\n",
    "print (get_sum_nsquared(1, 10))\n",
    "print (get_sum_nsquared_formula(10))"
   ]
  },
  {
   "cell_type": "code",
   "execution_count": 7,
   "id": "8d5f85ce",
   "metadata": {
    "ExecuteTime": {
     "end_time": "2024-06-29T14:15:51.240880Z",
     "start_time": "2024-06-29T14:15:51.236187Z"
    }
   },
   "outputs": [
    {
     "name": "stdout",
     "output_type": "stream",
     "text": [
      "3025\n",
      "3025.0\n"
     ]
    }
   ],
   "source": [
    "def get_sum_nthird (start, end) :\n",
    "    sumation = 0\n",
    "    \n",
    "    for num in range (start, end+1) :\n",
    "        sumation += num**3\n",
    "        \n",
    "    return sumation\n",
    "\n",
    "def get_sum_nthird_formula(end) :\n",
    "    return (end * (end+1) / 2)**2\n",
    "\n",
    "print (get_sum_nthird(1, 10))\n",
    "print (get_sum_nthird_formula(10))"
   ]
  },
  {
   "cell_type": "code",
   "execution_count": 8,
   "id": "a5adb9b5",
   "metadata": {
    "ExecuteTime": {
     "end_time": "2024-06-29T14:16:42.707127Z",
     "start_time": "2024-06-29T14:16:42.702584Z"
    }
   },
   "outputs": [
    {
     "name": "stdout",
     "output_type": "stream",
     "text": [
      "24 0.041666666666666664 10 -8\n"
     ]
    }
   ],
   "source": [
    "def calc (a, b, c, d) :\n",
    "    times = a * b * c * d\n",
    "    divides = a / b / c / d\n",
    "    plus = a + b + c + d\n",
    "    minus = a - b - c - d\n",
    "    \n",
    "    return times, divides, plus, minus # 각각 반환\n",
    "\n",
    "t, d, p, m = calc(1, 2, 3, 4) # 복합 할당 (다중 반환은 t, d, p, m이 모두 동일한 값일 때)\n",
    "print (t, d, p, m)"
   ]
  },
  {
   "cell_type": "code",
   "execution_count": 9,
   "id": "3179b261",
   "metadata": {
    "ExecuteTime": {
     "end_time": "2024-06-29T14:16:49.886062Z",
     "start_time": "2024-06-29T14:16:45.806925Z"
    },
    "scrolled": true
   },
   "outputs": [
    {
     "name": "stdout",
     "output_type": "stream",
     "text": [
      "길이 : 10\n"
     ]
    },
    {
     "name": "stderr",
     "output_type": "stream",
     "text": [
      "2024-06-29 23:16:48.654 Python[99067:1051577] WARNING: Secure coding is not enabled for restorable state! Enable secure coding by implementing NSApplicationDelegate.applicationSupportsSecureRestorableState: and returning YES.\n"
     ]
    }
   ],
   "source": [
    "import turtle\n",
    "\n",
    "def square (length) :\n",
    "    for i in range (4) :\n",
    "        turtle.forward (length)\n",
    "        turtle.left(90)\n",
    "    \n",
    "length = int(input(\"길이 : \"))\n",
    "square(length)"
   ]
  },
  {
   "cell_type": "markdown",
   "id": "a893306a",
   "metadata": {},
   "source": [
    "------\n",
    "\n",
    "- 변수\n",
    "    - 지역변수 (local var)\n",
    "        - 함수 안에서 생성되는 변수\n",
    "        - 반환되지 않는다면 함수 내에서 사용되고, 함수가 종료될 시 메모리에서 사라짐 (별개의 메모리)\n",
    "    - 전역변수 (global var)\n",
    "        - 함수 밖에서 생성된 변수\n",
    "        - 함수 호출에 관계없이 메모리에서 유지됨"
   ]
  },
  {
   "cell_type": "code",
   "execution_count": 1,
   "id": "47832ff3",
   "metadata": {
    "ExecuteTime": {
     "end_time": "2024-06-29T14:20:49.376220Z",
     "start_time": "2024-06-29T14:20:46.703076Z"
    }
   },
   "outputs": [
    {
     "name": "stdout",
     "output_type": "stream",
     "text": [
      "r과 h를 공백을 기준으로 입력 : 3 100\n",
      "주급은 405\n"
     ]
    }
   ],
   "source": [
    "money = 0\n",
    "\n",
    "def weeklypay (rate, hour) :\n",
    "    global money # global을 사용하면 함수 내에서 함수 외부의 전역변수를 사용하겠다고 선언할 수 있다\n",
    "    \n",
    "    if (hour <= 30) : \n",
    "        money = rate * hour\n",
    "        \n",
    "    else :\n",
    "        money = rate * 30 + 1.5 * rate * (hour - 30)\n",
    "        \n",
    "r, h = map(int, input(\"r과 h를 공백을 기준으로 입력 : \").split())\n",
    "weeklypay(r, h)\n",
    "print (\"주급은 %d\" % (money))"
   ]
  },
  {
   "cell_type": "code",
   "execution_count": 6,
   "id": "e1431c23",
   "metadata": {
    "ExecuteTime": {
     "end_time": "2024-06-29T14:25:38.057849Z",
     "start_time": "2024-06-29T14:25:38.053489Z"
    }
   },
   "outputs": [
    {
     "name": "stdout",
     "output_type": "stream",
     "text": [
      "100, 200, 300\n",
      "100, 200, 0\n",
      "100, 200, 300\n",
      "100, 200, 300\n"
     ]
    }
   ],
   "source": [
    "# 디폴트 인자, 키워드 인자\n",
    "# 원래 인자 == 위치 인자\n",
    "\n",
    "def printer (x, y, z = 0) :\n",
    "    print ('{0}, {1}, {2}'.format(x, y, z))\n",
    "    \n",
    "printer(100, 200, 300) # 3개의 인자를 넣었음 \n",
    "printer(100, 200) # 이렇게 하면 z는 디폴트 인자에 의하여 0으로 출력\n",
    "printer(x = 100, y = 200, z = 300) # 인자들 앞에 키워드 두어 인자 구분 가능 (이러면 순서를 다르게 해도 됨)\n",
    "printer(y = 200, z = 300, x = 100)\n",
    "\n",
    "# 인자의 순서는 언제나 위치인자가 먼저 나오고, 키워드 인자가 나온 뒤에는 위치 인자는 나올 수 없음"
   ]
  },
  {
   "cell_type": "code",
   "execution_count": 3,
   "id": "81e93b93",
   "metadata": {
    "ExecuteTime": {
     "end_time": "2024-06-27T01:27:49.679013Z",
     "start_time": "2024-06-27T01:27:46.616419Z"
    }
   },
   "outputs": [
    {
     "name": "stderr",
     "output_type": "stream",
     "text": [
      "2024-06-27 10:27:46.736 Python[64681:1881043] WARNING: Secure coding is not enabled for restorable state! Enable secure coding by implementing NSApplicationDelegate.applicationSupportsSecureRestorableState: and returning YES.\n"
     ]
    }
   ],
   "source": [
    "import turtle\n",
    "\n",
    "def func (x) :\n",
    "    return x ** 2 + 1\n",
    "\n",
    "for x in range (150) :\n",
    "    turtle.goto(x, int(0.01 * func(x)))"
   ]
  },
  {
   "cell_type": "code",
   "execution_count": 7,
   "id": "80d9ae9e",
   "metadata": {
    "ExecuteTime": {
     "end_time": "2024-06-29T14:26:47.626963Z",
     "start_time": "2024-06-29T14:26:47.623257Z"
    }
   },
   "outputs": [
    {
     "name": "stdout",
     "output_type": "stream",
     "text": [
      "120\n"
     ]
    }
   ],
   "source": [
    "# 재귀\n",
    "# 자기 자신을 호출\n",
    "\n",
    "def factorial (n) :\n",
    "    if n == 0 : \n",
    "        return 1\n",
    "    \n",
    "    else :\n",
    "        return n * factorial(n-1)\n",
    "    \n",
    "print (factorial(5))"
   ]
  },
  {
   "cell_type": "code",
   "execution_count": 9,
   "id": "24bd7809",
   "metadata": {
    "ExecuteTime": {
     "end_time": "2024-06-29T14:27:09.274278Z",
     "start_time": "2024-06-29T14:27:09.267787Z"
    },
    "scrolled": true
   },
   "outputs": [
    {
     "name": "stdout",
     "output_type": "stream",
     "text": [
      "0\n",
      "1\n",
      "1\n",
      "2\n",
      "3\n",
      "5\n",
      "8\n",
      "13\n",
      "21\n",
      "34\n",
      "55\n",
      "89\n",
      "144\n",
      "233\n",
      "377\n",
      "610\n",
      "987\n",
      "1597\n",
      "2584\n",
      "4181\n"
     ]
    }
   ],
   "source": [
    "# 피보나치 수열\n",
    "def fibonacci (n) :\n",
    "    if n == 1 : \n",
    "        return 0 # 첫째항\n",
    "    \n",
    "    elif n == 2 : \n",
    "        return 1 # 둘째항\n",
    "    \n",
    "    else : \n",
    "        return fibonacci(n-1) + fibonacci(n-2) # 셋째항부터\n",
    "  \n",
    "for i in range (1, 21) :\n",
    "    print (fibonacci(i))"
   ]
  }
 ],
 "metadata": {
  "kernelspec": {
   "display_name": "Python 3 (ipykernel)",
   "language": "python",
   "name": "python3"
  },
  "language_info": {
   "codemirror_mode": {
    "name": "ipython",
    "version": 3
   },
   "file_extension": ".py",
   "mimetype": "text/x-python",
   "name": "python",
   "nbconvert_exporter": "python",
   "pygments_lexer": "ipython3",
   "version": "3.11.6"
  }
 },
 "nbformat": 4,
 "nbformat_minor": 5
}
