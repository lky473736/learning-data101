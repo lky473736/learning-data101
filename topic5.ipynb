{
 "cells": [
  {
   "cell_type": "markdown",
   "id": "11531bd1",
   "metadata": {},
   "source": [
    "### 빅데이터분석개론 토픽5\n",
    "- 2024 . 06 . 26 . \n",
    "- https://blog.naver.com/xook___/222368229724\n",
    "-------"
   ]
  },
  {
   "cell_type": "markdown",
   "id": "1065cbef",
   "metadata": {},
   "source": [
    "#### 5단원. 반복하는 일을 수행하자\n",
    "\n",
    "python에서의 반복문\n",
    "- for문 : 횟수를 정해놓은 반복, sequence 항목들을 가져오는 반복\n",
    "- while문 : 특정한 조건이 만족되면 반복\n",
    "- 만약 특정 조건이 계속적으로 만족이 되면 무한적으로 반복이 가능하게 됨\n",
    "- block 주의 (indentation error)\n",
    "<br>\n",
    "\n",
    "for문\n",
    "- sequence 항목들을 하나하나 가져와서 특정 기능을 수행해야 할 때 유리\n",
    "- 횟수가 정해져 있어서, 횟수만큼 반복하고 싶을 때 유리\n",
    "    - range 함수 사용\n",
    "        - range(0, 10) : 0부터 9까지\n",
    "        - range(0, 10, 2) : 0부터 9까지 2의 스텝 (0, 2, 4, 6, 8)\n",
    "        - range 함수를 출력하면 range를 반환 \n",
    "        - 첫번째 parameter 생략 시 자동적으로 기본값 0 대입됨, 마지막 parameter 생략 시 자동적으로 기본값 1 대입됨(step)\n",
    "        - stop값은 반드시 필요함"
   ]
  },
  {
   "cell_type": "code",
   "execution_count": 4,
   "id": "54b040e0",
   "metadata": {
    "ExecuteTime": {
     "end_time": "2024-06-29T13:36:25.018724Z",
     "start_time": "2024-06-29T13:36:25.013864Z"
    }
   },
   "outputs": [
    {
     "name": "stdout",
     "output_type": "stream",
     "text": [
      "##########\n",
      "##########\n",
      "##########\n",
      "##########\n",
      "##########\n",
      "##########\n",
      "##########\n",
      "##########\n",
      "##########\n",
      "##########\n",
      "0 1 2 3 4 5 6 7 8 9 \n",
      "10 9 8 7 6 5 4 3 2 1 \n",
      "10 8 6 4 2 "
     ]
    }
   ],
   "source": [
    "# 반복문 연습\n",
    "\n",
    "for _ in range (10) :\n",
    "    print ('#' * 10)\n",
    "    \n",
    "for t in range (10) : \n",
    "    print (t, end=' ')\n",
    "print()\n",
    "\n",
    "'''\n",
    "for i in range (1, 11, -1) : \n",
    "    print (t, end=' ')\n",
    "'''\n",
    "\n",
    "for t in range (10, 0, -1) : # 10부터 1까지 거꾸로 출력\n",
    "    print (t, end=' ')\n",
    "    \n",
    "print()\n",
    "    \n",
    "for t in range (10, 0, -2) : # 10, 8, 6, 4, 2\n",
    "    print (t, end = ' ')"
   ]
  },
  {
   "cell_type": "code",
   "execution_count": 3,
   "id": "1a28c065",
   "metadata": {
    "ExecuteTime": {
     "end_time": "2024-06-29T13:39:46.541248Z",
     "start_time": "2024-06-29T13:39:44.735937Z"
    }
   },
   "outputs": [
    {
     "ename": "Terminator",
     "evalue": "",
     "output_type": "error",
     "traceback": [
      "\u001b[0;31m---------------------------------------------------------------------------\u001b[0m",
      "\u001b[0;31mTerminator\u001b[0m                                Traceback (most recent call last)",
      "Cell \u001b[0;32mIn[3], line 9\u001b[0m\n\u001b[1;32m      7\u001b[0m turtle\u001b[38;5;241m.\u001b[39mpenup() \u001b[38;5;66;03m# 펜 올리기\u001b[39;00m\n\u001b[1;32m      8\u001b[0m turtle\u001b[38;5;241m.\u001b[39mgoto(\u001b[38;5;241m200\u001b[39m, \u001b[38;5;241m0\u001b[39m) \u001b[38;5;66;03m# 이동\u001b[39;00m\n\u001b[0;32m----> 9\u001b[0m \u001b[43mturtle\u001b[49m\u001b[38;5;241;43m.\u001b[39;49m\u001b[43mpendown\u001b[49m\u001b[43m(\u001b[49m\u001b[43m)\u001b[49m \u001b[38;5;66;03m# 펜 내리기 (그 이후로부터는 써짐)\u001b[39;00m\n\u001b[1;32m     11\u001b[0m \u001b[38;5;28;01mfor\u001b[39;00m i \u001b[38;5;129;01min\u001b[39;00m \u001b[38;5;28mrange\u001b[39m (\u001b[38;5;241m4\u001b[39m) :\n\u001b[1;32m     12\u001b[0m     turtle\u001b[38;5;241m.\u001b[39mforward (\u001b[38;5;241m100\u001b[39m)\n",
      "File \u001b[0;32m<string>:5\u001b[0m, in \u001b[0;36mpendown\u001b[0;34m()\u001b[0m\n",
      "\u001b[0;31mTerminator\u001b[0m: "
     ]
    }
   ],
   "source": [
    "import turtle\n",
    "\n",
    "for i in range (3) :\n",
    "    turtle.forward (100) \n",
    "    turtle.left (360/3) # 정삼각형 그리기\n",
    "\n",
    "turtle.penup() # 펜 올리기\n",
    "turtle.goto(200, 0) # 이동\n",
    "turtle.pendown() # 펜 내리기 (그 이후로부터는 써짐)\n",
    "\n",
    "for i in range (4) :\n",
    "    turtle.forward (100)\n",
    "    turtle.left (360/4) # 정사각형 그리기"
   ]
  },
  {
   "cell_type": "code",
   "execution_count": 2,
   "id": "18e281d2",
   "metadata": {
    "ExecuteTime": {
     "end_time": "2024-06-29T13:39:42.147235Z",
     "start_time": "2024-06-29T13:39:35.344311Z"
    }
   },
   "outputs": [
    {
     "ename": "Terminator",
     "evalue": "",
     "output_type": "error",
     "traceback": [
      "\u001b[0;31m---------------------------------------------------------------------------\u001b[0m",
      "\u001b[0;31mTerminator\u001b[0m                                Traceback (most recent call last)",
      "Cell \u001b[0;32mIn[2], line 12\u001b[0m\n\u001b[1;32m      9\u001b[0m     t\u001b[38;5;241m.\u001b[39mleft (\u001b[38;5;241m360\u001b[39m\u001b[38;5;241m/\u001b[39mN)\n\u001b[1;32m     11\u001b[0m turtle\u001b[38;5;241m.\u001b[39mexitonclick()\n\u001b[0;32m---> 12\u001b[0m \u001b[43mturtle\u001b[49m\u001b[38;5;241;43m.\u001b[39;49m\u001b[43mmainloop\u001b[49m\u001b[43m(\u001b[49m\u001b[43m)\u001b[49m\n",
      "File \u001b[0;32m<string>:5\u001b[0m, in \u001b[0;36mmainloop\u001b[0;34m()\u001b[0m\n",
      "\u001b[0;31mTerminator\u001b[0m: "
     ]
    }
   ],
   "source": [
    "import turtle\n",
    "t = turtle.Turtle() # turtle 모듈에 있는 Turtle 클래스 객체를 t로 설정\n",
    "\n",
    "N = int(turtle.textinput(\"angle?\", \"number of angle?\"))\n",
    "length = int(turtle.textinput(\"length?\", \"length?\"))\n",
    "\n",
    "for _ in range (N) :\n",
    "    t.forward (length)\n",
    "    t.left (360/N) # left로 할 것 (외각 총합을 나누는 N)\n",
    "\n",
    "turtle.exitonclick()\n",
    "turtle.mainloop()"
   ]
  },
  {
   "cell_type": "code",
   "execution_count": 4,
   "id": "fd3be16a",
   "metadata": {
    "ExecuteTime": {
     "end_time": "2024-06-29T13:40:14.794626Z",
     "start_time": "2024-06-29T13:40:12.678335Z"
    }
   },
   "outputs": [
    {
     "ename": "Terminator",
     "evalue": "",
     "output_type": "error",
     "traceback": [
      "\u001b[0;31m---------------------------------------------------------------------------\u001b[0m",
      "\u001b[0;31mTerminator\u001b[0m                                Traceback (most recent call last)",
      "Cell \u001b[0;32mIn[4], line 9\u001b[0m\n\u001b[1;32m      6\u001b[0m length \u001b[38;5;241m=\u001b[39m random\u001b[38;5;241m.\u001b[39mrandrange(\u001b[38;5;241m0\u001b[39m, \u001b[38;5;241m101\u001b[39m)\n\u001b[1;32m      7\u001b[0m angle \u001b[38;5;241m=\u001b[39m random\u001b[38;5;241m.\u001b[39mrandrange(\u001b[38;5;241m-\u001b[39m\u001b[38;5;241m361\u001b[39m, \u001b[38;5;241m361\u001b[39m)\n\u001b[0;32m----> 9\u001b[0m \u001b[43mturtle\u001b[49m\u001b[38;5;241;43m.\u001b[39;49m\u001b[43mforward\u001b[49m\u001b[43m(\u001b[49m\u001b[43mlength\u001b[49m\u001b[43m)\u001b[49m\n\u001b[1;32m     10\u001b[0m turtle\u001b[38;5;241m.\u001b[39mright(angle)\n\u001b[1;32m     12\u001b[0m time\u001b[38;5;241m.\u001b[39msleep(\u001b[38;5;241m0.5\u001b[39m)\n",
      "File \u001b[0;32m<string>:5\u001b[0m, in \u001b[0;36mforward\u001b[0;34m(distance)\u001b[0m\n",
      "\u001b[0;31mTerminator\u001b[0m: "
     ]
    }
   ],
   "source": [
    "import random\n",
    "import turtle\n",
    "import time\n",
    "\n",
    "while True : # 술취한 거북이 예제\n",
    "    length = random.randrange(0, 101)\n",
    "    angle = random.randrange(-361, 361)\n",
    "    \n",
    "    turtle.forward(length)\n",
    "    turtle.right(angle)\n",
    "    \n",
    "    time.sleep(0.5)"
   ]
  },
  {
   "cell_type": "code",
   "execution_count": 10,
   "id": "37e45bdc",
   "metadata": {
    "ExecuteTime": {
     "end_time": "2024-06-29T13:42:34.044350Z",
     "start_time": "2024-06-29T13:42:32.083877Z"
    }
   },
   "outputs": [
    {
     "name": "stdout",
     "output_type": "stream",
     "text": [
      "n? : 10\n",
      "10 * 1 == 10\n",
      "10 * 2 == 20\n",
      "10 * 3 == 30\n",
      "10 * 4 == 40\n",
      "10 * 5 == 50\n",
      "10 * 6 == 60\n",
      "10 * 7 == 70\n",
      "10 * 8 == 80\n",
      "10 * 9 == 90\n",
      "\n",
      "10 * 1 == 10\n",
      "10 * 2 == 20\n",
      "10 * 3 == 30\n",
      "10 * 4 == 40\n",
      "10 * 5 == 50\n",
      "10 * 6 == 60\n",
      "10 * 7 == 70\n",
      "10 * 8 == 80\n",
      "10 * 9 == 90\n"
     ]
    }
   ],
   "source": [
    "# 구구단\n",
    "n = int(input('n? : '))\n",
    "\n",
    "i = 1\n",
    "\n",
    "while i < 10 :\n",
    "    print (f'{n} * {i} == {n * i}')\n",
    "    i += 1 \n",
    "\n",
    "print()\n",
    "    \n",
    "for i in range (1, 10) :\n",
    "    print (\"%d * %d == %d\" % (n, i, n*i)) # 형식 문자열을 사용하여 formatting할 경우 % () 형식으로 지정해주기"
   ]
  },
  {
   "cell_type": "code",
   "execution_count": 12,
   "id": "63bacdd9",
   "metadata": {
    "ExecuteTime": {
     "end_time": "2024-06-29T13:44:28.544086Z",
     "start_time": "2024-06-29T13:44:26.151659Z"
    }
   },
   "outputs": [],
   "source": [
    "import turtle \n",
    "\n",
    "i = 0\n",
    "\n",
    "while i < 5 : \n",
    "    turtle.forward(100)\n",
    "    turtle.right(144) # 별 그릴 때는 144 right\n",
    "    \n",
    "    i += 1"
   ]
  },
  {
   "cell_type": "code",
   "execution_count": null,
   "id": "18199f9b",
   "metadata": {
    "ExecuteTime": {
     "start_time": "2024-06-29T14:00:37.443Z"
    }
   },
   "outputs": [
    {
     "name": "stderr",
     "output_type": "stream",
     "text": [
      "2024-06-29 23:00:37.649 Python[98933:1050211] WARNING: Secure coding is not enabled for restorable state! Enable secure coding by implementing NSApplicationDelegate.applicationSupportsSecureRestorableState: and returning YES.\n"
     ]
    }
   ],
   "source": [
    "# 기하학적 디자인\n",
    "import turtle \n",
    "turtle.speed(0)\n",
    "\n",
    "i = 0\n",
    "\n",
    "while i < 1000 : \n",
    "    turtle.forward(i)\n",
    "    turtle.right(89)\n",
    "    i += 1"
   ]
  },
  {
   "cell_type": "code",
   "execution_count": 2,
   "id": "2362ea15",
   "metadata": {
    "ExecuteTime": {
     "end_time": "2024-06-29T14:01:10.255692Z",
     "start_time": "2024-06-29T14:01:03.200012Z"
    }
   },
   "outputs": [
    {
     "name": "stdout",
     "output_type": "stream",
     "text": [
      "숫자를 입력하세요 :10\n",
      "계속합니까? (y / n) : y\n",
      "숫자를 입력하세요 :20\n",
      "계속합니까? (y / n) : y\n",
      "숫자를 입력하세요 :30\n",
      "계속합니까? (y / n) : y\n",
      "숫자를 입력하세요 :40\n",
      "계속합니까? (y / n) : y\n",
      "숫자를 입력하세요 :50\n",
      "계속합니까? (y / n) : n\n",
      "150\n"
     ]
    }
   ],
   "source": [
    "sumation = 0\n",
    "\n",
    "while True :\n",
    "    num = int(input(\"숫자를 입력하세요 :\"))\n",
    "    \n",
    "    sumation += num\n",
    "    \n",
    "    command = input(\"계속합니까? (y / n) : \")\n",
    "    \n",
    "    if command == 'y' : \n",
    "        pass\n",
    "    \n",
    "    else : \n",
    "        break\n",
    "        \n",
    "print (sumation)"
   ]
  },
  {
   "cell_type": "code",
   "execution_count": 3,
   "id": "08a2377e",
   "metadata": {
    "ExecuteTime": {
     "end_time": "2024-06-29T14:01:23.231785Z",
     "start_time": "2024-06-29T14:01:16.655950Z"
    }
   },
   "outputs": [
    {
     "name": "stdout",
     "output_type": "stream",
     "text": [
      "29\n",
      "20\n",
      "up\n",
      "50\n",
      "down\n",
      "30\n",
      "down\n",
      "29\n",
      "equal\n"
     ]
    }
   ],
   "source": [
    "import random\n",
    "\n",
    "com = random.randint(1, 101)\n",
    "print(com)\n",
    "\n",
    "while True : \n",
    "    user = int(input())\n",
    "    \n",
    "    if com > user : \n",
    "        print (\"up\")\n",
    "        \n",
    "    elif com < user : \n",
    "        print (\"down\")\n",
    "        \n",
    "    else : \n",
    "        print (\"equal\")\n",
    "        break"
   ]
  },
  {
   "cell_type": "code",
   "execution_count": 4,
   "id": "4ff0fde5",
   "metadata": {
    "ExecuteTime": {
     "end_time": "2024-06-29T14:01:25.101328Z",
     "start_time": "2024-06-29T14:01:25.096494Z"
    }
   },
   "outputs": [
    {
     "name": "stdout",
     "output_type": "stream",
     "text": [
      "호밀빵 미트볼 양상추 마요네즈\n",
      "호밀빵 미트볼 양상추 허니 머스타드\n",
      "호밀빵 미트볼 양상추 칠리\n",
      "호밀빵 미트볼 토마토 마요네즈\n",
      "호밀빵 미트볼 토마토 허니 머스타드\n",
      "호밀빵 미트볼 토마토 칠리\n",
      "호밀빵 미트볼 오이 마요네즈\n",
      "호밀빵 미트볼 오이 허니 머스타드\n",
      "호밀빵 미트볼 오이 칠리\n",
      "호밀빵 소시지 양상추 마요네즈\n",
      "호밀빵 소시지 양상추 허니 머스타드\n",
      "호밀빵 소시지 양상추 칠리\n",
      "호밀빵 소시지 토마토 마요네즈\n",
      "호밀빵 소시지 토마토 허니 머스타드\n",
      "호밀빵 소시지 토마토 칠리\n",
      "호밀빵 소시지 오이 마요네즈\n",
      "호밀빵 소시지 오이 허니 머스타드\n",
      "호밀빵 소시지 오이 칠리\n",
      "호밀빵 닭가슴살 양상추 마요네즈\n",
      "호밀빵 닭가슴살 양상추 허니 머스타드\n",
      "호밀빵 닭가슴살 양상추 칠리\n",
      "호밀빵 닭가슴살 토마토 마요네즈\n",
      "호밀빵 닭가슴살 토마토 허니 머스타드\n",
      "호밀빵 닭가슴살 토마토 칠리\n",
      "호밀빵 닭가슴살 오이 마요네즈\n",
      "호밀빵 닭가슴살 오이 허니 머스타드\n",
      "호밀빵 닭가슴살 오이 칠리\n",
      "위트 미트볼 양상추 마요네즈\n",
      "위트 미트볼 양상추 허니 머스타드\n",
      "위트 미트볼 양상추 칠리\n",
      "위트 미트볼 토마토 마요네즈\n",
      "위트 미트볼 토마토 허니 머스타드\n",
      "위트 미트볼 토마토 칠리\n",
      "위트 미트볼 오이 마요네즈\n",
      "위트 미트볼 오이 허니 머스타드\n",
      "위트 미트볼 오이 칠리\n",
      "위트 소시지 양상추 마요네즈\n",
      "위트 소시지 양상추 허니 머스타드\n",
      "위트 소시지 양상추 칠리\n",
      "위트 소시지 토마토 마요네즈\n",
      "위트 소시지 토마토 허니 머스타드\n",
      "위트 소시지 토마토 칠리\n",
      "위트 소시지 오이 마요네즈\n",
      "위트 소시지 오이 허니 머스타드\n",
      "위트 소시지 오이 칠리\n",
      "위트 닭가슴살 양상추 마요네즈\n",
      "위트 닭가슴살 양상추 허니 머스타드\n",
      "위트 닭가슴살 양상추 칠리\n",
      "위트 닭가슴살 토마토 마요네즈\n",
      "위트 닭가슴살 토마토 허니 머스타드\n",
      "위트 닭가슴살 토마토 칠리\n",
      "위트 닭가슴살 오이 마요네즈\n",
      "위트 닭가슴살 오이 허니 머스타드\n",
      "위트 닭가슴살 오이 칠리\n",
      "화이트 미트볼 양상추 마요네즈\n",
      "화이트 미트볼 양상추 허니 머스타드\n",
      "화이트 미트볼 양상추 칠리\n",
      "화이트 미트볼 토마토 마요네즈\n",
      "화이트 미트볼 토마토 허니 머스타드\n",
      "화이트 미트볼 토마토 칠리\n",
      "화이트 미트볼 오이 마요네즈\n",
      "화이트 미트볼 오이 허니 머스타드\n",
      "화이트 미트볼 오이 칠리\n",
      "화이트 소시지 양상추 마요네즈\n",
      "화이트 소시지 양상추 허니 머스타드\n",
      "화이트 소시지 양상추 칠리\n",
      "화이트 소시지 토마토 마요네즈\n",
      "화이트 소시지 토마토 허니 머스타드\n",
      "화이트 소시지 토마토 칠리\n",
      "화이트 소시지 오이 마요네즈\n",
      "화이트 소시지 오이 허니 머스타드\n",
      "화이트 소시지 오이 칠리\n",
      "화이트 닭가슴살 양상추 마요네즈\n",
      "화이트 닭가슴살 양상추 허니 머스타드\n",
      "화이트 닭가슴살 양상추 칠리\n",
      "화이트 닭가슴살 토마토 마요네즈\n",
      "화이트 닭가슴살 토마토 허니 머스타드\n",
      "화이트 닭가슴살 토마토 칠리\n",
      "화이트 닭가슴살 오이 마요네즈\n",
      "화이트 닭가슴살 오이 허니 머스타드\n",
      "화이트 닭가슴살 오이 칠리\n"
     ]
    }
   ],
   "source": [
    "breads = [\"호밀빵\", \"위트\", \"화이트\"]\n",
    "meats = [\"미트볼\", \"소시지\", \"닭가슴살\"]\n",
    "vegis = [\"양상추\", \"토마토\", \"오이\"]\n",
    "sauces = [\"마요네즈\", \"허니 머스타드\", \"칠리\"]\n",
    "\n",
    "for b in breads : \n",
    "    for m in meats : \n",
    "        for v in vegis : \n",
    "            for s in sauces : \n",
    "                print (b, m, v, s)"
   ]
  },
  {
   "cell_type": "code",
   "execution_count": 6,
   "id": "ede32ca1",
   "metadata": {
    "ExecuteTime": {
     "end_time": "2024-06-29T14:01:53.316540Z",
     "start_time": "2024-06-29T14:01:53.312650Z"
    }
   },
   "outputs": [
    {
     "name": "stdout",
     "output_type": "stream",
     "text": [
      "1 * 1 == 1\n",
      "1 * 2 == 2\n",
      "1 * 3 == 3\n",
      "1 * 4 == 4\n",
      "1 * 5 == 5\n",
      "1 * 6 == 6\n",
      "1 * 7 == 7\n",
      "1 * 8 == 8\n",
      "1 * 9 == 9\n",
      "2 * 1 == 2\n",
      "2 * 2 == 4\n",
      "2 * 3 == 6\n",
      "2 * 4 == 8\n",
      "2 * 5 == 10\n",
      "2 * 6 == 12\n",
      "2 * 7 == 14\n",
      "2 * 8 == 16\n",
      "2 * 9 == 18\n",
      "3 * 1 == 3\n",
      "3 * 2 == 6\n",
      "3 * 3 == 9\n",
      "3 * 4 == 12\n",
      "3 * 5 == 15\n",
      "3 * 6 == 18\n",
      "3 * 7 == 21\n",
      "3 * 8 == 24\n",
      "3 * 9 == 27\n",
      "4 * 1 == 4\n",
      "4 * 2 == 8\n",
      "4 * 3 == 12\n",
      "4 * 4 == 16\n",
      "4 * 5 == 20\n",
      "4 * 6 == 24\n",
      "4 * 7 == 28\n",
      "4 * 8 == 32\n",
      "4 * 9 == 36\n",
      "5 * 1 == 5\n",
      "5 * 2 == 10\n",
      "5 * 3 == 15\n",
      "5 * 4 == 20\n",
      "5 * 5 == 25\n",
      "5 * 6 == 30\n",
      "5 * 7 == 35\n",
      "5 * 8 == 40\n",
      "5 * 9 == 45\n",
      "6 * 1 == 6\n",
      "6 * 2 == 12\n",
      "6 * 3 == 18\n",
      "6 * 4 == 24\n",
      "6 * 5 == 30\n",
      "6 * 6 == 36\n",
      "6 * 7 == 42\n",
      "6 * 8 == 48\n",
      "6 * 9 == 54\n",
      "7 * 1 == 7\n",
      "7 * 2 == 14\n",
      "7 * 3 == 21\n",
      "7 * 4 == 28\n",
      "7 * 5 == 35\n",
      "7 * 6 == 42\n",
      "7 * 7 == 49\n",
      "7 * 8 == 56\n",
      "7 * 9 == 63\n",
      "8 * 1 == 8\n",
      "8 * 2 == 16\n",
      "8 * 3 == 24\n",
      "8 * 4 == 32\n",
      "8 * 5 == 40\n",
      "8 * 6 == 48\n",
      "8 * 7 == 56\n",
      "8 * 8 == 64\n",
      "8 * 9 == 72\n",
      "9 * 1 == 9\n",
      "9 * 2 == 18\n",
      "9 * 3 == 27\n",
      "9 * 4 == 36\n",
      "9 * 5 == 45\n",
      "9 * 6 == 54\n",
      "9 * 7 == 63\n",
      "9 * 8 == 72\n",
      "9 * 9 == 81\n"
     ]
    }
   ],
   "source": [
    "i = 1\n",
    "j = 1\n",
    "\n",
    "while i < 10 :  \n",
    "    j = 1\n",
    "    \n",
    "    while j < 10 : \n",
    "        # print (f'{i} * {j} == {i * j}')\n",
    "        print (\"%d * %d == %d\" % (i, j, i*j))\n",
    "        j += 1\n",
    "        \n",
    "    i += 1"
   ]
  },
  {
   "cell_type": "code",
   "execution_count": 7,
   "id": "d662ead7",
   "metadata": {
    "ExecuteTime": {
     "end_time": "2024-06-29T14:01:56.628200Z",
     "start_time": "2024-06-29T14:01:56.624612Z"
    }
   },
   "outputs": [
    {
     "name": "stdout",
     "output_type": "stream",
     "text": [
      "daramji is very cu"
     ]
    }
   ],
   "source": [
    "sentence = \"daramji is very cute animal\"\n",
    "\n",
    "for char in sentence : \n",
    "    if char != 't' :\n",
    "        print (char, end='')\n",
    "        continue\n",
    "        \n",
    "    break"
   ]
  }
 ],
 "metadata": {
  "kernelspec": {
   "display_name": "Python 3 (ipykernel)",
   "language": "python",
   "name": "python3"
  },
  "language_info": {
   "codemirror_mode": {
    "name": "ipython",
    "version": 3
   },
   "file_extension": ".py",
   "mimetype": "text/x-python",
   "name": "python",
   "nbconvert_exporter": "python",
   "pygments_lexer": "ipython3",
   "version": "3.11.6"
  }
 },
 "nbformat": 4,
 "nbformat_minor": 5
}
